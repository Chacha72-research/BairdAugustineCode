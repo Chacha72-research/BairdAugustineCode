{
 "cells": [
  {
   "cell_type": "code",
   "execution_count": 4,
   "metadata": {},
   "outputs": [
    {
     "name": "stdout",
     "output_type": "stream",
     "text": [
      "Dividend per Share for ORCL: 0.4\n",
      "Required Rate of Return for ORCL: 23.456822383225965\n"
     ]
    },
    {
     "name": "stderr",
     "output_type": "stream",
     "text": [
      "/var/folders/mf/zm3qz5852hs67j4m4hwml0z80000gn/T/ipykernel_54164/356366209.py:336: FutureWarning: Series.__getitem__ treating keys as positions is deprecated. In a future version, integer keys will always be treated as labels (consistent with DataFrame behavior). To access a value by position, use `ser.iloc[pos]`\n",
      "  total_return = (data['Close'][-1] / data['Close'][0]) - 1\n"
     ]
    },
    {
     "name": "stdout",
     "output_type": "stream",
     "text": [
      "No dividend data available for NFLX. Company doesn't give out dividends.\n",
      "Dividend per Share for NFLX: N/A\n",
      "Required Rate of Return for NFLX: 29.273716112075665\n"
     ]
    },
    {
     "name": "stderr",
     "output_type": "stream",
     "text": [
      "/var/folders/mf/zm3qz5852hs67j4m4hwml0z80000gn/T/ipykernel_54164/356366209.py:336: FutureWarning: Series.__getitem__ treating keys as positions is deprecated. In a future version, integer keys will always be treated as labels (consistent with DataFrame behavior). To access a value by position, use `ser.iloc[pos]`\n",
      "  total_return = (data['Close'][-1] / data['Close'][0]) - 1\n"
     ]
    },
    {
     "name": "stdout",
     "output_type": "stream",
     "text": [
      "Dividend per Share for ADBE: 0.0065\n",
      "Required Rate of Return for ADBE: 30.01236928399309\n"
     ]
    },
    {
     "name": "stderr",
     "output_type": "stream",
     "text": [
      "/var/folders/mf/zm3qz5852hs67j4m4hwml0z80000gn/T/ipykernel_54164/356366209.py:336: FutureWarning: Series.__getitem__ treating keys as positions is deprecated. In a future version, integer keys will always be treated as labels (consistent with DataFrame behavior). To access a value by position, use `ser.iloc[pos]`\n",
      "  total_return = (data['Close'][-1] / data['Close'][0]) - 1\n"
     ]
    },
    {
     "name": "stdout",
     "output_type": "stream",
     "text": [
      "Dividend per Share for CRM: 0.4\n",
      "Required Rate of Return for CRM: 29.87387181425857\n"
     ]
    },
    {
     "name": "stderr",
     "output_type": "stream",
     "text": [
      "/var/folders/mf/zm3qz5852hs67j4m4hwml0z80000gn/T/ipykernel_54164/356366209.py:336: FutureWarning: Series.__getitem__ treating keys as positions is deprecated. In a future version, integer keys will always be treated as labels (consistent with DataFrame behavior). To access a value by position, use `ser.iloc[pos]`\n",
      "  total_return = (data['Close'][-1] / data['Close'][0]) - 1\n"
     ]
    },
    {
     "name": "stdout",
     "output_type": "stream",
     "text": [
      "Dividend per Share for INTU: 0.9\n",
      "Required Rate of Return for INTU: 28.488897116913403\n"
     ]
    },
    {
     "name": "stderr",
     "output_type": "stream",
     "text": [
      "/var/folders/mf/zm3qz5852hs67j4m4hwml0z80000gn/T/ipykernel_54164/356366209.py:336: FutureWarning: Series.__getitem__ treating keys as positions is deprecated. In a future version, integer keys will always be treated as labels (consistent with DataFrame behavior). To access a value by position, use `ser.iloc[pos]`\n",
      "  total_return = (data['Close'][-1] / data['Close'][0]) - 1\n"
     ]
    },
    {
     "name": "stdout",
     "output_type": "stream",
     "text": [
      "No dividend data available for NOW. Company doesn't give out dividends.\n",
      "Dividend per Share for NOW: N/A\n",
      "Required Rate of Return for NOW: 22.972081239155155\n"
     ]
    },
    {
     "name": "stderr",
     "output_type": "stream",
     "text": [
      "/var/folders/mf/zm3qz5852hs67j4m4hwml0z80000gn/T/ipykernel_54164/356366209.py:336: FutureWarning: Series.__getitem__ treating keys as positions is deprecated. In a future version, integer keys will always be treated as labels (consistent with DataFrame behavior). To access a value by position, use `ser.iloc[pos]`\n",
      "  total_return = (data['Close'][-1] / data['Close'][0]) - 1\n"
     ]
    },
    {
     "name": "stdout",
     "output_type": "stream",
     "text": [
      "No dividend data available for PANW. Company doesn't give out dividends.\n",
      "Dividend per Share for PANW: N/A\n",
      "Required Rate of Return for PANW: 26.48068380576291\n"
     ]
    },
    {
     "name": "stderr",
     "output_type": "stream",
     "text": [
      "/var/folders/mf/zm3qz5852hs67j4m4hwml0z80000gn/T/ipykernel_54164/356366209.py:336: FutureWarning: Series.__getitem__ treating keys as positions is deprecated. In a future version, integer keys will always be treated as labels (consistent with DataFrame behavior). To access a value by position, use `ser.iloc[pos]`\n",
      "  total_return = (data['Close'][-1] / data['Close'][0]) - 1\n"
     ]
    },
    {
     "name": "stdout",
     "output_type": "stream",
     "text": [
      "Dividend per Share for ADP: 1.4\n",
      "Required Rate of Return for ADP: 18.30933309142643\n"
     ]
    },
    {
     "name": "stderr",
     "output_type": "stream",
     "text": [
      "/var/folders/mf/zm3qz5852hs67j4m4hwml0z80000gn/T/ipykernel_54164/356366209.py:336: FutureWarning: Series.__getitem__ treating keys as positions is deprecated. In a future version, integer keys will always be treated as labels (consistent with DataFrame behavior). To access a value by position, use `ser.iloc[pos]`\n",
      "  total_return = (data['Close'][-1] / data['Close'][0]) - 1\n"
     ]
    },
    {
     "name": "stdout",
     "output_type": "stream",
     "text": [
      "No dividend data available for CRWD. Company doesn't give out dividends.\n",
      "Dividend per Share for CRWD: N/A\n",
      "Required Rate of Return for CRWD: 25.32653822464194\n"
     ]
    },
    {
     "name": "stderr",
     "output_type": "stream",
     "text": [
      "/var/folders/mf/zm3qz5852hs67j4m4hwml0z80000gn/T/ipykernel_54164/356366209.py:336: FutureWarning: Series.__getitem__ treating keys as positions is deprecated. In a future version, integer keys will always be treated as labels (consistent with DataFrame behavior). To access a value by position, use `ser.iloc[pos]`\n",
      "  total_return = (data['Close'][-1] / data['Close'][0]) - 1\n"
     ]
    },
    {
     "name": "stdout",
     "output_type": "stream",
     "text": [
      "No dividend data available for SHOP. Company doesn't give out dividends.\n",
      "Dividend per Share for SHOP: N/A\n",
      "Required Rate of Return for SHOP: 52.97986634830043\n"
     ]
    },
    {
     "name": "stderr",
     "output_type": "stream",
     "text": [
      "/var/folders/mf/zm3qz5852hs67j4m4hwml0z80000gn/T/ipykernel_54164/356366209.py:336: FutureWarning: Series.__getitem__ treating keys as positions is deprecated. In a future version, integer keys will always be treated as labels (consistent with DataFrame behavior). To access a value by position, use `ser.iloc[pos]`\n",
      "  total_return = (data['Close'][-1] / data['Close'][0]) - 1\n"
     ]
    },
    {
     "name": "stdout",
     "output_type": "stream",
     "text": [
      "No dividend data available for SPOT. Company doesn't give out dividends.\n",
      "Dividend per Share for SPOT: N/A\n",
      "Required Rate of Return for SPOT: 36.84491112422924\n"
     ]
    },
    {
     "name": "stderr",
     "output_type": "stream",
     "text": [
      "/var/folders/mf/zm3qz5852hs67j4m4hwml0z80000gn/T/ipykernel_54164/356366209.py:336: FutureWarning: Series.__getitem__ treating keys as positions is deprecated. In a future version, integer keys will always be treated as labels (consistent with DataFrame behavior). To access a value by position, use `ser.iloc[pos]`\n",
      "  total_return = (data['Close'][-1] / data['Close'][0]) - 1\n"
     ]
    },
    {
     "name": "stdout",
     "output_type": "stream",
     "text": [
      "No dividend data available for WDAY. Company doesn't give out dividends.\n",
      "Dividend per Share for WDAY: N/A\n",
      "Required Rate of Return for WDAY: 31.305012334848577\n"
     ]
    },
    {
     "name": "stderr",
     "output_type": "stream",
     "text": [
      "/var/folders/mf/zm3qz5852hs67j4m4hwml0z80000gn/T/ipykernel_54164/356366209.py:336: FutureWarning: Series.__getitem__ treating keys as positions is deprecated. In a future version, integer keys will always be treated as labels (consistent with DataFrame behavior). To access a value by position, use `ser.iloc[pos]`\n",
      "  total_return = (data['Close'][-1] / data['Close'][0]) - 1\n"
     ]
    },
    {
     "name": "stdout",
     "output_type": "stream",
     "text": [
      "No dividend data available for PLTR. Company doesn't give out dividends.\n",
      "Dividend per Share for PLTR: N/A\n",
      "Required Rate of Return for PLTR: 62.46694302511482\n"
     ]
    },
    {
     "name": "stderr",
     "output_type": "stream",
     "text": [
      "/var/folders/mf/zm3qz5852hs67j4m4hwml0z80000gn/T/ipykernel_54164/356366209.py:336: FutureWarning: Series.__getitem__ treating keys as positions is deprecated. In a future version, integer keys will always be treated as labels (consistent with DataFrame behavior). To access a value by position, use `ser.iloc[pos]`\n",
      "  total_return = (data['Close'][-1] / data['Close'][0]) - 1\n"
     ]
    },
    {
     "name": "stdout",
     "output_type": "stream",
     "text": [
      "Dividend per Share for ADSK: 0.015\n",
      "Required Rate of Return for ADSK: 34.32887375738552\n"
     ]
    },
    {
     "name": "stderr",
     "output_type": "stream",
     "text": [
      "/var/folders/mf/zm3qz5852hs67j4m4hwml0z80000gn/T/ipykernel_54164/356366209.py:336: FutureWarning: Series.__getitem__ treating keys as positions is deprecated. In a future version, integer keys will always be treated as labels (consistent with DataFrame behavior). To access a value by position, use `ser.iloc[pos]`\n",
      "  total_return = (data['Close'][-1] / data['Close'][0]) - 1\n"
     ]
    },
    {
     "name": "stdout",
     "output_type": "stream",
     "text": [
      "No dividend data available for TTD. Company doesn't give out dividends.\n",
      "Dividend per Share for TTD: N/A\n",
      "Required Rate of Return for TTD: N/A\n"
     ]
    },
    {
     "name": "stderr",
     "output_type": "stream",
     "text": [
      "/var/folders/mf/zm3qz5852hs67j4m4hwml0z80000gn/T/ipykernel_54164/356366209.py:336: FutureWarning: Series.__getitem__ treating keys as positions is deprecated. In a future version, integer keys will always be treated as labels (consistent with DataFrame behavior). To access a value by position, use `ser.iloc[pos]`\n",
      "  total_return = (data['Close'][-1] / data['Close'][0]) - 1\n"
     ]
    },
    {
     "name": "stdout",
     "output_type": "stream",
     "text": [
      "No dividend data available for TEAM. Company doesn't give out dividends.\n",
      "Dividend per Share for TEAM: N/A\n",
      "Required Rate of Return for TEAM: 17.270602068417556\n"
     ]
    },
    {
     "name": "stderr",
     "output_type": "stream",
     "text": [
      "/var/folders/mf/zm3qz5852hs67j4m4hwml0z80000gn/T/ipykernel_54164/356366209.py:336: FutureWarning: Series.__getitem__ treating keys as positions is deprecated. In a future version, integer keys will always be treated as labels (consistent with DataFrame behavior). To access a value by position, use `ser.iloc[pos]`\n",
      "  total_return = (data['Close'][-1] / data['Close'][0]) - 1\n"
     ]
    },
    {
     "name": "stdout",
     "output_type": "stream",
     "text": [
      "No dividend data available for FTNT. Company doesn't give out dividends.\n",
      "Dividend per Share for FTNT: N/A\n",
      "Required Rate of Return for FTNT: 22.648920476441283\n"
     ]
    },
    {
     "name": "stderr",
     "output_type": "stream",
     "text": [
      "/var/folders/mf/zm3qz5852hs67j4m4hwml0z80000gn/T/ipykernel_54164/356366209.py:336: FutureWarning: Series.__getitem__ treating keys as positions is deprecated. In a future version, integer keys will always be treated as labels (consistent with DataFrame behavior). To access a value by position, use `ser.iloc[pos]`\n",
      "  total_return = (data['Close'][-1] / data['Close'][0]) - 1\n"
     ]
    },
    {
     "name": "stdout",
     "output_type": "stream",
     "text": [
      "No dividend data available for SNOW. Company doesn't give out dividends.\n",
      "Dividend per Share for SNOW: N/A\n",
      "Required Rate of Return for SNOW: 19.55581031903708\n"
     ]
    },
    {
     "name": "stderr",
     "output_type": "stream",
     "text": [
      "/var/folders/mf/zm3qz5852hs67j4m4hwml0z80000gn/T/ipykernel_54164/356366209.py:336: FutureWarning: Series.__getitem__ treating keys as positions is deprecated. In a future version, integer keys will always be treated as labels (consistent with DataFrame behavior). To access a value by position, use `ser.iloc[pos]`\n",
      "  total_return = (data['Close'][-1] / data['Close'][0]) - 1\n"
     ]
    },
    {
     "name": "stdout",
     "output_type": "stream",
     "text": [
      "No dividend data available for DDOG. Company doesn't give out dividends.\n",
      "Dividend per Share for DDOG: N/A\n",
      "Required Rate of Return for DDOG: 25.626616075733395\n"
     ]
    },
    {
     "name": "stderr",
     "output_type": "stream",
     "text": [
      "/var/folders/mf/zm3qz5852hs67j4m4hwml0z80000gn/T/ipykernel_54164/356366209.py:336: FutureWarning: Series.__getitem__ treating keys as positions is deprecated. In a future version, integer keys will always be treated as labels (consistent with DataFrame behavior). To access a value by position, use `ser.iloc[pos]`\n",
      "  total_return = (data['Close'][-1] / data['Close'][0]) - 1\n"
     ]
    },
    {
     "name": "stdout",
     "output_type": "stream",
     "text": [
      "No dividend data available for HUBS. Company doesn't give out dividends.\n",
      "Dividend per Share for HUBS: N/A\n",
      "Required Rate of Return for HUBS: 37.006491505586176\n"
     ]
    },
    {
     "name": "stderr",
     "output_type": "stream",
     "text": [
      "/var/folders/mf/zm3qz5852hs67j4m4hwml0z80000gn/T/ipykernel_54164/356366209.py:336: FutureWarning: Series.__getitem__ treating keys as positions is deprecated. In a future version, integer keys will always be treated as labels (consistent with DataFrame behavior). To access a value by position, use `ser.iloc[pos]`\n",
      "  total_return = (data['Close'][-1] / data['Close'][0]) - 1\n"
     ]
    },
    {
     "name": "stdout",
     "output_type": "stream",
     "text": [
      "No dividend data available for ANSS. Company doesn't give out dividends.\n",
      "Dividend per Share for ANSS: N/A\n",
      "Required Rate of Return for ANSS: 25.626616075733395\n"
     ]
    },
    {
     "name": "stderr",
     "output_type": "stream",
     "text": [
      "/var/folders/mf/zm3qz5852hs67j4m4hwml0z80000gn/T/ipykernel_54164/356366209.py:336: FutureWarning: Series.__getitem__ treating keys as positions is deprecated. In a future version, integer keys will always be treated as labels (consistent with DataFrame behavior). To access a value by position, use `ser.iloc[pos]`\n",
      "  total_return = (data['Close'][-1] / data['Close'][0]) - 1\n"
     ]
    },
    {
     "name": "stdout",
     "output_type": "stream",
     "text": [
      "No dividend data available for ZS. Company doesn't give out dividends.\n",
      "Dividend per Share for ZS: N/A\n",
      "Required Rate of Return for ZS: 19.48656158416982\n"
     ]
    },
    {
     "name": "stderr",
     "output_type": "stream",
     "text": [
      "/var/folders/mf/zm3qz5852hs67j4m4hwml0z80000gn/T/ipykernel_54164/356366209.py:336: FutureWarning: Series.__getitem__ treating keys as positions is deprecated. In a future version, integer keys will always be treated as labels (consistent with DataFrame behavior). To access a value by position, use `ser.iloc[pos]`\n",
      "  total_return = (data['Close'][-1] / data['Close'][0]) - 1\n"
     ]
    },
    {
     "name": "stdout",
     "output_type": "stream",
     "text": [
      "No dividend data available for NET. Company doesn't give out dividends.\n",
      "Dividend per Share for NET: N/A\n",
      "Required Rate of Return for NET: 25.44195278275404\n"
     ]
    },
    {
     "name": "stderr",
     "output_type": "stream",
     "text": [
      "/var/folders/mf/zm3qz5852hs67j4m4hwml0z80000gn/T/ipykernel_54164/356366209.py:336: FutureWarning: Series.__getitem__ treating keys as positions is deprecated. In a future version, integer keys will always be treated as labels (consistent with DataFrame behavior). To access a value by position, use `ser.iloc[pos]`\n",
      "  total_return = (data['Close'][-1] / data['Close'][0]) - 1\n"
     ]
    },
    {
     "name": "stdout",
     "output_type": "stream",
     "text": [
      "No dividend data available for APP. Company doesn't give out dividends.\n",
      "Dividend per Share for APP: N/A\n",
      "Required Rate of Return for APP: 42.84646814605829\n"
     ]
    },
    {
     "name": "stderr",
     "output_type": "stream",
     "text": [
      "/var/folders/mf/zm3qz5852hs67j4m4hwml0z80000gn/T/ipykernel_54164/356366209.py:336: FutureWarning: Series.__getitem__ treating keys as positions is deprecated. In a future version, integer keys will always be treated as labels (consistent with DataFrame behavior). To access a value by position, use `ser.iloc[pos]`\n",
      "  total_return = (data['Close'][-1] / data['Close'][0]) - 1\n"
     ]
    },
    {
     "name": "stdout",
     "output_type": "stream",
     "text": [
      "No dividend data available for MSTR. Company doesn't give out dividends.\n",
      "Dividend per Share for MSTR: N/A\n",
      "Required Rate of Return for MSTR: 71.93093679030679\n"
     ]
    },
    {
     "name": "stderr",
     "output_type": "stream",
     "text": [
      "/var/folders/mf/zm3qz5852hs67j4m4hwml0z80000gn/T/ipykernel_54164/356366209.py:336: FutureWarning: Series.__getitem__ treating keys as positions is deprecated. In a future version, integer keys will always be treated as labels (consistent with DataFrame behavior). To access a value by position, use `ser.iloc[pos]`\n",
      "  total_return = (data['Close'][-1] / data['Close'][0]) - 1\n"
     ]
    },
    {
     "name": "stdout",
     "output_type": "stream",
     "text": [
      "No dividend data available for GDDY. Company doesn't give out dividends.\n",
      "Dividend per Share for GDDY: N/A\n",
      "Required Rate of Return for GDDY: 26.36526924765081\n"
     ]
    },
    {
     "name": "stderr",
     "output_type": "stream",
     "text": [
      "/var/folders/mf/zm3qz5852hs67j4m4hwml0z80000gn/T/ipykernel_54164/356366209.py:336: FutureWarning: Series.__getitem__ treating keys as positions is deprecated. In a future version, integer keys will always be treated as labels (consistent with DataFrame behavior). To access a value by position, use `ser.iloc[pos]`\n",
      "  total_return = (data['Close'][-1] / data['Close'][0]) - 1\n"
     ]
    },
    {
     "name": "stdout",
     "output_type": "stream",
     "text": [
      "No dividend data available for MDB. Company doesn't give out dividends.\n",
      "Dividend per Share for MDB: N/A\n",
      "Required Rate of Return for MDB: 26.13444013142662\n"
     ]
    },
    {
     "name": "stderr",
     "output_type": "stream",
     "text": [
      "/var/folders/mf/zm3qz5852hs67j4m4hwml0z80000gn/T/ipykernel_54164/356366209.py:336: FutureWarning: Series.__getitem__ treating keys as positions is deprecated. In a future version, integer keys will always be treated as labels (consistent with DataFrame behavior). To access a value by position, use `ser.iloc[pos]`\n",
      "  total_return = (data['Close'][-1] / data['Close'][0]) - 1\n"
     ]
    },
    {
     "name": "stdout",
     "output_type": "stream",
     "text": [
      "No dividend data available for ZM. Company doesn't give out dividends.\n",
      "Dividend per Share for ZM: N/A\n",
      "Required Rate of Return for ZM: -1.264975964385257\n"
     ]
    },
    {
     "name": "stderr",
     "output_type": "stream",
     "text": [
      "/var/folders/mf/zm3qz5852hs67j4m4hwml0z80000gn/T/ipykernel_54164/356366209.py:336: FutureWarning: Series.__getitem__ treating keys as positions is deprecated. In a future version, integer keys will always be treated as labels (consistent with DataFrame behavior). To access a value by position, use `ser.iloc[pos]`\n",
      "  total_return = (data['Close'][-1] / data['Close'][0]) - 1\n"
     ]
    },
    {
     "name": "stdout",
     "output_type": "stream",
     "text": [
      "Error retrieving cash and cash equivalents: 'Total Debt'\n",
      "Error retrieving cash and cash equivalents: 'Total Debt'\n",
      "Error retrieving cash and cash equivalents: 'Total Debt'\n",
      "No dividend data available for CHKP. Company doesn't give out dividends.\n",
      "Dividend per Share for CHKP: N/A\n",
      "Required Rate of Return for CHKP: 14.454486850482382\n"
     ]
    },
    {
     "name": "stderr",
     "output_type": "stream",
     "text": [
      "/var/folders/mf/zm3qz5852hs67j4m4hwml0z80000gn/T/ipykernel_54164/356366209.py:336: FutureWarning: Series.__getitem__ treating keys as positions is deprecated. In a future version, integer keys will always be treated as labels (consistent with DataFrame behavior). To access a value by position, use `ser.iloc[pos]`\n",
      "  total_return = (data['Close'][-1] / data['Close'][0]) - 1\n"
     ]
    },
    {
     "name": "stdout",
     "output_type": "stream",
     "text": [
      "Error retrieving cash and cash equivalents: 'Total Debt'\n",
      "No dividend data available for IOT. Company doesn't give out dividends.\n",
      "Dividend per Share for IOT: N/A\n",
      "Required Rate of Return for IOT: 34.53661996198729\n"
     ]
    },
    {
     "name": "stderr",
     "output_type": "stream",
     "text": [
      "/var/folders/mf/zm3qz5852hs67j4m4hwml0z80000gn/T/ipykernel_54164/356366209.py:336: FutureWarning: Series.__getitem__ treating keys as positions is deprecated. In a future version, integer keys will always be treated as labels (consistent with DataFrame behavior). To access a value by position, use `ser.iloc[pos]`\n",
      "  total_return = (data['Close'][-1] / data['Close'][0]) - 1\n"
     ]
    },
    {
     "name": "stdout",
     "output_type": "stream",
     "text": [
      "Dividend per Share for SSNC: 0.24\n",
      "Required Rate of Return for SSNC: 31.951333860276318\n"
     ]
    },
    {
     "name": "stderr",
     "output_type": "stream",
     "text": [
      "/var/folders/mf/zm3qz5852hs67j4m4hwml0z80000gn/T/ipykernel_54164/356366209.py:336: FutureWarning: Series.__getitem__ treating keys as positions is deprecated. In a future version, integer keys will always be treated as labels (consistent with DataFrame behavior). To access a value by position, use `ser.iloc[pos]`\n",
      "  total_return = (data['Close'][-1] / data['Close'][0]) - 1\n"
     ]
    },
    {
     "name": "stdout",
     "output_type": "stream",
     "text": [
      "Dividend per Share for GEN: 0.125\n",
      "Required Rate of Return for GEN: 24.08006099703129\n"
     ]
    },
    {
     "name": "stderr",
     "output_type": "stream",
     "text": [
      "/var/folders/mf/zm3qz5852hs67j4m4hwml0z80000gn/T/ipykernel_54164/356366209.py:336: FutureWarning: Series.__getitem__ treating keys as positions is deprecated. In a future version, integer keys will always be treated as labels (consistent with DataFrame behavior). To access a value by position, use `ser.iloc[pos]`\n",
      "  total_return = (data['Close'][-1] / data['Close'][0]) - 1\n"
     ]
    },
    {
     "name": "stdout",
     "output_type": "stream",
     "text": [
      "No dividend data available for OKTA. Company doesn't give out dividends.\n",
      "Dividend per Share for OKTA: N/A\n",
      "Required Rate of Return for OKTA: 23.710734411072576\n"
     ]
    },
    {
     "name": "stderr",
     "output_type": "stream",
     "text": [
      "/var/folders/mf/zm3qz5852hs67j4m4hwml0z80000gn/T/ipykernel_54164/356366209.py:336: FutureWarning: Series.__getitem__ treating keys as positions is deprecated. In a future version, integer keys will always be treated as labels (consistent with DataFrame behavior). To access a value by position, use `ser.iloc[pos]`\n",
      "  total_return = (data['Close'][-1] / data['Close'][0]) - 1\n"
     ]
    },
    {
     "name": "stdout",
     "output_type": "stream",
     "text": [
      "Dividend per Share for BSY: 0.06\n",
      "Required Rate of Return for BSY: 23.872314792429517\n"
     ]
    },
    {
     "name": "stderr",
     "output_type": "stream",
     "text": [
      "/var/folders/mf/zm3qz5852hs67j4m4hwml0z80000gn/T/ipykernel_54164/356366209.py:336: FutureWarning: Series.__getitem__ treating keys as positions is deprecated. In a future version, integer keys will always be treated as labels (consistent with DataFrame behavior). To access a value by position, use `ser.iloc[pos]`\n",
      "  total_return = (data['Close'][-1] / data['Close'][0]) - 1\n"
     ]
    },
    {
     "name": "stdout",
     "output_type": "stream",
     "text": [
      "No dividend data available for TOST. Company doesn't give out dividends.\n",
      "Dividend per Share for TOST: N/A\n",
      "Required Rate of Return for TOST: 40.699757365173284\n"
     ]
    },
    {
     "name": "stderr",
     "output_type": "stream",
     "text": [
      "/var/folders/mf/zm3qz5852hs67j4m4hwml0z80000gn/T/ipykernel_54164/356366209.py:336: FutureWarning: Series.__getitem__ treating keys as positions is deprecated. In a future version, integer keys will always be treated as labels (consistent with DataFrame behavior). To access a value by position, use `ser.iloc[pos]`\n",
      "  total_return = (data['Close'][-1] / data['Close'][0]) - 1\n"
     ]
    },
    {
     "name": "stdout",
     "output_type": "stream",
     "text": [
      "No dividend data available for AKAM. Company doesn't give out dividends.\n",
      "Dividend per Share for AKAM: N/A\n",
      "Required Rate of Return for AKAM: N/A\n"
     ]
    },
    {
     "name": "stderr",
     "output_type": "stream",
     "text": [
      "/var/folders/mf/zm3qz5852hs67j4m4hwml0z80000gn/T/ipykernel_54164/356366209.py:336: FutureWarning: Series.__getitem__ treating keys as positions is deprecated. In a future version, integer keys will always be treated as labels (consistent with DataFrame behavior). To access a value by position, use `ser.iloc[pos]`\n",
      "  total_return = (data['Close'][-1] / data['Close'][0]) - 1\n"
     ]
    },
    {
     "name": "stdout",
     "output_type": "stream",
     "text": [
      "No dividend data available for DT. Company doesn't give out dividends.\n",
      "Dividend per Share for DT: N/A\n",
      "Required Rate of Return for DT: 24.056978085408872\n"
     ]
    },
    {
     "name": "stderr",
     "output_type": "stream",
     "text": [
      "/var/folders/mf/zm3qz5852hs67j4m4hwml0z80000gn/T/ipykernel_54164/356366209.py:336: FutureWarning: Series.__getitem__ treating keys as positions is deprecated. In a future version, integer keys will always be treated as labels (consistent with DataFrame behavior). To access a value by position, use `ser.iloc[pos]`\n",
      "  total_return = (data['Close'][-1] / data['Close'][0]) - 1\n"
     ]
    },
    {
     "name": "stdout",
     "output_type": "stream",
     "text": [
      "No dividend data available for MNDY. Company doesn't give out dividends.\n",
      "Dividend per Share for MNDY: N/A\n",
      "Required Rate of Return for MNDY: 29.85078890263615\n"
     ]
    },
    {
     "name": "stderr",
     "output_type": "stream",
     "text": [
      "/var/folders/mf/zm3qz5852hs67j4m4hwml0z80000gn/T/ipykernel_54164/356366209.py:336: FutureWarning: Series.__getitem__ treating keys as positions is deprecated. In a future version, integer keys will always be treated as labels (consistent with DataFrame behavior). To access a value by position, use `ser.iloc[pos]`\n",
      "  total_return = (data['Close'][-1] / data['Close'][0]) - 1\n"
     ]
    },
    {
     "name": "stdout",
     "output_type": "stream",
     "text": [
      "No dividend data available for CYBR. Company doesn't give out dividends.\n",
      "Dividend per Share for CYBR: N/A\n",
      "Required Rate of Return for CYBR: 26.434517982518074\n"
     ]
    },
    {
     "name": "stderr",
     "output_type": "stream",
     "text": [
      "/var/folders/mf/zm3qz5852hs67j4m4hwml0z80000gn/T/ipykernel_54164/356366209.py:336: FutureWarning: Series.__getitem__ treating keys as positions is deprecated. In a future version, integer keys will always be treated as labels (consistent with DataFrame behavior). To access a value by position, use `ser.iloc[pos]`\n",
      "  total_return = (data['Close'][-1] / data['Close'][0]) - 1\n"
     ]
    },
    {
     "name": "stdout",
     "output_type": "stream",
     "text": [
      "No dividend data available for GWRE. Company doesn't give out dividends.\n",
      "Dividend per Share for GWRE: N/A\n",
      "Required Rate of Return for GWRE: 27.565580652016624\n"
     ]
    },
    {
     "name": "stderr",
     "output_type": "stream",
     "text": [
      "/var/folders/mf/zm3qz5852hs67j4m4hwml0z80000gn/T/ipykernel_54164/356366209.py:336: FutureWarning: Series.__getitem__ treating keys as positions is deprecated. In a future version, integer keys will always be treated as labels (consistent with DataFrame behavior). To access a value by position, use `ser.iloc[pos]`\n",
      "  total_return = (data['Close'][-1] / data['Close'][0]) - 1\n"
     ]
    },
    {
     "name": "stdout",
     "output_type": "stream",
     "text": [
      "No dividend data available for ESTC. Company doesn't give out dividends.\n",
      "Dividend per Share for ESTC: N/A\n",
      "Required Rate of Return for ESTC: 22.695086299686125\n"
     ]
    },
    {
     "name": "stderr",
     "output_type": "stream",
     "text": [
      "/var/folders/mf/zm3qz5852hs67j4m4hwml0z80000gn/T/ipykernel_54164/356366209.py:336: FutureWarning: Series.__getitem__ treating keys as positions is deprecated. In a future version, integer keys will always be treated as labels (consistent with DataFrame behavior). To access a value by position, use `ser.iloc[pos]`\n",
      "  total_return = (data['Close'][-1] / data['Close'][0]) - 1\n"
     ]
    },
    {
     "name": "stdout",
     "output_type": "stream",
     "text": [
      "No dividend data available for DOCU. Company doesn't give out dividends.\n",
      "Dividend per Share for DOCU: N/A\n",
      "Required Rate of Return for DOCU: 21.702521099922087\n"
     ]
    },
    {
     "name": "stderr",
     "output_type": "stream",
     "text": [
      "/var/folders/mf/zm3qz5852hs67j4m4hwml0z80000gn/T/ipykernel_54164/356366209.py:336: FutureWarning: Series.__getitem__ treating keys as positions is deprecated. In a future version, integer keys will always be treated as labels (consistent with DataFrame behavior). To access a value by position, use `ser.iloc[pos]`\n",
      "  total_return = (data['Close'][-1] / data['Close'][0]) - 1\n"
     ]
    },
    {
     "name": "stdout",
     "output_type": "stream",
     "text": [
      "Dividend per Share for NICE: 0.16\n",
      "Required Rate of Return for NICE: 9.884070349243334\n"
     ]
    },
    {
     "name": "stderr",
     "output_type": "stream",
     "text": [
      "/var/folders/mf/zm3qz5852hs67j4m4hwml0z80000gn/T/ipykernel_54164/356366209.py:336: FutureWarning: Series.__getitem__ treating keys as positions is deprecated. In a future version, integer keys will always be treated as labels (consistent with DataFrame behavior). To access a value by position, use `ser.iloc[pos]`\n",
      "  total_return = (data['Close'][-1] / data['Close'][0]) - 1\n"
     ]
    },
    {
     "name": "stdout",
     "output_type": "stream",
     "text": [
      "No dividend data available for FFIV. Company doesn't give out dividends.\n",
      "Dividend per Share for FFIV: N/A\n",
      "Required Rate of Return for FFIV: 24.98029455030565\n"
     ]
    },
    {
     "name": "stderr",
     "output_type": "stream",
     "text": [
      "/var/folders/mf/zm3qz5852hs67j4m4hwml0z80000gn/T/ipykernel_54164/356366209.py:336: FutureWarning: Series.__getitem__ treating keys as positions is deprecated. In a future version, integer keys will always be treated as labels (consistent with DataFrame behavior). To access a value by position, use `ser.iloc[pos]`\n",
      "  total_return = (data['Close'][-1] / data['Close'][0]) - 1\n"
     ]
    },
    {
     "name": "stdout",
     "output_type": "stream",
     "text": [
      "No dividend data available for TWLO. Company doesn't give out dividends.\n",
      "Dividend per Share for TWLO: N/A\n",
      "Required Rate of Return for TWLO: 31.074183218624384\n"
     ]
    },
    {
     "name": "stderr",
     "output_type": "stream",
     "text": [
      "/var/folders/mf/zm3qz5852hs67j4m4hwml0z80000gn/T/ipykernel_54164/356366209.py:336: FutureWarning: Series.__getitem__ treating keys as positions is deprecated. In a future version, integer keys will always be treated as labels (consistent with DataFrame behavior). To access a value by position, use `ser.iloc[pos]`\n",
      "  total_return = (data['Close'][-1] / data['Close'][0]) - 1\n"
     ]
    },
    {
     "name": "stdout",
     "output_type": "stream",
     "text": [
      "No dividend data available for INFA. Company doesn't give out dividends.\n",
      "Dividend per Share for INFA: N/A\n",
      "Required Rate of Return for INFA: 24.472470494612423\n"
     ]
    },
    {
     "name": "stderr",
     "output_type": "stream",
     "text": [
      "/var/folders/mf/zm3qz5852hs67j4m4hwml0z80000gn/T/ipykernel_54164/356366209.py:336: FutureWarning: Series.__getitem__ treating keys as positions is deprecated. In a future version, integer keys will always be treated as labels (consistent with DataFrame behavior). To access a value by position, use `ser.iloc[pos]`\n",
      "  total_return = (data['Close'][-1] / data['Close'][0]) - 1\n"
     ]
    },
    {
     "name": "stdout",
     "output_type": "stream",
     "text": [
      "No dividend data available for WIX. Company doesn't give out dividends.\n",
      "Dividend per Share for WIX: N/A\n",
      "Required Rate of Return for WIX: 33.98263008304923\n"
     ]
    },
    {
     "name": "stderr",
     "output_type": "stream",
     "text": [
      "/var/folders/mf/zm3qz5852hs67j4m4hwml0z80000gn/T/ipykernel_54164/356366209.py:336: FutureWarning: Series.__getitem__ treating keys as positions is deprecated. In a future version, integer keys will always be treated as labels (consistent with DataFrame behavior). To access a value by position, use `ser.iloc[pos]`\n",
      "  total_return = (data['Close'][-1] / data['Close'][0]) - 1\n"
     ]
    },
    {
     "name": "stdout",
     "output_type": "stream",
     "text": [
      "No dividend data available for CFLT. Company doesn't give out dividends.\n",
      "Dividend per Share for CFLT: N/A\n",
      "Required Rate of Return for CFLT: 21.010033751249505\n"
     ]
    },
    {
     "name": "stderr",
     "output_type": "stream",
     "text": [
      "/var/folders/mf/zm3qz5852hs67j4m4hwml0z80000gn/T/ipykernel_54164/356366209.py:336: FutureWarning: Series.__getitem__ treating keys as positions is deprecated. In a future version, integer keys will always be treated as labels (consistent with DataFrame behavior). To access a value by position, use `ser.iloc[pos]`\n",
      "  total_return = (data['Close'][-1] / data['Close'][0]) - 1\n"
     ]
    },
    {
     "name": "stdout",
     "output_type": "stream",
     "text": [
      "No dividend data available for APPF. Company doesn't give out dividends.\n",
      "Dividend per Share for APPF: N/A\n",
      "Required Rate of Return for APPF: 18.586328030895466\n"
     ]
    },
    {
     "name": "stderr",
     "output_type": "stream",
     "text": [
      "/var/folders/mf/zm3qz5852hs67j4m4hwml0z80000gn/T/ipykernel_54164/356366209.py:336: FutureWarning: Series.__getitem__ treating keys as positions is deprecated. In a future version, integer keys will always be treated as labels (consistent with DataFrame behavior). To access a value by position, use `ser.iloc[pos]`\n",
      "  total_return = (data['Close'][-1] / data['Close'][0]) - 1\n"
     ]
    },
    {
     "name": "stdout",
     "output_type": "stream",
     "text": [
      "Dividend per Share for PAYC: 0.375\n",
      "Required Rate of Return for PAYC: 26.8269274800992\n"
     ]
    },
    {
     "name": "stderr",
     "output_type": "stream",
     "text": [
      "/var/folders/mf/zm3qz5852hs67j4m4hwml0z80000gn/T/ipykernel_54164/356366209.py:336: FutureWarning: Series.__getitem__ treating keys as positions is deprecated. In a future version, integer keys will always be treated as labels (consistent with DataFrame behavior). To access a value by position, use `ser.iloc[pos]`\n",
      "  total_return = (data['Close'][-1] / data['Close'][0]) - 1\n"
     ]
    },
    {
     "name": "stdout",
     "output_type": "stream",
     "text": [
      "Dividend per Share for OTEX: 0.25\n",
      "Required Rate of Return for OTEX: 26.180605954671456\n"
     ]
    },
    {
     "name": "stderr",
     "output_type": "stream",
     "text": [
      "/var/folders/mf/zm3qz5852hs67j4m4hwml0z80000gn/T/ipykernel_54164/356366209.py:336: FutureWarning: Series.__getitem__ treating keys as positions is deprecated. In a future version, integer keys will always be treated as labels (consistent with DataFrame behavior). To access a value by position, use `ser.iloc[pos]`\n",
      "  total_return = (data['Close'][-1] / data['Close'][0]) - 1\n"
     ]
    },
    {
     "name": "stdout",
     "output_type": "stream",
     "text": [
      "No dividend data available for DSGX. Company doesn't give out dividends.\n",
      "Dividend per Share for DSGX: N/A\n",
      "Required Rate of Return for DSGX: 17.43218244977449\n"
     ]
    },
    {
     "name": "stderr",
     "output_type": "stream",
     "text": [
      "/var/folders/mf/zm3qz5852hs67j4m4hwml0z80000gn/T/ipykernel_54164/356366209.py:336: FutureWarning: Series.__getitem__ treating keys as positions is deprecated. In a future version, integer keys will always be treated as labels (consistent with DataFrame behavior). To access a value by position, use `ser.iloc[pos]`\n",
      "  total_return = (data['Close'][-1] / data['Close'][0]) - 1\n"
     ]
    },
    {
     "name": "stdout",
     "output_type": "stream",
     "text": [
      "Dividend per Share for MTCH: 2.0\n",
      "Required Rate of Return for MTCH: 34.398122492252774\n"
     ]
    },
    {
     "name": "stderr",
     "output_type": "stream",
     "text": [
      "/var/folders/mf/zm3qz5852hs67j4m4hwml0z80000gn/T/ipykernel_54164/356366209.py:336: FutureWarning: Series.__getitem__ treating keys as positions is deprecated. In a future version, integer keys will always be treated as labels (consistent with DataFrame behavior). To access a value by position, use `ser.iloc[pos]`\n",
      "  total_return = (data['Close'][-1] / data['Close'][0]) - 1\n"
     ]
    },
    {
     "name": "stdout",
     "output_type": "stream",
     "text": [
      "No dividend data available for GTLB. Company doesn't give out dividends.\n",
      "Dividend per Share for GTLB: N/A\n",
      "Required Rate of Return for GTLB: 10.622723521160756\n"
     ]
    },
    {
     "name": "stderr",
     "output_type": "stream",
     "text": [
      "/var/folders/mf/zm3qz5852hs67j4m4hwml0z80000gn/T/ipykernel_54164/356366209.py:336: FutureWarning: Series.__getitem__ treating keys as positions is deprecated. In a future version, integer keys will always be treated as labels (consistent with DataFrame behavior). To access a value by position, use `ser.iloc[pos]`\n",
      "  total_return = (data['Close'][-1] / data['Close'][0]) - 1\n"
     ]
    },
    {
     "name": "stdout",
     "output_type": "stream",
     "text": [
      "No dividend data available for PCTY. Company doesn't give out dividends.\n",
      "Dividend per Share for PCTY: N/A\n",
      "Required Rate of Return for PCTY: 21.425526160453057\n"
     ]
    },
    {
     "name": "stderr",
     "output_type": "stream",
     "text": [
      "/var/folders/mf/zm3qz5852hs67j4m4hwml0z80000gn/T/ipykernel_54164/356366209.py:336: FutureWarning: Series.__getitem__ treating keys as positions is deprecated. In a future version, integer keys will always be treated as labels (consistent with DataFrame behavior). To access a value by position, use `ser.iloc[pos]`\n",
      "  total_return = (data['Close'][-1] / data['Close'][0]) - 1\n"
     ]
    },
    {
     "name": "stdout",
     "output_type": "stream",
     "text": [
      "No dividend data available for DBX. Company doesn't give out dividends.\n",
      "Dividend per Share for DBX: N/A\n",
      "Required Rate of Return for DBX: N/A\n"
     ]
    },
    {
     "name": "stderr",
     "output_type": "stream",
     "text": [
      "/var/folders/mf/zm3qz5852hs67j4m4hwml0z80000gn/T/ipykernel_54164/356366209.py:336: FutureWarning: Series.__getitem__ treating keys as positions is deprecated. In a future version, integer keys will always be treated as labels (consistent with DataFrame behavior). To access a value by position, use `ser.iloc[pos]`\n",
      "  total_return = (data['Close'][-1] / data['Close'][0]) - 1\n"
     ]
    },
    {
     "name": "stdout",
     "output_type": "stream",
     "text": [
      "No dividend data available for PATH. Company doesn't give out dividends.\n",
      "Dividend per Share for PATH: N/A\n",
      "Required Rate of Return for PATH: 19.855888170128534\n"
     ]
    },
    {
     "name": "stderr",
     "output_type": "stream",
     "text": [
      "/var/folders/mf/zm3qz5852hs67j4m4hwml0z80000gn/T/ipykernel_54164/356366209.py:336: FutureWarning: Series.__getitem__ treating keys as positions is deprecated. In a future version, integer keys will always be treated as labels (consistent with DataFrame behavior). To access a value by position, use `ser.iloc[pos]`\n",
      "  total_return = (data['Close'][-1] / data['Close'][0]) - 1\n"
     ]
    },
    {
     "name": "stdout",
     "output_type": "stream",
     "text": [
      "No dividend data available for CCCS. Company doesn't give out dividends.\n",
      "Dividend per Share for CCCS: N/A\n",
      "Required Rate of Return for CCCS: 14.315989380747867\n"
     ]
    },
    {
     "name": "stderr",
     "output_type": "stream",
     "text": [
      "/var/folders/mf/zm3qz5852hs67j4m4hwml0z80000gn/T/ipykernel_54164/356366209.py:336: FutureWarning: Series.__getitem__ treating keys as positions is deprecated. In a future version, integer keys will always be treated as labels (consistent with DataFrame behavior). To access a value by position, use `ser.iloc[pos]`\n",
      "  total_return = (data['Close'][-1] / data['Close'][0]) - 1\n"
     ]
    },
    {
     "name": "stdout",
     "output_type": "stream",
     "text": [
      "No dividend data available for SPSC. Company doesn't give out dividends.\n",
      "Dividend per Share for SPSC: N/A\n",
      "Required Rate of Return for SPSC: 19.53272740741466\n"
     ]
    },
    {
     "name": "stderr",
     "output_type": "stream",
     "text": [
      "/var/folders/mf/zm3qz5852hs67j4m4hwml0z80000gn/T/ipykernel_54164/356366209.py:336: FutureWarning: Series.__getitem__ treating keys as positions is deprecated. In a future version, integer keys will always be treated as labels (consistent with DataFrame behavior). To access a value by position, use `ser.iloc[pos]`\n",
      "  total_return = (data['Close'][-1] / data['Close'][0]) - 1\n"
     ]
    },
    {
     "name": "stdout",
     "output_type": "stream",
     "text": [
      "No dividend data available for HCP. Company doesn't give out dividends.\n",
      "Dividend per Share for HCP: N/A\n",
      "Required Rate of Return for HCP: 28.881306614494537\n"
     ]
    },
    {
     "name": "stderr",
     "output_type": "stream",
     "text": [
      "/var/folders/mf/zm3qz5852hs67j4m4hwml0z80000gn/T/ipykernel_54164/356366209.py:336: FutureWarning: Series.__getitem__ treating keys as positions is deprecated. In a future version, integer keys will always be treated as labels (consistent with DataFrame behavior). To access a value by position, use `ser.iloc[pos]`\n",
      "  total_return = (data['Close'][-1] / data['Close'][0]) - 1\n"
     ]
    },
    {
     "name": "stdout",
     "output_type": "stream",
     "text": [
      "No dividend data available for KVYO. Company doesn't give out dividends.\n",
      "Dividend per Share for KVYO: N/A\n",
      "Required Rate of Return for KVYO: N/A\n"
     ]
    },
    {
     "name": "stderr",
     "output_type": "stream",
     "text": [
      "/var/folders/mf/zm3qz5852hs67j4m4hwml0z80000gn/T/ipykernel_54164/356366209.py:336: FutureWarning: Series.__getitem__ treating keys as positions is deprecated. In a future version, integer keys will always be treated as labels (consistent with DataFrame behavior). To access a value by position, use `ser.iloc[pos]`\n",
      "  total_return = (data['Close'][-1] / data['Close'][0]) - 1\n"
     ]
    },
    {
     "name": "stdout",
     "output_type": "stream",
     "text": [
      "No dividend data available for SQSP. Company doesn't give out dividends.\n",
      "Dividend per Share for SQSP: N/A\n",
      "Required Rate of Return for SQSP: 14.315989380747867\n"
     ]
    },
    {
     "name": "stderr",
     "output_type": "stream",
     "text": [
      "/var/folders/mf/zm3qz5852hs67j4m4hwml0z80000gn/T/ipykernel_54164/356366209.py:336: FutureWarning: Series.__getitem__ treating keys as positions is deprecated. In a future version, integer keys will always be treated as labels (consistent with DataFrame behavior). To access a value by position, use `ser.iloc[pos]`\n",
      "  total_return = (data['Close'][-1] / data['Close'][0]) - 1\n"
     ]
    },
    {
     "name": "stdout",
     "output_type": "stream",
     "text": [
      "No dividend data available for SMAR. Company doesn't give out dividends.\n",
      "Dividend per Share for SMAR: N/A\n",
      "Required Rate of Return for SMAR: 17.13210459868304\n"
     ]
    },
    {
     "name": "stderr",
     "output_type": "stream",
     "text": [
      "/var/folders/mf/zm3qz5852hs67j4m4hwml0z80000gn/T/ipykernel_54164/356366209.py:336: FutureWarning: Series.__getitem__ treating keys as positions is deprecated. In a future version, integer keys will always be treated as labels (consistent with DataFrame behavior). To access a value by position, use `ser.iloc[pos]`\n",
      "  total_return = (data['Close'][-1] / data['Close'][0]) - 1\n"
     ]
    },
    {
     "name": "stdout",
     "output_type": "stream",
     "text": [
      "No dividend data available for S. Company doesn't give out dividends.\n",
      "Dividend per Share for S: N/A\n",
      "Required Rate of Return for S: 15.400886227001582\n"
     ]
    },
    {
     "name": "stderr",
     "output_type": "stream",
     "text": [
      "/var/folders/mf/zm3qz5852hs67j4m4hwml0z80000gn/T/ipykernel_54164/356366209.py:336: FutureWarning: Series.__getitem__ treating keys as positions is deprecated. In a future version, integer keys will always be treated as labels (consistent with DataFrame behavior). To access a value by position, use `ser.iloc[pos]`\n",
      "  total_return = (data['Close'][-1] / data['Close'][0]) - 1\n"
     ]
    },
    {
     "name": "stdout",
     "output_type": "stream",
     "text": [
      "No dividend data available for VERX. Company doesn't give out dividends.\n",
      "Dividend per Share for VERX: N/A\n",
      "Required Rate of Return for VERX: 15.908710282694809\n"
     ]
    },
    {
     "name": "stderr",
     "output_type": "stream",
     "text": [
      "/var/folders/mf/zm3qz5852hs67j4m4hwml0z80000gn/T/ipykernel_54164/356366209.py:336: FutureWarning: Series.__getitem__ treating keys as positions is deprecated. In a future version, integer keys will always be treated as labels (consistent with DataFrame behavior). To access a value by position, use `ser.iloc[pos]`\n",
      "  total_return = (data['Close'][-1] / data['Close'][0]) - 1\n"
     ]
    },
    {
     "name": "stdout",
     "output_type": "stream",
     "text": [
      "No dividend data available for BILL. Company doesn't give out dividends.\n",
      "Dividend per Share for BILL: N/A\n",
      "Required Rate of Return for BILL: 37.21423771018795\n"
     ]
    },
    {
     "name": "stderr",
     "output_type": "stream",
     "text": [
      "/var/folders/mf/zm3qz5852hs67j4m4hwml0z80000gn/T/ipykernel_54164/356366209.py:336: FutureWarning: Series.__getitem__ treating keys as positions is deprecated. In a future version, integer keys will always be treated as labels (consistent with DataFrame behavior). To access a value by position, use `ser.iloc[pos]`\n",
      "  total_return = (data['Close'][-1] / data['Close'][0]) - 1\n"
     ]
    },
    {
     "name": "stdout",
     "output_type": "stream",
     "text": [
      "No dividend data available for DOCS. Company doesn't give out dividends.\n",
      "Dividend per Share for DOCS: N/A\n",
      "Required Rate of Return for DOCS: N/A\n"
     ]
    },
    {
     "name": "stderr",
     "output_type": "stream",
     "text": [
      "/var/folders/mf/zm3qz5852hs67j4m4hwml0z80000gn/T/ipykernel_54164/356366209.py:336: FutureWarning: Series.__getitem__ treating keys as positions is deprecated. In a future version, integer keys will always be treated as labels (consistent with DataFrame behavior). To access a value by position, use `ser.iloc[pos]`\n",
      "  total_return = (data['Close'][-1] / data['Close'][0]) - 1\n"
     ]
    },
    {
     "name": "stdout",
     "output_type": "stream",
     "text": [
      "No dividend data available for QLYS. Company doesn't give out dividends.\n",
      "Dividend per Share for QLYS: N/A\n",
      "Required Rate of Return for QLYS: 11.315210869833338\n"
     ]
    },
    {
     "name": "stderr",
     "output_type": "stream",
     "text": [
      "/var/folders/mf/zm3qz5852hs67j4m4hwml0z80000gn/T/ipykernel_54164/356366209.py:336: FutureWarning: Series.__getitem__ treating keys as positions is deprecated. In a future version, integer keys will always be treated as labels (consistent with DataFrame behavior). To access a value by position, use `ser.iloc[pos]`\n",
      "  total_return = (data['Close'][-1] / data['Close'][0]) - 1\n"
     ]
    },
    {
     "name": "stdout",
     "output_type": "stream",
     "text": [
      "No dividend data available for VRNS. Company doesn't give out dividends.\n",
      "Dividend per Share for VRNS: N/A\n",
      "Required Rate of Return for VRNS: 19.04798626334385\n"
     ]
    },
    {
     "name": "stderr",
     "output_type": "stream",
     "text": [
      "/var/folders/mf/zm3qz5852hs67j4m4hwml0z80000gn/T/ipykernel_54164/356366209.py:336: FutureWarning: Series.__getitem__ treating keys as positions is deprecated. In a future version, integer keys will always be treated as labels (consistent with DataFrame behavior). To access a value by position, use `ser.iloc[pos]`\n",
      "  total_return = (data['Close'][-1] / data['Close'][0]) - 1\n"
     ]
    },
    {
     "name": "stdout",
     "output_type": "stream",
     "text": [
      "Dividend per Share for PEGA: 0.03\n",
      "Required Rate of Return for PEGA: 25.02646037355049\n"
     ]
    },
    {
     "name": "stderr",
     "output_type": "stream",
     "text": [
      "/var/folders/mf/zm3qz5852hs67j4m4hwml0z80000gn/T/ipykernel_54164/356366209.py:336: FutureWarning: Series.__getitem__ treating keys as positions is deprecated. In a future version, integer keys will always be treated as labels (consistent with DataFrame behavior). To access a value by position, use `ser.iloc[pos]`\n",
      "  total_return = (data['Close'][-1] / data['Close'][0]) - 1\n"
     ]
    },
    {
     "name": "stdout",
     "output_type": "stream",
     "text": [
      "No dividend data available for TENB. Company doesn't give out dividends.\n",
      "Dividend per Share for TENB: N/A\n",
      "Required Rate of Return for TENB: 19.87897108175095\n"
     ]
    },
    {
     "name": "stderr",
     "output_type": "stream",
     "text": [
      "/var/folders/mf/zm3qz5852hs67j4m4hwml0z80000gn/T/ipykernel_54164/356366209.py:336: FutureWarning: Series.__getitem__ treating keys as positions is deprecated. In a future version, integer keys will always be treated as labels (consistent with DataFrame behavior). To access a value by position, use `ser.iloc[pos]`\n",
      "  total_return = (data['Close'][-1] / data['Close'][0]) - 1\n"
     ]
    },
    {
     "name": "stdout",
     "output_type": "stream",
     "text": [
      "No dividend data available for ZI. Company doesn't give out dividends.\n",
      "Dividend per Share for ZI: N/A\n",
      "Required Rate of Return for ZI: 24.65713378759178\n"
     ]
    },
    {
     "name": "stderr",
     "output_type": "stream",
     "text": [
      "/var/folders/mf/zm3qz5852hs67j4m4hwml0z80000gn/T/ipykernel_54164/356366209.py:336: FutureWarning: Series.__getitem__ treating keys as positions is deprecated. In a future version, integer keys will always be treated as labels (consistent with DataFrame behavior). To access a value by position, use `ser.iloc[pos]`\n",
      "  total_return = (data['Close'][-1] / data['Close'][0]) - 1\n"
     ]
    },
    {
     "name": "stdout",
     "output_type": "stream",
     "text": [
      "No dividend data available for CWAN. Company doesn't give out dividends.\n",
      "Dividend per Share for CWAN: N/A\n",
      "Required Rate of Return for CWAN: 13.208009622871732\n"
     ]
    },
    {
     "name": "stderr",
     "output_type": "stream",
     "text": [
      "/var/folders/mf/zm3qz5852hs67j4m4hwml0z80000gn/T/ipykernel_54164/356366209.py:336: FutureWarning: Series.__getitem__ treating keys as positions is deprecated. In a future version, integer keys will always be treated as labels (consistent with DataFrame behavior). To access a value by position, use `ser.iloc[pos]`\n",
      "  total_return = (data['Close'][-1] / data['Close'][0]) - 1\n"
     ]
    },
    {
     "name": "stdout",
     "output_type": "stream",
     "text": [
      "No dividend data available for PWSC. Company doesn't give out dividends.\n",
      "Dividend per Share for PWSC: N/A\n",
      "Required Rate of Return for PWSC: 24.44938758299\n"
     ]
    },
    {
     "name": "stderr",
     "output_type": "stream",
     "text": [
      "/var/folders/mf/zm3qz5852hs67j4m4hwml0z80000gn/T/ipykernel_54164/356366209.py:336: FutureWarning: Series.__getitem__ treating keys as positions is deprecated. In a future version, integer keys will always be treated as labels (consistent with DataFrame behavior). To access a value by position, use `ser.iloc[pos]`\n",
      "  total_return = (data['Close'][-1] / data['Close'][0]) - 1\n"
     ]
    },
    {
     "name": "stdout",
     "output_type": "stream",
     "text": [
      "No dividend data available for ALIT. Company doesn't give out dividends.\n",
      "Dividend per Share for ALIT: N/A\n",
      "Required Rate of Return for ALIT: 24.86487999219355\n"
     ]
    },
    {
     "name": "stderr",
     "output_type": "stream",
     "text": [
      "/var/folders/mf/zm3qz5852hs67j4m4hwml0z80000gn/T/ipykernel_54164/356366209.py:336: FutureWarning: Series.__getitem__ treating keys as positions is deprecated. In a future version, integer keys will always be treated as labels (consistent with DataFrame behavior). To access a value by position, use `ser.iloc[pos]`\n",
      "  total_return = (data['Close'][-1] / data['Close'][0]) - 1\n"
     ]
    },
    {
     "name": "stdout",
     "output_type": "stream",
     "text": [
      "No dividend data available for FROG. Company doesn't give out dividends.\n",
      "Dividend per Share for FROG: N/A\n",
      "Required Rate of Return for FROG: N/A\n"
     ]
    },
    {
     "name": "stderr",
     "output_type": "stream",
     "text": [
      "/var/folders/mf/zm3qz5852hs67j4m4hwml0z80000gn/T/ipykernel_54164/356366209.py:336: FutureWarning: Series.__getitem__ treating keys as positions is deprecated. In a future version, integer keys will always be treated as labels (consistent with DataFrame behavior). To access a value by position, use `ser.iloc[pos]`\n",
      "  total_return = (data['Close'][-1] / data['Close'][0]) - 1\n"
     ]
    },
    {
     "name": "stdout",
     "output_type": "stream",
     "text": [
      "No dividend data available for BOX. Company doesn't give out dividends.\n",
      "Dividend per Share for BOX: N/A\n",
      "Required Rate of Return for BOX: 19.97130272824063\n"
     ]
    },
    {
     "name": "stderr",
     "output_type": "stream",
     "text": [
      "/var/folders/mf/zm3qz5852hs67j4m4hwml0z80000gn/T/ipykernel_54164/356366209.py:336: FutureWarning: Series.__getitem__ treating keys as positions is deprecated. In a future version, integer keys will always be treated as labels (consistent with DataFrame behavior). To access a value by position, use `ser.iloc[pos]`\n",
      "  total_return = (data['Close'][-1] / data['Close'][0]) - 1\n"
     ]
    },
    {
     "name": "stdout",
     "output_type": "stream",
     "text": [
      "No dividend data available for BRZE. Company doesn't give out dividends.\n",
      "Dividend per Share for BRZE: N/A\n",
      "Required Rate of Return for BRZE: 24.680216699214196\n"
     ]
    },
    {
     "name": "stderr",
     "output_type": "stream",
     "text": [
      "/var/folders/mf/zm3qz5852hs67j4m4hwml0z80000gn/T/ipykernel_54164/356366209.py:336: FutureWarning: Series.__getitem__ treating keys as positions is deprecated. In a future version, integer keys will always be treated as labels (consistent with DataFrame behavior). To access a value by position, use `ser.iloc[pos]`\n",
      "  total_return = (data['Close'][-1] / data['Close'][0]) - 1\n"
     ]
    },
    {
     "name": "stdout",
     "output_type": "stream",
     "text": [
      "No dividend data available for FRSH. Company doesn't give out dividends.\n",
      "Dividend per Share for FRSH: N/A\n",
      "Required Rate of Return for FRSH: 17.085938775438198\n"
     ]
    },
    {
     "name": "stderr",
     "output_type": "stream",
     "text": [
      "/var/folders/mf/zm3qz5852hs67j4m4hwml0z80000gn/T/ipykernel_54164/356366209.py:336: FutureWarning: Series.__getitem__ treating keys as positions is deprecated. In a future version, integer keys will always be treated as labels (consistent with DataFrame behavior). To access a value by position, use `ser.iloc[pos]`\n",
      "  total_return = (data['Close'][-1] / data['Close'][0]) - 1\n"
     ]
    },
    {
     "name": "stdout",
     "output_type": "stream",
     "text": [
      "No dividend data available for ZETA. Company doesn't give out dividends.\n",
      "Dividend per Share for ZETA: N/A\n",
      "Required Rate of Return for ZETA: 28.673560409892758\n"
     ]
    },
    {
     "name": "stderr",
     "output_type": "stream",
     "text": [
      "/var/folders/mf/zm3qz5852hs67j4m4hwml0z80000gn/T/ipykernel_54164/356366209.py:336: FutureWarning: Series.__getitem__ treating keys as positions is deprecated. In a future version, integer keys will always be treated as labels (consistent with DataFrame behavior). To access a value by position, use `ser.iloc[pos]`\n",
      "  total_return = (data['Close'][-1] / data['Close'][0]) - 1\n"
     ]
    },
    {
     "name": "stdout",
     "output_type": "stream",
     "text": [
      "No dividend data available for NCNO. Company doesn't give out dividends.\n",
      "Dividend per Share for NCNO: N/A\n",
      "Required Rate of Return for NCNO: 13.73891659018738\n"
     ]
    },
    {
     "name": "stderr",
     "output_type": "stream",
     "text": [
      "/var/folders/mf/zm3qz5852hs67j4m4hwml0z80000gn/T/ipykernel_54164/356366209.py:336: FutureWarning: Series.__getitem__ treating keys as positions is deprecated. In a future version, integer keys will always be treated as labels (consistent with DataFrame behavior). To access a value by position, use `ser.iloc[pos]`\n",
      "  total_return = (data['Close'][-1] / data['Close'][0]) - 1\n"
     ]
    },
    {
     "name": "stdout",
     "output_type": "stream",
     "text": [
      "No dividend data available for AI. Company doesn't give out dividends.\n",
      "Dividend per Share for AI: N/A\n",
      "Required Rate of Return for AI: 41.99240041602877\n"
     ]
    },
    {
     "name": "stderr",
     "output_type": "stream",
     "text": [
      "/var/folders/mf/zm3qz5852hs67j4m4hwml0z80000gn/T/ipykernel_54164/356366209.py:336: FutureWarning: Series.__getitem__ treating keys as positions is deprecated. In a future version, integer keys will always be treated as labels (consistent with DataFrame behavior). To access a value by position, use `ser.iloc[pos]`\n",
      "  total_return = (data['Close'][-1] / data['Close'][0]) - 1\n"
     ]
    },
    {
     "name": "stdout",
     "output_type": "stream",
     "text": [
      "No dividend data available for INST. Company doesn't give out dividends.\n",
      "Dividend per Share for INST: N/A\n",
      "Required Rate of Return for INST: 13.73891659018738\n"
     ]
    },
    {
     "name": "stderr",
     "output_type": "stream",
     "text": [
      "/var/folders/mf/zm3qz5852hs67j4m4hwml0z80000gn/T/ipykernel_54164/356366209.py:336: FutureWarning: Series.__getitem__ treating keys as positions is deprecated. In a future version, integer keys will always be treated as labels (consistent with DataFrame behavior). To access a value by position, use `ser.iloc[pos]`\n",
      "  total_return = (data['Close'][-1] / data['Close'][0]) - 1\n"
     ]
    },
    {
     "name": "stdout",
     "output_type": "stream",
     "text": [
      "No dividend data available for DV. Company doesn't give out dividends.\n",
      "Dividend per Share for DV: N/A\n",
      "Required Rate of Return for DV: 21.702521099922087\n"
     ]
    },
    {
     "name": "stderr",
     "output_type": "stream",
     "text": [
      "/var/folders/mf/zm3qz5852hs67j4m4hwml0z80000gn/T/ipykernel_54164/356366209.py:336: FutureWarning: Series.__getitem__ treating keys as positions is deprecated. In a future version, integer keys will always be treated as labels (consistent with DataFrame behavior). To access a value by position, use `ser.iloc[pos]`\n",
      "  total_return = (data['Close'][-1] / data['Close'][0]) - 1\n"
     ]
    },
    {
     "name": "stdout",
     "output_type": "stream",
     "text": [
      "No dividend data available for DOCN. Company doesn't give out dividends.\n",
      "Dividend per Share for DOCN: N/A\n",
      "Required Rate of Return for DOCN: N/A\n"
     ]
    },
    {
     "name": "stderr",
     "output_type": "stream",
     "text": [
      "/var/folders/mf/zm3qz5852hs67j4m4hwml0z80000gn/T/ipykernel_54164/356366209.py:336: FutureWarning: Series.__getitem__ treating keys as positions is deprecated. In a future version, integer keys will always be treated as labels (consistent with DataFrame behavior). To access a value by position, use `ser.iloc[pos]`\n",
      "  total_return = (data['Close'][-1] / data['Close'][0]) - 1\n"
     ]
    },
    {
     "name": "stdout",
     "output_type": "stream",
     "text": [
      "No dividend data available for FIVN. Company doesn't give out dividends.\n",
      "Dividend per Share for FIVN: N/A\n",
      "Required Rate of Return for FIVN: N/A\n"
     ]
    },
    {
     "name": "stderr",
     "output_type": "stream",
     "text": [
      "/var/folders/mf/zm3qz5852hs67j4m4hwml0z80000gn/T/ipykernel_54164/356366209.py:336: FutureWarning: Series.__getitem__ treating keys as positions is deprecated. In a future version, integer keys will always be treated as labels (consistent with DataFrame behavior). To access a value by position, use `ser.iloc[pos]`\n",
      "  total_return = (data['Close'][-1] / data['Close'][0]) - 1\n"
     ]
    },
    {
     "name": "stdout",
     "output_type": "stream",
     "text": [
      "No dividend data available for ASAN. Company doesn't give out dividends.\n",
      "Dividend per Share for ASAN: N/A\n",
      "Required Rate of Return for ASAN: 26.896176214966463\n"
     ]
    },
    {
     "name": "stderr",
     "output_type": "stream",
     "text": [
      "/var/folders/mf/zm3qz5852hs67j4m4hwml0z80000gn/T/ipykernel_54164/356366209.py:336: FutureWarning: Series.__getitem__ treating keys as positions is deprecated. In a future version, integer keys will always be treated as labels (consistent with DataFrame behavior). To access a value by position, use `ser.iloc[pos]`\n",
      "  total_return = (data['Close'][-1] / data['Close'][0]) - 1\n"
     ]
    },
    {
     "name": "stdout",
     "output_type": "stream",
     "text": [
      "No dividend data available for MQ. Company doesn't give out dividends.\n",
      "Dividend per Share for MQ: N/A\n",
      "Required Rate of Return for MQ: 41.20758142086651\n"
     ]
    },
    {
     "name": "stderr",
     "output_type": "stream",
     "text": [
      "/var/folders/mf/zm3qz5852hs67j4m4hwml0z80000gn/T/ipykernel_54164/356366209.py:336: FutureWarning: Series.__getitem__ treating keys as positions is deprecated. In a future version, integer keys will always be treated as labels (consistent with DataFrame behavior). To access a value by position, use `ser.iloc[pos]`\n",
      "  total_return = (data['Close'][-1] / data['Close'][0]) - 1\n"
     ]
    },
    {
     "name": "stdout",
     "output_type": "stream",
     "text": [
      "No dividend data available for LSPD. Company doesn't give out dividends.\n",
      "Dividend per Share for LSPD: N/A\n",
      "Required Rate of Return for LSPD: 60.8973050347903\n"
     ]
    },
    {
     "name": "stderr",
     "output_type": "stream",
     "text": [
      "/var/folders/mf/zm3qz5852hs67j4m4hwml0z80000gn/T/ipykernel_54164/356366209.py:336: FutureWarning: Series.__getitem__ treating keys as positions is deprecated. In a future version, integer keys will always be treated as labels (consistent with DataFrame behavior). To access a value by position, use `ser.iloc[pos]`\n",
      "  total_return = (data['Close'][-1] / data['Close'][0]) - 1\n"
     ]
    },
    {
     "name": "stdout",
     "output_type": "stream",
     "text": [
      "Dividend per Share for AGYS: 0.03\n",
      "Required Rate of Return for AGYS: 18.886405881986914\n"
     ]
    },
    {
     "name": "stderr",
     "output_type": "stream",
     "text": [
      "/var/folders/mf/zm3qz5852hs67j4m4hwml0z80000gn/T/ipykernel_54164/356366209.py:336: FutureWarning: Series.__getitem__ treating keys as positions is deprecated. In a future version, integer keys will always be treated as labels (consistent with DataFrame behavior). To access a value by position, use `ser.iloc[pos]`\n",
      "  total_return = (data['Close'][-1] / data['Close'][0]) - 1\n"
     ]
    },
    {
     "name": "stdout",
     "output_type": "stream",
     "text": [
      "No dividend data available for NABL. Company doesn't give out dividends.\n",
      "Dividend per Share for NABL: N/A\n",
      "Required Rate of Return for NABL: 10.85355263738495\n"
     ]
    },
    {
     "name": "stderr",
     "output_type": "stream",
     "text": [
      "/var/folders/mf/zm3qz5852hs67j4m4hwml0z80000gn/T/ipykernel_54164/356366209.py:336: FutureWarning: Series.__getitem__ treating keys as positions is deprecated. In a future version, integer keys will always be treated as labels (consistent with DataFrame behavior). To access a value by position, use `ser.iloc[pos]`\n",
      "  total_return = (data['Close'][-1] / data['Close'][0]) - 1\n"
     ]
    },
    {
     "name": "stdout",
     "output_type": "stream",
     "text": [
      "No dividend data available for ALKT. Company doesn't give out dividends.\n",
      "Dividend per Share for ALKT: N/A\n",
      "Required Rate of Return for ALKT: 10.87663554900737\n"
     ]
    },
    {
     "name": "stderr",
     "output_type": "stream",
     "text": [
      "/var/folders/mf/zm3qz5852hs67j4m4hwml0z80000gn/T/ipykernel_54164/356366209.py:336: FutureWarning: Series.__getitem__ treating keys as positions is deprecated. In a future version, integer keys will always be treated as labels (consistent with DataFrame behavior). To access a value by position, use `ser.iloc[pos]`\n",
      "  total_return = (data['Close'][-1] / data['Close'][0]) - 1\n"
     ]
    },
    {
     "name": "stdout",
     "output_type": "stream",
     "text": [
      "No dividend data available for RPD. Company doesn't give out dividends.\n",
      "Dividend per Share for RPD: N/A\n"
     ]
    },
    {
     "name": "stderr",
     "output_type": "stream",
     "text": [
      "/var/folders/mf/zm3qz5852hs67j4m4hwml0z80000gn/T/ipykernel_54164/356366209.py:336: FutureWarning: Series.__getitem__ treating keys as positions is deprecated. In a future version, integer keys will always be treated as labels (consistent with DataFrame behavior). To access a value by position, use `ser.iloc[pos]`\n",
      "  total_return = (data['Close'][-1] / data['Close'][0]) - 1\n"
     ]
    },
    {
     "name": "stdout",
     "output_type": "stream",
     "text": [
      "Required Rate of Return for RPD: 22.7874179461758\n",
      "No dividend data available for RNG. Company doesn't give out dividends.\n",
      "Dividend per Share for RNG: N/A\n",
      "Required Rate of Return for RNG: 23.733817322695\n"
     ]
    },
    {
     "name": "stderr",
     "output_type": "stream",
     "text": [
      "/var/folders/mf/zm3qz5852hs67j4m4hwml0z80000gn/T/ipykernel_54164/356366209.py:336: FutureWarning: Series.__getitem__ treating keys as positions is deprecated. In a future version, integer keys will always be treated as labels (consistent with DataFrame behavior). To access a value by position, use `ser.iloc[pos]`\n",
      "  total_return = (data['Close'][-1] / data['Close'][0]) - 1\n"
     ]
    },
    {
     "name": "stdout",
     "output_type": "stream",
     "text": [
      "No dividend data available for CXM. Company doesn't give out dividends.\n",
      "Dividend per Share for CXM: N/A\n",
      "Required Rate of Return for CXM: 18.33241600304885\n"
     ]
    },
    {
     "name": "stderr",
     "output_type": "stream",
     "text": [
      "/var/folders/mf/zm3qz5852hs67j4m4hwml0z80000gn/T/ipykernel_54164/356366209.py:336: FutureWarning: Series.__getitem__ treating keys as positions is deprecated. In a future version, integer keys will always be treated as labels (consistent with DataFrame behavior). To access a value by position, use `ser.iloc[pos]`\n",
      "  total_return = (data['Close'][-1] / data['Close'][0]) - 1\n"
     ]
    },
    {
     "name": "stdout",
     "output_type": "stream",
     "text": [
      "No dividend data available for CERT. Company doesn't give out dividends.\n",
      "Dividend per Share for CERT: N/A\n",
      "Required Rate of Return for CERT: 35.27527313390472\n"
     ]
    },
    {
     "name": "stderr",
     "output_type": "stream",
     "text": [
      "/var/folders/mf/zm3qz5852hs67j4m4hwml0z80000gn/T/ipykernel_54164/356366209.py:336: FutureWarning: Series.__getitem__ treating keys as positions is deprecated. In a future version, integer keys will always be treated as labels (consistent with DataFrame behavior). To access a value by position, use `ser.iloc[pos]`\n",
      "  total_return = (data['Close'][-1] / data['Close'][0]) - 1\n"
     ]
    },
    {
     "name": "stdout",
     "output_type": "stream",
     "text": [
      "No dividend data available for PYCR. Company doesn't give out dividends.\n",
      "Dividend per Share for PYCR: N/A\n",
      "Required Rate of Return for PYCR: 9.537826674907041\n"
     ]
    },
    {
     "name": "stderr",
     "output_type": "stream",
     "text": [
      "/var/folders/mf/zm3qz5852hs67j4m4hwml0z80000gn/T/ipykernel_54164/356366209.py:336: FutureWarning: Series.__getitem__ treating keys as positions is deprecated. In a future version, integer keys will always be treated as labels (consistent with DataFrame behavior). To access a value by position, use `ser.iloc[pos]`\n",
      "  total_return = (data['Close'][-1] / data['Close'][0]) - 1\n"
     ]
    },
    {
     "name": "stdout",
     "output_type": "stream",
     "text": [
      "No dividend data available for APPN. Company doesn't give out dividends.\n",
      "Dividend per Share for APPN: N/A\n",
      "Required Rate of Return for APPN: 34.028795906294064\n"
     ]
    },
    {
     "name": "stderr",
     "output_type": "stream",
     "text": [
      "/var/folders/mf/zm3qz5852hs67j4m4hwml0z80000gn/T/ipykernel_54164/356366209.py:336: FutureWarning: Series.__getitem__ treating keys as positions is deprecated. In a future version, integer keys will always be treated as labels (consistent with DataFrame behavior). To access a value by position, use `ser.iloc[pos]`\n",
      "  total_return = (data['Close'][-1] / data['Close'][0]) - 1\n"
     ]
    },
    {
     "name": "stdout",
     "output_type": "stream",
     "text": [
      "No dividend data available for PD. Company doesn't give out dividends.\n",
      "Dividend per Share for PD: N/A\n",
      "Required Rate of Return for PD: 24.818714168948713\n"
     ]
    },
    {
     "name": "stderr",
     "output_type": "stream",
     "text": [
      "/var/folders/mf/zm3qz5852hs67j4m4hwml0z80000gn/T/ipykernel_54164/356366209.py:336: FutureWarning: Series.__getitem__ treating keys as positions is deprecated. In a future version, integer keys will always be treated as labels (consistent with DataFrame behavior). To access a value by position, use `ser.iloc[pos]`\n",
      "  total_return = (data['Close'][-1] / data['Close'][0]) - 1\n"
     ]
    },
    {
     "name": "stdout",
     "output_type": "stream",
     "text": [
      "No dividend data available for JAMF. Company doesn't give out dividends.\n",
      "Dividend per Share for JAMF: N/A\n",
      "Required Rate of Return for JAMF: 9.722489967886398\n"
     ]
    },
    {
     "name": "stderr",
     "output_type": "stream",
     "text": [
      "/var/folders/mf/zm3qz5852hs67j4m4hwml0z80000gn/T/ipykernel_54164/356366209.py:336: FutureWarning: Series.__getitem__ treating keys as positions is deprecated. In a future version, integer keys will always be treated as labels (consistent with DataFrame behavior). To access a value by position, use `ser.iloc[pos]`\n",
      "  total_return = (data['Close'][-1] / data['Close'][0]) - 1\n"
     ]
    },
    {
     "name": "stdout",
     "output_type": "stream",
     "text": [
      "Dividend per Share for SWI: 1.0\n",
      "Required Rate of Return for SWI: 22.094930597503218\n"
     ]
    },
    {
     "name": "stderr",
     "output_type": "stream",
     "text": [
      "/var/folders/mf/zm3qz5852hs67j4m4hwml0z80000gn/T/ipykernel_54164/356366209.py:336: FutureWarning: Series.__getitem__ treating keys as positions is deprecated. In a future version, integer keys will always be treated as labels (consistent with DataFrame behavior). To access a value by position, use `ser.iloc[pos]`\n",
      "  total_return = (data['Close'][-1] / data['Close'][0]) - 1\n"
     ]
    },
    {
     "name": "stdout",
     "output_type": "stream",
     "text": [
      "No dividend data available for EVCM. Company doesn't give out dividends.\n",
      "Dividend per Share for EVCM: N/A\n",
      "Required Rate of Return for EVCM: 25.74203063384549\n"
     ]
    },
    {
     "name": "stderr",
     "output_type": "stream",
     "text": [
      "/var/folders/mf/zm3qz5852hs67j4m4hwml0z80000gn/T/ipykernel_54164/356366209.py:336: FutureWarning: Series.__getitem__ treating keys as positions is deprecated. In a future version, integer keys will always be treated as labels (consistent with DataFrame behavior). To access a value by position, use `ser.iloc[pos]`\n",
      "  total_return = (data['Close'][-1] / data['Close'][0]) - 1\n"
     ]
    },
    {
     "name": "stdout",
     "output_type": "stream",
     "text": [
      "Dividend per Share for RAMP: 0.06\n",
      "Required Rate of Return for RAMP: 23.087495797267255\n"
     ]
    },
    {
     "name": "stderr",
     "output_type": "stream",
     "text": [
      "/var/folders/mf/zm3qz5852hs67j4m4hwml0z80000gn/T/ipykernel_54164/356366209.py:336: FutureWarning: Series.__getitem__ treating keys as positions is deprecated. In a future version, integer keys will always be treated as labels (consistent with DataFrame behavior). To access a value by position, use `ser.iloc[pos]`\n",
      "  total_return = (data['Close'][-1] / data['Close'][0]) - 1\n"
     ]
    },
    {
     "name": "stdout",
     "output_type": "stream",
     "text": [
      "No dividend data available for SPT. Company doesn't give out dividends.\n",
      "Dividend per Share for SPT: N/A\n",
      "Required Rate of Return for SPT: 22.995164150777576\n"
     ]
    },
    {
     "name": "stderr",
     "output_type": "stream",
     "text": [
      "/var/folders/mf/zm3qz5852hs67j4m4hwml0z80000gn/T/ipykernel_54164/356366209.py:336: FutureWarning: Series.__getitem__ treating keys as positions is deprecated. In a future version, integer keys will always be treated as labels (consistent with DataFrame behavior). To access a value by position, use `ser.iloc[pos]`\n",
      "  total_return = (data['Close'][-1] / data['Close'][0]) - 1\n"
     ]
    },
    {
     "name": "stdout",
     "output_type": "stream",
     "text": [
      "No dividend data available for SEMR. Company doesn't give out dividends.\n",
      "Dividend per Share for SEMR: N/A\n",
      "Required Rate of Return for SEMR: 36.775662389361976\n"
     ]
    },
    {
     "name": "stderr",
     "output_type": "stream",
     "text": [
      "/var/folders/mf/zm3qz5852hs67j4m4hwml0z80000gn/T/ipykernel_54164/356366209.py:336: FutureWarning: Series.__getitem__ treating keys as positions is deprecated. In a future version, integer keys will always be treated as labels (consistent with DataFrame behavior). To access a value by position, use `ser.iloc[pos]`\n",
      "  total_return = (data['Close'][-1] / data['Close'][0]) - 1\n"
     ]
    },
    {
     "name": "stdout",
     "output_type": "stream",
     "text": [
      "No dividend data available for AVPT. Company doesn't give out dividends.\n",
      "Dividend per Share for AVPT: N/A\n",
      "Required Rate of Return for AVPT: N/A\n"
     ]
    },
    {
     "name": "stderr",
     "output_type": "stream",
     "text": [
      "/var/folders/mf/zm3qz5852hs67j4m4hwml0z80000gn/T/ipykernel_54164/356366209.py:336: FutureWarning: Series.__getitem__ treating keys as positions is deprecated. In a future version, integer keys will always be treated as labels (consistent with DataFrame behavior). To access a value by position, use `ser.iloc[pos]`\n",
      "  total_return = (data['Close'][-1] / data['Close'][0]) - 1\n"
     ]
    },
    {
     "name": "stdout",
     "output_type": "stream",
     "text": [
      "No dividend data available for DFIN. Company doesn't give out dividends.\n",
      "Dividend per Share for DFIN: N/A\n",
      "Required Rate of Return for DFIN: 32.57457247408164\n"
     ]
    },
    {
     "name": "stderr",
     "output_type": "stream",
     "text": [
      "/var/folders/mf/zm3qz5852hs67j4m4hwml0z80000gn/T/ipykernel_54164/356366209.py:336: FutureWarning: Series.__getitem__ treating keys as positions is deprecated. In a future version, integer keys will always be treated as labels (consistent with DataFrame behavior). To access a value by position, use `ser.iloc[pos]`\n",
      "  total_return = (data['Close'][-1] / data['Close'][0]) - 1\n"
     ]
    },
    {
     "name": "stdout",
     "output_type": "stream",
     "text": [
      "No dividend data available for TDOC. Company doesn't give out dividends.\n",
      "Dividend per Share for TDOC: N/A\n",
      "Required Rate of Return for TDOC: 21.65635527667725\n"
     ]
    },
    {
     "name": "stderr",
     "output_type": "stream",
     "text": [
      "/var/folders/mf/zm3qz5852hs67j4m4hwml0z80000gn/T/ipykernel_54164/356366209.py:336: FutureWarning: Series.__getitem__ treating keys as positions is deprecated. In a future version, integer keys will always be treated as labels (consistent with DataFrame behavior). To access a value by position, use `ser.iloc[pos]`\n",
      "  total_return = (data['Close'][-1] / data['Close'][0]) - 1\n"
     ]
    },
    {
     "name": "stdout",
     "output_type": "stream",
     "text": [
      "No dividend data available for DCBO. Company doesn't give out dividends.\n",
      "Dividend per Share for DCBO: N/A\n",
      "Required Rate of Return for DCBO: 31.62817309756245\n"
     ]
    },
    {
     "name": "stderr",
     "output_type": "stream",
     "text": [
      "/var/folders/mf/zm3qz5852hs67j4m4hwml0z80000gn/T/ipykernel_54164/356366209.py:336: FutureWarning: Series.__getitem__ treating keys as positions is deprecated. In a future version, integer keys will always be treated as labels (consistent with DataFrame behavior). To access a value by position, use `ser.iloc[pos]`\n",
      "  total_return = (data['Close'][-1] / data['Close'][0]) - 1\n"
     ]
    },
    {
     "name": "stdout",
     "output_type": "stream",
     "text": [
      "No dividend data available for LZ. Company doesn't give out dividends.\n",
      "Dividend per Share for LZ: N/A\n",
      "Required Rate of Return for LZ: 25.372704047886778\n"
     ]
    },
    {
     "name": "stderr",
     "output_type": "stream",
     "text": [
      "/var/folders/mf/zm3qz5852hs67j4m4hwml0z80000gn/T/ipykernel_54164/356366209.py:336: FutureWarning: Series.__getitem__ treating keys as positions is deprecated. In a future version, integer keys will always be treated as labels (consistent with DataFrame behavior). To access a value by position, use `ser.iloc[pos]`\n",
      "  total_return = (data['Close'][-1] / data['Close'][0]) - 1\n"
     ]
    },
    {
     "name": "stdout",
     "output_type": "stream",
     "text": [
      "No dividend data available for IAS. Company doesn't give out dividends.\n",
      "Dividend per Share for IAS: N/A\n",
      "Required Rate of Return for IAS: 34.92902945956842\n"
     ]
    },
    {
     "name": "stderr",
     "output_type": "stream",
     "text": [
      "/var/folders/mf/zm3qz5852hs67j4m4hwml0z80000gn/T/ipykernel_54164/356366209.py:336: FutureWarning: Series.__getitem__ treating keys as positions is deprecated. In a future version, integer keys will always be treated as labels (consistent with DataFrame behavior). To access a value by position, use `ser.iloc[pos]`\n",
      "  total_return = (data['Close'][-1] / data['Close'][0]) - 1\n"
     ]
    },
    {
     "name": "stdout",
     "output_type": "stream",
     "text": [
      "No dividend data available for PAR. Company doesn't give out dividends.\n",
      "Dividend per Share for PAR: N/A\n",
      "Required Rate of Return for PAR: 50.37149733496703\n"
     ]
    },
    {
     "name": "stderr",
     "output_type": "stream",
     "text": [
      "/var/folders/mf/zm3qz5852hs67j4m4hwml0z80000gn/T/ipykernel_54164/356366209.py:336: FutureWarning: Series.__getitem__ treating keys as positions is deprecated. In a future version, integer keys will always be treated as labels (consistent with DataFrame behavior). To access a value by position, use `ser.iloc[pos]`\n",
      "  total_return = (data['Close'][-1] / data['Close'][0]) - 1\n"
     ]
    },
    {
     "name": "stdout",
     "output_type": "stream",
     "text": [
      "No dividend data available for RUM. Company doesn't give out dividends.\n",
      "Dividend per Share for RUM: N/A\n",
      "Required Rate of Return for RUM: 18.009255240334976\n"
     ]
    },
    {
     "name": "stderr",
     "output_type": "stream",
     "text": [
      "/var/folders/mf/zm3qz5852hs67j4m4hwml0z80000gn/T/ipykernel_54164/356366209.py:336: FutureWarning: Series.__getitem__ treating keys as positions is deprecated. In a future version, integer keys will always be treated as labels (consistent with DataFrame behavior). To access a value by position, use `ser.iloc[pos]`\n",
      "  total_return = (data['Close'][-1] / data['Close'][0]) - 1\n"
     ]
    },
    {
     "name": "stdout",
     "output_type": "stream",
     "text": [
      "No dividend data available for ZUO. Company doesn't give out dividends.\n",
      "Dividend per Share for ZUO: N/A\n",
      "Required Rate of Return for ZUO: 39.66102634216441\n"
     ]
    },
    {
     "name": "stderr",
     "output_type": "stream",
     "text": [
      "/var/folders/mf/zm3qz5852hs67j4m4hwml0z80000gn/T/ipykernel_54164/356366209.py:336: FutureWarning: Series.__getitem__ treating keys as positions is deprecated. In a future version, integer keys will always be treated as labels (consistent with DataFrame behavior). To access a value by position, use `ser.iloc[pos]`\n",
      "  total_return = (data['Close'][-1] / data['Close'][0]) - 1\n"
     ]
    },
    {
     "name": "stdout",
     "output_type": "stream",
     "text": [
      "No dividend data available for ETWO. Company doesn't give out dividends.\n",
      "Dividend per Share for ETWO: N/A\n",
      "Required Rate of Return for ETWO: 7.922022861337682\n"
     ]
    },
    {
     "name": "stderr",
     "output_type": "stream",
     "text": [
      "/var/folders/mf/zm3qz5852hs67j4m4hwml0z80000gn/T/ipykernel_54164/356366209.py:336: FutureWarning: Series.__getitem__ treating keys as positions is deprecated. In a future version, integer keys will always be treated as labels (consistent with DataFrame behavior). To access a value by position, use `ser.iloc[pos]`\n",
      "  total_return = (data['Close'][-1] / data['Close'][0]) - 1\n"
     ]
    },
    {
     "name": "stdout",
     "output_type": "stream",
     "text": [
      "No dividend data available for MTTR. Company doesn't give out dividends.\n",
      "Dividend per Share for MTTR: N/A\n",
      "Required Rate of Return for MTTR: 24.88796290381597\n"
     ]
    },
    {
     "name": "stderr",
     "output_type": "stream",
     "text": [
      "/var/folders/mf/zm3qz5852hs67j4m4hwml0z80000gn/T/ipykernel_54164/356366209.py:336: FutureWarning: Series.__getitem__ treating keys as positions is deprecated. In a future version, integer keys will always be treated as labels (consistent with DataFrame behavior). To access a value by position, use `ser.iloc[pos]`\n",
      "  total_return = (data['Close'][-1] / data['Close'][0]) - 1\n"
     ]
    },
    {
     "name": "stdout",
     "output_type": "stream",
     "text": [
      "No dividend data available for PRO. Company doesn't give out dividends.\n",
      "Dividend per Share for PRO: N/A\n",
      "Required Rate of Return for PRO: 27.91182432635292\n"
     ]
    },
    {
     "name": "stderr",
     "output_type": "stream",
     "text": [
      "/var/folders/mf/zm3qz5852hs67j4m4hwml0z80000gn/T/ipykernel_54164/356366209.py:336: FutureWarning: Series.__getitem__ treating keys as positions is deprecated. In a future version, integer keys will always be treated as labels (consistent with DataFrame behavior). To access a value by position, use `ser.iloc[pos]`\n",
      "  total_return = (data['Close'][-1] / data['Close'][0]) - 1\n"
     ]
    },
    {
     "name": "stdout",
     "output_type": "stream",
     "text": [
      "No dividend data available for BMBL. Company doesn't give out dividends.\n",
      "Dividend per Share for BMBL: N/A\n",
      "Required Rate of Return for BMBL: 39.36094849107296\n"
     ]
    },
    {
     "name": "stderr",
     "output_type": "stream",
     "text": [
      "/var/folders/mf/zm3qz5852hs67j4m4hwml0z80000gn/T/ipykernel_54164/356366209.py:336: FutureWarning: Series.__getitem__ treating keys as positions is deprecated. In a future version, integer keys will always be treated as labels (consistent with DataFrame behavior). To access a value by position, use `ser.iloc[pos]`\n",
      "  total_return = (data['Close'][-1] / data['Close'][0]) - 1\n"
     ]
    },
    {
     "name": "stdout",
     "output_type": "stream",
     "text": [
      "No dividend data available for VTEX. Company doesn't give out dividends.\n",
      "Dividend per Share for VTEX: N/A\n",
      "Required Rate of Return for VTEX: 31.72050474405213\n"
     ]
    },
    {
     "name": "stderr",
     "output_type": "stream",
     "text": [
      "/var/folders/mf/zm3qz5852hs67j4m4hwml0z80000gn/T/ipykernel_54164/356366209.py:336: FutureWarning: Series.__getitem__ treating keys as positions is deprecated. In a future version, integer keys will always be treated as labels (consistent with DataFrame behavior). To access a value by position, use `ser.iloc[pos]`\n",
      "  total_return = (data['Close'][-1] / data['Close'][0]) - 1\n"
     ]
    },
    {
     "name": "stdout",
     "output_type": "stream",
     "text": [
      "No dividend data available for WKME. Company doesn't give out dividends.\n",
      "Dividend per Share for WKME: N/A\n",
      "Required Rate of Return for WKME: 3.6055183879452453\n"
     ]
    },
    {
     "name": "stderr",
     "output_type": "stream",
     "text": [
      "/var/folders/mf/zm3qz5852hs67j4m4hwml0z80000gn/T/ipykernel_54164/356366209.py:336: FutureWarning: Series.__getitem__ treating keys as positions is deprecated. In a future version, integer keys will always be treated as labels (consistent with DataFrame behavior). To access a value by position, use `ser.iloc[pos]`\n",
      "  total_return = (data['Close'][-1] / data['Close'][0]) - 1\n"
     ]
    },
    {
     "name": "stdout",
     "output_type": "stream",
     "text": [
      "No dividend data available for SOUN. Company doesn't give out dividends.\n",
      "Dividend per Share for SOUN: N/A\n",
      "Required Rate of Return for SOUN: N/A\n"
     ]
    },
    {
     "name": "stderr",
     "output_type": "stream",
     "text": [
      "/var/folders/mf/zm3qz5852hs67j4m4hwml0z80000gn/T/ipykernel_54164/356366209.py:336: FutureWarning: Series.__getitem__ treating keys as positions is deprecated. In a future version, integer keys will always be treated as labels (consistent with DataFrame behavior). To access a value by position, use `ser.iloc[pos]`\n",
      "  total_return = (data['Close'][-1] / data['Close'][0]) - 1\n"
     ]
    },
    {
     "name": "stdout",
     "output_type": "stream",
     "text": [
      "No dividend data available for UDMY. Company doesn't give out dividends.\n",
      "Dividend per Share for UDMY: N/A\n",
      "Required Rate of Return for UDMY: 46.35507071266604\n"
     ]
    },
    {
     "name": "stderr",
     "output_type": "stream",
     "text": [
      "/var/folders/mf/zm3qz5852hs67j4m4hwml0z80000gn/T/ipykernel_54164/356366209.py:336: FutureWarning: Series.__getitem__ treating keys as positions is deprecated. In a future version, integer keys will always be treated as labels (consistent with DataFrame behavior). To access a value by position, use `ser.iloc[pos]`\n",
      "  total_return = (data['Close'][-1] / data['Close'][0]) - 1\n"
     ]
    },
    {
     "name": "stdout",
     "output_type": "stream",
     "text": [
      "Dividend per Share for CSGS: 0.3\n",
      "Required Rate of Return for CSGS: 18.886405881986914\n"
     ]
    },
    {
     "name": "stderr",
     "output_type": "stream",
     "text": [
      "/var/folders/mf/zm3qz5852hs67j4m4hwml0z80000gn/T/ipykernel_54164/356366209.py:336: FutureWarning: Series.__getitem__ treating keys as positions is deprecated. In a future version, integer keys will always be treated as labels (consistent with DataFrame behavior). To access a value by position, use `ser.iloc[pos]`\n",
      "  total_return = (data['Close'][-1] / data['Close'][0]) - 1\n"
     ]
    },
    {
     "name": "stdout",
     "output_type": "stream",
     "text": [
      "No dividend data available for GENI. Company doesn't give out dividends.\n",
      "Dividend per Share for GENI: N/A\n",
      "Required Rate of Return for GENI: 45.20092513154508\n"
     ]
    },
    {
     "name": "stderr",
     "output_type": "stream",
     "text": [
      "/var/folders/mf/zm3qz5852hs67j4m4hwml0z80000gn/T/ipykernel_54164/356366209.py:336: FutureWarning: Series.__getitem__ treating keys as positions is deprecated. In a future version, integer keys will always be treated as labels (consistent with DataFrame behavior). To access a value by position, use `ser.iloc[pos]`\n",
      "  total_return = (data['Close'][-1] / data['Close'][0]) - 1\n"
     ]
    },
    {
     "name": "stdout",
     "output_type": "stream",
     "text": [
      "No dividend data available for MODN. Company doesn't give out dividends.\n",
      "Dividend per Share for MODN: N/A\n",
      "Required Rate of Return for MODN: 15.677881166470614\n"
     ]
    },
    {
     "name": "stderr",
     "output_type": "stream",
     "text": [
      "/var/folders/mf/zm3qz5852hs67j4m4hwml0z80000gn/T/ipykernel_54164/356366209.py:336: FutureWarning: Series.__getitem__ treating keys as positions is deprecated. In a future version, integer keys will always be treated as labels (consistent with DataFrame behavior). To access a value by position, use `ser.iloc[pos]`\n",
      "  total_return = (data['Close'][-1] / data['Close'][0]) - 1\n"
     ]
    },
    {
     "name": "stdout",
     "output_type": "stream",
     "text": [
      "No dividend data available for RSKD. Company doesn't give out dividends.\n",
      "Dividend per Share for RSKD: N/A\n",
      "Required Rate of Return for RSKD: 32.25141171136777\n"
     ]
    },
    {
     "name": "stderr",
     "output_type": "stream",
     "text": [
      "/var/folders/mf/zm3qz5852hs67j4m4hwml0z80000gn/T/ipykernel_54164/356366209.py:336: FutureWarning: Series.__getitem__ treating keys as positions is deprecated. In a future version, integer keys will always be treated as labels (consistent with DataFrame behavior). To access a value by position, use `ser.iloc[pos]`\n",
      "  total_return = (data['Close'][-1] / data['Close'][0]) - 1\n"
     ]
    },
    {
     "name": "stdout",
     "output_type": "stream",
     "text": [
      "No dividend data available for AMPL. Company doesn't give out dividends.\n",
      "Dividend per Share for AMPL: N/A\n",
      "Required Rate of Return for AMPL: N/A\n"
     ]
    },
    {
     "name": "stderr",
     "output_type": "stream",
     "text": [
      "/var/folders/mf/zm3qz5852hs67j4m4hwml0z80000gn/T/ipykernel_54164/356366209.py:336: FutureWarning: Series.__getitem__ treating keys as positions is deprecated. In a future version, integer keys will always be treated as labels (consistent with DataFrame behavior). To access a value by position, use `ser.iloc[pos]`\n",
      "  total_return = (data['Close'][-1] / data['Close'][0]) - 1\n"
     ]
    },
    {
     "name": "stdout",
     "output_type": "stream",
     "text": [
      "No dividend data available for COUR. Company doesn't give out dividends.\n",
      "Dividend per Share for COUR: N/A\n",
      "Required Rate of Return for COUR: 33.42864020411116\n"
     ]
    },
    {
     "name": "stderr",
     "output_type": "stream",
     "text": [
      "/var/folders/mf/zm3qz5852hs67j4m4hwml0z80000gn/T/ipykernel_54164/356366209.py:336: FutureWarning: Series.__getitem__ treating keys as positions is deprecated. In a future version, integer keys will always be treated as labels (consistent with DataFrame behavior). To access a value by position, use `ser.iloc[pos]`\n",
      "  total_return = (data['Close'][-1] / data['Close'][0]) - 1\n"
     ]
    },
    {
     "name": "stdout",
     "output_type": "stream",
     "text": [
      "Dividend per Share for KARO: 1.08\n",
      "Required Rate of Return for KARO: 23.6184027645829\n"
     ]
    },
    {
     "name": "stderr",
     "output_type": "stream",
     "text": [
      "/var/folders/mf/zm3qz5852hs67j4m4hwml0z80000gn/T/ipykernel_54164/356366209.py:336: FutureWarning: Series.__getitem__ treating keys as positions is deprecated. In a future version, integer keys will always be treated as labels (consistent with DataFrame behavior). To access a value by position, use `ser.iloc[pos]`\n",
      "  total_return = (data['Close'][-1] / data['Close'][0]) - 1\n"
     ]
    },
    {
     "name": "stdout",
     "output_type": "stream",
     "text": [
      "No dividend data available for PUBM. Company doesn't give out dividends.\n",
      "Dividend per Share for PUBM: N/A\n",
      "Required Rate of Return for PUBM: N/A\n"
     ]
    },
    {
     "name": "stderr",
     "output_type": "stream",
     "text": [
      "/var/folders/mf/zm3qz5852hs67j4m4hwml0z80000gn/T/ipykernel_54164/356366209.py:336: FutureWarning: Series.__getitem__ treating keys as positions is deprecated. In a future version, integer keys will always be treated as labels (consistent with DataFrame behavior). To access a value by position, use `ser.iloc[pos]`\n",
      "  total_return = (data['Close'][-1] / data['Close'][0]) - 1\n"
     ]
    },
    {
     "name": "stdout",
     "output_type": "stream",
     "text": [
      "Dividend per Share for SABR: 0.14\n",
      "Required Rate of Return for SABR: 40.03035292812312\n"
     ]
    },
    {
     "name": "stderr",
     "output_type": "stream",
     "text": [
      "/var/folders/mf/zm3qz5852hs67j4m4hwml0z80000gn/T/ipykernel_54164/356366209.py:336: FutureWarning: Series.__getitem__ treating keys as positions is deprecated. In a future version, integer keys will always be treated as labels (consistent with DataFrame behavior). To access a value by position, use `ser.iloc[pos]`\n",
      "  total_return = (data['Close'][-1] / data['Close'][0]) - 1\n"
     ]
    },
    {
     "name": "stdout",
     "output_type": "stream",
     "text": [
      "No dividend data available for FSLY. Company doesn't give out dividends.\n",
      "Dividend per Share for FSLY: N/A\n",
      "Required Rate of Return for FSLY: 26.019025573314522\n"
     ]
    },
    {
     "name": "stderr",
     "output_type": "stream",
     "text": [
      "/var/folders/mf/zm3qz5852hs67j4m4hwml0z80000gn/T/ipykernel_54164/356366209.py:336: FutureWarning: Series.__getitem__ treating keys as positions is deprecated. In a future version, integer keys will always be treated as labels (consistent with DataFrame behavior). To access a value by position, use `ser.iloc[pos]`\n",
      "  total_return = (data['Close'][-1] / data['Close'][0]) - 1\n"
     ]
    },
    {
     "name": "stdout",
     "output_type": "stream",
     "text": [
      "No dividend data available for TTGT. Company doesn't give out dividends.\n",
      "Dividend per Share for TTGT: N/A\n",
      "Required Rate of Return for TTGT: N/A\n"
     ]
    },
    {
     "name": "stderr",
     "output_type": "stream",
     "text": [
      "/var/folders/mf/zm3qz5852hs67j4m4hwml0z80000gn/T/ipykernel_54164/356366209.py:336: FutureWarning: Series.__getitem__ treating keys as positions is deprecated. In a future version, integer keys will always be treated as labels (consistent with DataFrame behavior). To access a value by position, use `ser.iloc[pos]`\n",
      "  total_return = (data['Close'][-1] / data['Close'][0]) - 1\n"
     ]
    },
    {
     "name": "stdout",
     "output_type": "stream",
     "text": [
      "No dividend data available for BASE. Company doesn't give out dividends.\n",
      "Dividend per Share for BASE: N/A\n",
      "Required Rate of Return for BASE: 14.13132608776851\n"
     ]
    },
    {
     "name": "stderr",
     "output_type": "stream",
     "text": [
      "/var/folders/mf/zm3qz5852hs67j4m4hwml0z80000gn/T/ipykernel_54164/356366209.py:336: FutureWarning: Series.__getitem__ treating keys as positions is deprecated. In a future version, integer keys will always be treated as labels (consistent with DataFrame behavior). To access a value by position, use `ser.iloc[pos]`\n",
      "  total_return = (data['Close'][-1] / data['Close'][0]) - 1\n"
     ]
    },
    {
     "name": "stdout",
     "output_type": "stream",
     "text": [
      "No dividend data available for OLO. Company doesn't give out dividends.\n",
      "Dividend per Share for OLO: N/A\n",
      "Required Rate of Return for OLO: 29.204467377208402\n"
     ]
    },
    {
     "name": "stderr",
     "output_type": "stream",
     "text": [
      "/var/folders/mf/zm3qz5852hs67j4m4hwml0z80000gn/T/ipykernel_54164/356366209.py:336: FutureWarning: Series.__getitem__ treating keys as positions is deprecated. In a future version, integer keys will always be treated as labels (consistent with DataFrame behavior). To access a value by position, use `ser.iloc[pos]`\n",
      "  total_return = (data['Close'][-1] / data['Close'][0]) - 1\n"
     ]
    },
    {
     "name": "stdout",
     "output_type": "stream",
     "text": [
      "No dividend data available for KC. Company doesn't give out dividends.\n",
      "Dividend per Share for KC: N/A\n",
      "Required Rate of Return for KC: 46.03190994995217\n"
     ]
    },
    {
     "name": "stderr",
     "output_type": "stream",
     "text": [
      "/var/folders/mf/zm3qz5852hs67j4m4hwml0z80000gn/T/ipykernel_54164/356366209.py:336: FutureWarning: Series.__getitem__ treating keys as positions is deprecated. In a future version, integer keys will always be treated as labels (consistent with DataFrame behavior). To access a value by position, use `ser.iloc[pos]`\n",
      "  total_return = (data['Close'][-1] / data['Close'][0]) - 1\n"
     ]
    },
    {
     "name": "stdout",
     "output_type": "stream",
     "text": [
      "No dividend data available for RXT. Company doesn't give out dividends.\n",
      "Dividend per Share for RXT: N/A\n",
      "Required Rate of Return for RXT: N/A\n"
     ]
    },
    {
     "name": "stderr",
     "output_type": "stream",
     "text": [
      "/var/folders/mf/zm3qz5852hs67j4m4hwml0z80000gn/T/ipykernel_54164/356366209.py:336: FutureWarning: Series.__getitem__ treating keys as positions is deprecated. In a future version, integer keys will always be treated as labels (consistent with DataFrame behavior). To access a value by position, use `ser.iloc[pos]`\n",
      "  total_return = (data['Close'][-1] / data['Close'][0]) - 1\n"
     ]
    },
    {
     "name": "stdout",
     "output_type": "stream",
     "text": [
      "No dividend data available for THRY. Company doesn't give out dividends.\n",
      "Dividend per Share for THRY: N/A\n",
      "Required Rate of Return for THRY: 22.39500844859467\n"
     ]
    },
    {
     "name": "stderr",
     "output_type": "stream",
     "text": [
      "/var/folders/mf/zm3qz5852hs67j4m4hwml0z80000gn/T/ipykernel_54164/356366209.py:336: FutureWarning: Series.__getitem__ treating keys as positions is deprecated. In a future version, integer keys will always be treated as labels (consistent with DataFrame behavior). To access a value by position, use `ser.iloc[pos]`\n",
      "  total_return = (data['Close'][-1] / data['Close'][0]) - 1\n"
     ]
    },
    {
     "name": "stdout",
     "output_type": "stream",
     "text": [
      "No dividend data available for YEXT. Company doesn't give out dividends.\n",
      "Dividend per Share for YEXT: N/A\n",
      "Required Rate of Return for YEXT: 28.027238884465014\n"
     ]
    },
    {
     "name": "stderr",
     "output_type": "stream",
     "text": [
      "/var/folders/mf/zm3qz5852hs67j4m4hwml0z80000gn/T/ipykernel_54164/356366209.py:336: FutureWarning: Series.__getitem__ treating keys as positions is deprecated. In a future version, integer keys will always be treated as labels (consistent with DataFrame behavior). To access a value by position, use `ser.iloc[pos]`\n",
      "  total_return = (data['Close'][-1] / data['Close'][0]) - 1\n"
     ]
    },
    {
     "name": "stdout",
     "output_type": "stream",
     "text": [
      "No dividend data available for WEAV. Company doesn't give out dividends.\n",
      "Dividend per Share for WEAV: N/A\n",
      "Required Rate of Return for WEAV: 48.01704034948025\n"
     ]
    },
    {
     "name": "stderr",
     "output_type": "stream",
     "text": [
      "/var/folders/mf/zm3qz5852hs67j4m4hwml0z80000gn/T/ipykernel_54164/356366209.py:336: FutureWarning: Series.__getitem__ treating keys as positions is deprecated. In a future version, integer keys will always be treated as labels (consistent with DataFrame behavior). To access a value by position, use `ser.iloc[pos]`\n",
      "  total_return = (data['Close'][-1] / data['Close'][0]) - 1\n"
     ]
    },
    {
     "name": "stdout",
     "output_type": "stream",
     "text": [
      "No dividend data available for SMWB. Company doesn't give out dividends.\n",
      "Dividend per Share for SMWB: N/A\n",
      "Required Rate of Return for SMWB: 17.686094477621104\n"
     ]
    },
    {
     "name": "stderr",
     "output_type": "stream",
     "text": [
      "/var/folders/mf/zm3qz5852hs67j4m4hwml0z80000gn/T/ipykernel_54164/356366209.py:336: FutureWarning: Series.__getitem__ treating keys as positions is deprecated. In a future version, integer keys will always be treated as labels (consistent with DataFrame behavior). To access a value by position, use `ser.iloc[pos]`\n",
      "  total_return = (data['Close'][-1] / data['Close'][0]) - 1\n"
     ]
    },
    {
     "name": "stdout",
     "output_type": "stream",
     "text": [
      "No dividend data available for VMEO. Company doesn't give out dividends.\n",
      "Dividend per Share for VMEO: N/A\n",
      "Required Rate of Return for VMEO: 47.047558061338634\n"
     ]
    },
    {
     "name": "stderr",
     "output_type": "stream",
     "text": [
      "/var/folders/mf/zm3qz5852hs67j4m4hwml0z80000gn/T/ipykernel_54164/356366209.py:336: FutureWarning: Series.__getitem__ treating keys as positions is deprecated. In a future version, integer keys will always be treated as labels (consistent with DataFrame behavior). To access a value by position, use `ser.iloc[pos]`\n",
      "  total_return = (data['Close'][-1] / data['Close'][0]) - 1\n"
     ]
    },
    {
     "name": "stdout",
     "output_type": "stream",
     "text": [
      "No dividend data available for BIGC. Company doesn't give out dividends.\n",
      "Dividend per Share for BIGC: N/A\n",
      "Required Rate of Return for BIGC: 23.31832491349145\n"
     ]
    },
    {
     "name": "stderr",
     "output_type": "stream",
     "text": [
      "/var/folders/mf/zm3qz5852hs67j4m4hwml0z80000gn/T/ipykernel_54164/356366209.py:336: FutureWarning: Series.__getitem__ treating keys as positions is deprecated. In a future version, integer keys will always be treated as labels (consistent with DataFrame behavior). To access a value by position, use `ser.iloc[pos]`\n",
      "  total_return = (data['Close'][-1] / data['Close'][0]) - 1\n"
     ]
    },
    {
     "name": "stdout",
     "output_type": "stream",
     "text": [
      "No dividend data available for BLND. Company doesn't give out dividends.\n",
      "Dividend per Share for BLND: N/A\n",
      "Required Rate of Return for BLND: N/A\n"
     ]
    },
    {
     "name": "stderr",
     "output_type": "stream",
     "text": [
      "/var/folders/mf/zm3qz5852hs67j4m4hwml0z80000gn/T/ipykernel_54164/356366209.py:336: FutureWarning: Series.__getitem__ treating keys as positions is deprecated. In a future version, integer keys will always be treated as labels (consistent with DataFrame behavior). To access a value by position, use `ser.iloc[pos]`\n",
      "  total_return = (data['Close'][-1] / data['Close'][0]) - 1\n"
     ]
    },
    {
     "name": "stdout",
     "output_type": "stream",
     "text": [
      "No dividend data available for CGNT. Company doesn't give out dividends.\n",
      "Dividend per Share for CGNT: N/A\n",
      "Required Rate of Return for CGNT: 39.86877254676619\n"
     ]
    },
    {
     "name": "stderr",
     "output_type": "stream",
     "text": [
      "/var/folders/mf/zm3qz5852hs67j4m4hwml0z80000gn/T/ipykernel_54164/356366209.py:336: FutureWarning: Series.__getitem__ treating keys as positions is deprecated. In a future version, integer keys will always be treated as labels (consistent with DataFrame behavior). To access a value by position, use `ser.iloc[pos]`\n",
      "  total_return = (data['Close'][-1] / data['Close'][0]) - 1\n"
     ]
    },
    {
     "name": "stdout",
     "output_type": "stream",
     "text": [
      "No dividend data available for MITK. Company doesn't give out dividends.\n",
      "Dividend per Share for MITK: N/A\n",
      "Required Rate of Return for MITK: N/A\n"
     ]
    },
    {
     "name": "stderr",
     "output_type": "stream",
     "text": [
      "/var/folders/mf/zm3qz5852hs67j4m4hwml0z80000gn/T/ipykernel_54164/356366209.py:336: FutureWarning: Series.__getitem__ treating keys as positions is deprecated. In a future version, integer keys will always be treated as labels (consistent with DataFrame behavior). To access a value by position, use `ser.iloc[pos]`\n",
      "  total_return = (data['Close'][-1] / data['Close'][0]) - 1\n"
     ]
    },
    {
     "name": "stdout",
     "output_type": "stream",
     "text": [
      "No dividend data available for EB. Company doesn't give out dividends.\n",
      "Dividend per Share for EB: N/A\n",
      "Required Rate of Return for EB: N/A\n"
     ]
    },
    {
     "name": "stderr",
     "output_type": "stream",
     "text": [
      "/var/folders/mf/zm3qz5852hs67j4m4hwml0z80000gn/T/ipykernel_54164/356366209.py:336: FutureWarning: Series.__getitem__ treating keys as positions is deprecated. In a future version, integer keys will always be treated as labels (consistent with DataFrame behavior). To access a value by position, use `ser.iloc[pos]`\n",
      "  total_return = (data['Close'][-1] / data['Close'][0]) - 1\n"
     ]
    },
    {
     "name": "stdout",
     "output_type": "stream",
     "text": [
      "No dividend data available for OSPN. Company doesn't give out dividends.\n",
      "Dividend per Share for OSPN: N/A\n",
      "Required Rate of Return for OSPN: 17.870757770600463\n"
     ]
    },
    {
     "name": "stderr",
     "output_type": "stream",
     "text": [
      "/var/folders/mf/zm3qz5852hs67j4m4hwml0z80000gn/T/ipykernel_54164/356366209.py:336: FutureWarning: Series.__getitem__ treating keys as positions is deprecated. In a future version, integer keys will always be treated as labels (consistent with DataFrame behavior). To access a value by position, use `ser.iloc[pos]`\n",
      "  total_return = (data['Close'][-1] / data['Close'][0]) - 1\n"
     ]
    },
    {
     "name": "stdout",
     "output_type": "stream",
     "text": [
      "Dividend per Share for PERI: 1.2\n",
      "Required Rate of Return for PERI: 32.50532373921438\n"
     ]
    },
    {
     "name": "stderr",
     "output_type": "stream",
     "text": [
      "/var/folders/mf/zm3qz5852hs67j4m4hwml0z80000gn/T/ipykernel_54164/356366209.py:336: FutureWarning: Series.__getitem__ treating keys as positions is deprecated. In a future version, integer keys will always be treated as labels (consistent with DataFrame behavior). To access a value by position, use `ser.iloc[pos]`\n",
      "  total_return = (data['Close'][-1] / data['Close'][0]) - 1\n"
     ]
    },
    {
     "name": "stdout",
     "output_type": "stream",
     "text": [
      "No dividend data available for HCAT. Company doesn't give out dividends.\n",
      "Dividend per Share for HCAT: N/A\n",
      "Required Rate of Return for HCAT: 30.543276251308733\n"
     ]
    },
    {
     "name": "stderr",
     "output_type": "stream",
     "text": [
      "/var/folders/mf/zm3qz5852hs67j4m4hwml0z80000gn/T/ipykernel_54164/356366209.py:336: FutureWarning: Series.__getitem__ treating keys as positions is deprecated. In a future version, integer keys will always be treated as labels (consistent with DataFrame behavior). To access a value by position, use `ser.iloc[pos]`\n",
      "  total_return = (data['Close'][-1] / data['Close'][0]) - 1\n"
     ]
    },
    {
     "name": "stdout",
     "output_type": "stream",
     "text": [
      "No dividend data available for LAW. Company doesn't give out dividends.\n",
      "Dividend per Share for LAW: N/A\n",
      "Required Rate of Return for LAW: N/A\n"
     ]
    },
    {
     "name": "stderr",
     "output_type": "stream",
     "text": [
      "/var/folders/mf/zm3qz5852hs67j4m4hwml0z80000gn/T/ipykernel_54164/356366209.py:336: FutureWarning: Series.__getitem__ treating keys as positions is deprecated. In a future version, integer keys will always be treated as labels (consistent with DataFrame behavior). To access a value by position, use `ser.iloc[pos]`\n",
      "  total_return = (data['Close'][-1] / data['Close'][0]) - 1\n"
     ]
    },
    {
     "name": "stdout",
     "output_type": "stream",
     "text": [
      "Dividend per Share for SPOK: 0.313\n",
      "Required Rate of Return for SPOK: 7.598862098623809\n"
     ]
    },
    {
     "name": "stderr",
     "output_type": "stream",
     "text": [
      "/var/folders/mf/zm3qz5852hs67j4m4hwml0z80000gn/T/ipykernel_54164/356366209.py:336: FutureWarning: Series.__getitem__ treating keys as positions is deprecated. In a future version, integer keys will always be treated as labels (consistent with DataFrame behavior). To access a value by position, use `ser.iloc[pos]`\n",
      "  total_return = (data['Close'][-1] / data['Close'][0]) - 1\n"
     ]
    },
    {
     "name": "stdout",
     "output_type": "stream",
     "text": [
      "No dividend data available for DOMO. Company doesn't give out dividends.\n",
      "Dividend per Share for DOMO: N/A\n",
      "Required Rate of Return for DOMO: 56.834712589244475\n"
     ]
    },
    {
     "name": "stderr",
     "output_type": "stream",
     "text": [
      "/var/folders/mf/zm3qz5852hs67j4m4hwml0z80000gn/T/ipykernel_54164/356366209.py:336: FutureWarning: Series.__getitem__ treating keys as positions is deprecated. In a future version, integer keys will always be treated as labels (consistent with DataFrame behavior). To access a value by position, use `ser.iloc[pos]`\n",
      "  total_return = (data['Close'][-1] / data['Close'][0]) - 1\n"
     ]
    },
    {
     "name": "stdout",
     "output_type": "stream",
     "text": [
      "No dividend data available for NRDY. Company doesn't give out dividends.\n",
      "Dividend per Share for NRDY: N/A\n",
      "Required Rate of Return for NRDY: N/A\n"
     ]
    },
    {
     "name": "stderr",
     "output_type": "stream",
     "text": [
      "/var/folders/mf/zm3qz5852hs67j4m4hwml0z80000gn/T/ipykernel_54164/356366209.py:336: FutureWarning: Series.__getitem__ treating keys as positions is deprecated. In a future version, integer keys will always be treated as labels (consistent with DataFrame behavior). To access a value by position, use `ser.iloc[pos]`\n",
      "  total_return = (data['Close'][-1] / data['Close'][0]) - 1\n"
     ]
    },
    {
     "name": "stdout",
     "output_type": "stream",
     "text": [
      "Dividend per Share for AMSWA: 0.11\n",
      "Required Rate of Return for AMSWA: 16.393451426765616\n"
     ]
    },
    {
     "name": "stderr",
     "output_type": "stream",
     "text": [
      "/var/folders/mf/zm3qz5852hs67j4m4hwml0z80000gn/T/ipykernel_54164/356366209.py:336: FutureWarning: Series.__getitem__ treating keys as positions is deprecated. In a future version, integer keys will always be treated as labels (consistent with DataFrame behavior). To access a value by position, use `ser.iloc[pos]`\n",
      "  total_return = (data['Close'][-1] / data['Close'][0]) - 1\n"
     ]
    },
    {
     "name": "stdout",
     "output_type": "stream",
     "text": [
      "No dividend data available for EGHT. Company doesn't give out dividends.\n",
      "Dividend per Share for EGHT: N/A\n",
      "Required Rate of Return for EGHT: 36.17550668717907\n"
     ]
    },
    {
     "name": "stderr",
     "output_type": "stream",
     "text": [
      "/var/folders/mf/zm3qz5852hs67j4m4hwml0z80000gn/T/ipykernel_54164/356366209.py:336: FutureWarning: Series.__getitem__ treating keys as positions is deprecated. In a future version, integer keys will always be treated as labels (consistent with DataFrame behavior). To access a value by position, use `ser.iloc[pos]`\n",
      "  total_return = (data['Close'][-1] / data['Close'][0]) - 1\n"
     ]
    },
    {
     "name": "stdout",
     "output_type": "stream",
     "text": [
      "No dividend data available for OB. Company doesn't give out dividends.\n",
      "Dividend per Share for OB: N/A\n",
      "Required Rate of Return for OB: 33.49788893897842\n"
     ]
    },
    {
     "name": "stderr",
     "output_type": "stream",
     "text": [
      "/var/folders/mf/zm3qz5852hs67j4m4hwml0z80000gn/T/ipykernel_54164/356366209.py:336: FutureWarning: Series.__getitem__ treating keys as positions is deprecated. In a future version, integer keys will always be treated as labels (consistent with DataFrame behavior). To access a value by position, use `ser.iloc[pos]`\n",
      "  total_return = (data['Close'][-1] / data['Close'][0]) - 1\n"
     ]
    },
    {
     "name": "stdout",
     "output_type": "stream",
     "text": [
      "No dividend data available for BLZE. Company doesn't give out dividends.\n",
      "Dividend per Share for BLZE: N/A\n",
      "Required Rate of Return for BLZE: N/A\n"
     ]
    },
    {
     "name": "stderr",
     "output_type": "stream",
     "text": [
      "/var/folders/mf/zm3qz5852hs67j4m4hwml0z80000gn/T/ipykernel_54164/356366209.py:336: FutureWarning: Series.__getitem__ treating keys as positions is deprecated. In a future version, integer keys will always be treated as labels (consistent with DataFrame behavior). To access a value by position, use `ser.iloc[pos]`\n",
      "  total_return = (data['Close'][-1] / data['Close'][0]) - 1\n"
     ]
    },
    {
     "name": "stdout",
     "output_type": "stream",
     "text": [
      "No dividend data available for ASUR. Company doesn't give out dividends.\n",
      "Dividend per Share for ASUR: N/A\n",
      "Required Rate of Return for ASUR: 14.362155203992705\n"
     ]
    },
    {
     "name": "stderr",
     "output_type": "stream",
     "text": [
      "/var/folders/mf/zm3qz5852hs67j4m4hwml0z80000gn/T/ipykernel_54164/356366209.py:336: FutureWarning: Series.__getitem__ treating keys as positions is deprecated. In a future version, integer keys will always be treated as labels (consistent with DataFrame behavior). To access a value by position, use `ser.iloc[pos]`\n",
      "  total_return = (data['Close'][-1] / data['Close'][0]) - 1\n"
     ]
    },
    {
     "name": "stdout",
     "output_type": "stream",
     "text": [
      "No dividend data available for NOTE. Company doesn't give out dividends.\n",
      "Dividend per Share for NOTE: N/A\n",
      "Required Rate of Return for NOTE: N/A\n"
     ]
    },
    {
     "name": "stderr",
     "output_type": "stream",
     "text": [
      "/var/folders/mf/zm3qz5852hs67j4m4hwml0z80000gn/T/ipykernel_54164/356366209.py:336: FutureWarning: Series.__getitem__ treating keys as positions is deprecated. In a future version, integer keys will always be treated as labels (consistent with DataFrame behavior). To access a value by position, use `ser.iloc[pos]`\n",
      "  total_return = (data['Close'][-1] / data['Close'][0]) - 1\n"
     ]
    },
    {
     "name": "stdout",
     "output_type": "stream",
     "text": [
      "No dividend data available for EGAN. Company doesn't give out dividends.\n",
      "Dividend per Share for EGAN: N/A\n",
      "Required Rate of Return for EGAN: 10.807386814140113\n"
     ]
    },
    {
     "name": "stderr",
     "output_type": "stream",
     "text": [
      "/var/folders/mf/zm3qz5852hs67j4m4hwml0z80000gn/T/ipykernel_54164/356366209.py:336: FutureWarning: Series.__getitem__ treating keys as positions is deprecated. In a future version, integer keys will always be treated as labels (consistent with DataFrame behavior). To access a value by position, use `ser.iloc[pos]`\n",
      "  total_return = (data['Close'][-1] / data['Close'][0]) - 1\n"
     ]
    },
    {
     "name": "stdout",
     "output_type": "stream",
     "text": [
      "No dividend data available for KLTR. Company doesn't give out dividends.\n",
      "Dividend per Share for KLTR: N/A\n",
      "Required Rate of Return for KLTR: 17.10902168706062\n"
     ]
    },
    {
     "name": "stderr",
     "output_type": "stream",
     "text": [
      "/var/folders/mf/zm3qz5852hs67j4m4hwml0z80000gn/T/ipykernel_54164/356366209.py:336: FutureWarning: Series.__getitem__ treating keys as positions is deprecated. In a future version, integer keys will always be treated as labels (consistent with DataFrame behavior). To access a value by position, use `ser.iloc[pos]`\n",
      "  total_return = (data['Close'][-1] / data['Close'][0]) - 1\n"
     ]
    },
    {
     "name": "stdout",
     "output_type": "stream",
     "text": [
      "No dividend data available for APPS. Company doesn't give out dividends.\n",
      "Dividend per Share for APPS: N/A\n",
      "Required Rate of Return for APPS: 57.73494614251884\n"
     ]
    },
    {
     "name": "stderr",
     "output_type": "stream",
     "text": [
      "/var/folders/mf/zm3qz5852hs67j4m4hwml0z80000gn/T/ipykernel_54164/356366209.py:336: FutureWarning: Series.__getitem__ treating keys as positions is deprecated. In a future version, integer keys will always be treated as labels (consistent with DataFrame behavior). To access a value by position, use `ser.iloc[pos]`\n",
      "  total_return = (data['Close'][-1] / data['Close'][0]) - 1\n"
     ]
    },
    {
     "name": "stdout",
     "output_type": "stream",
     "text": [
      "No dividend data available for EXFY. Company doesn't give out dividends.\n",
      "Dividend per Share for EXFY: N/A\n",
      "Required Rate of Return for EXFY: N/A\n"
     ]
    },
    {
     "name": "stderr",
     "output_type": "stream",
     "text": [
      "/var/folders/mf/zm3qz5852hs67j4m4hwml0z80000gn/T/ipykernel_54164/356366209.py:336: FutureWarning: Series.__getitem__ treating keys as positions is deprecated. In a future version, integer keys will always be treated as labels (consistent with DataFrame behavior). To access a value by position, use `ser.iloc[pos]`\n",
      "  total_return = (data['Close'][-1] / data['Close'][0]) - 1\n"
     ]
    },
    {
     "name": "stdout",
     "output_type": "stream",
     "text": [
      "No dividend data available for UPLD. Company doesn't give out dividends.\n",
      "Dividend per Share for UPLD: N/A\n",
      "Required Rate of Return for UPLD: 26.388352159273236\n"
     ]
    },
    {
     "name": "stderr",
     "output_type": "stream",
     "text": [
      "/var/folders/mf/zm3qz5852hs67j4m4hwml0z80000gn/T/ipykernel_54164/356366209.py:336: FutureWarning: Series.__getitem__ treating keys as positions is deprecated. In a future version, integer keys will always be treated as labels (consistent with DataFrame behavior). To access a value by position, use `ser.iloc[pos]`\n",
      "  total_return = (data['Close'][-1] / data['Close'][0]) - 1\n"
     ]
    },
    {
     "name": "stdout",
     "output_type": "stream",
     "text": [
      "No dividend data available for IDN. Company doesn't give out dividends.\n",
      "Dividend per Share for IDN: N/A\n",
      "Required Rate of Return for IDN: N/A\n"
     ]
    },
    {
     "name": "stderr",
     "output_type": "stream",
     "text": [
      "/var/folders/mf/zm3qz5852hs67j4m4hwml0z80000gn/T/ipykernel_54164/356366209.py:336: FutureWarning: Series.__getitem__ treating keys as positions is deprecated. In a future version, integer keys will always be treated as labels (consistent with DataFrame behavior). To access a value by position, use `ser.iloc[pos]`\n",
      "  total_return = (data['Close'][-1] / data['Close'][0]) - 1\n"
     ]
    },
    {
     "name": "stdout",
     "output_type": "stream",
     "text": [
      "No dividend data available for LPSN. Company doesn't give out dividends.\n",
      "Dividend per Share for LPSN: N/A\n",
      "Required Rate of Return for LPSN: 40.09960166299038\n"
     ]
    },
    {
     "name": "stderr",
     "output_type": "stream",
     "text": [
      "/var/folders/mf/zm3qz5852hs67j4m4hwml0z80000gn/T/ipykernel_54164/356366209.py:336: FutureWarning: Series.__getitem__ treating keys as positions is deprecated. In a future version, integer keys will always be treated as labels (consistent with DataFrame behavior). To access a value by position, use `ser.iloc[pos]`\n",
      "  total_return = (data['Close'][-1] / data['Close'][0]) - 1\n"
     ]
    },
    {
     "name": "stdout",
     "output_type": "stream",
     "text": [
      "Dividend per Share for AWRE: 1.75\n",
      "Required Rate of Return for AWRE: N/A\n"
     ]
    },
    {
     "name": "stderr",
     "output_type": "stream",
     "text": [
      "/var/folders/mf/zm3qz5852hs67j4m4hwml0z80000gn/T/ipykernel_54164/356366209.py:336: FutureWarning: Series.__getitem__ treating keys as positions is deprecated. In a future version, integer keys will always be treated as labels (consistent with DataFrame behavior). To access a value by position, use `ser.iloc[pos]`\n",
      "  total_return = (data['Close'][-1] / data['Close'][0]) - 1\n"
     ]
    },
    {
     "name": "stdout",
     "output_type": "stream",
     "text": [
      "No dividend data available for APCX. Company doesn't give out dividends.\n",
      "Dividend per Share for APCX: N/A\n",
      "Required Rate of Return for APCX: 19.648141965526758\n"
     ]
    },
    {
     "name": "stderr",
     "output_type": "stream",
     "text": [
      "/var/folders/mf/zm3qz5852hs67j4m4hwml0z80000gn/T/ipykernel_54164/356366209.py:336: FutureWarning: Series.__getitem__ treating keys as positions is deprecated. In a future version, integer keys will always be treated as labels (consistent with DataFrame behavior). To access a value by position, use `ser.iloc[pos]`\n",
      "  total_return = (data['Close'][-1] / data['Close'][0]) - 1\n"
     ]
    },
    {
     "name": "stdout",
     "output_type": "stream",
     "text": [
      "No dividend data available for XELA. Company doesn't give out dividends.\n",
      "Dividend per Share for XELA: N/A\n",
      "Required Rate of Return for XELA: 45.17784221992266\n"
     ]
    },
    {
     "name": "stderr",
     "output_type": "stream",
     "text": [
      "/var/folders/mf/zm3qz5852hs67j4m4hwml0z80000gn/T/ipykernel_54164/356366209.py:336: FutureWarning: Series.__getitem__ treating keys as positions is deprecated. In a future version, integer keys will always be treated as labels (consistent with DataFrame behavior). To access a value by position, use `ser.iloc[pos]`\n",
      "  total_return = (data['Close'][-1] / data['Close'][0]) - 1\n"
     ]
    },
    {
     "name": "stdout",
     "output_type": "stream",
     "text": [
      "No dividend data available for TWOU. Company doesn't give out dividends.\n",
      "Dividend per Share for TWOU: N/A\n",
      "Required Rate of Return for TWOU: 18.586328030895466\n"
     ]
    },
    {
     "name": "stderr",
     "output_type": "stream",
     "text": [
      "/var/folders/mf/zm3qz5852hs67j4m4hwml0z80000gn/T/ipykernel_54164/356366209.py:336: FutureWarning: Series.__getitem__ treating keys as positions is deprecated. In a future version, integer keys will always be treated as labels (consistent with DataFrame behavior). To access a value by position, use `ser.iloc[pos]`\n",
      "  total_return = (data['Close'][-1] / data['Close'][0]) - 1\n"
     ]
    },
    {
     "name": "stdout",
     "output_type": "stream",
     "text": [
      "No dividend data available for BLBX. Company doesn't give out dividends.\n",
      "Dividend per Share for BLBX: N/A\n",
      "Required Rate of Return for BLBX: 5.5906487874733175\n"
     ]
    },
    {
     "name": "stderr",
     "output_type": "stream",
     "text": [
      "/var/folders/mf/zm3qz5852hs67j4m4hwml0z80000gn/T/ipykernel_54164/356366209.py:336: FutureWarning: Series.__getitem__ treating keys as positions is deprecated. In a future version, integer keys will always be treated as labels (consistent with DataFrame behavior). To access a value by position, use `ser.iloc[pos]`\n",
      "  total_return = (data['Close'][-1] / data['Close'][0]) - 1\n"
     ]
    },
    {
     "name": "stdout",
     "output_type": "stream",
     "text": [
      "No dividend data available for MRIN. Company doesn't give out dividends.\n",
      "Dividend per Share for MRIN: N/A\n",
      "Required Rate of Return for MRIN: 11.569122897679954\n"
     ]
    },
    {
     "name": "stderr",
     "output_type": "stream",
     "text": [
      "/var/folders/mf/zm3qz5852hs67j4m4hwml0z80000gn/T/ipykernel_54164/356366209.py:336: FutureWarning: Series.__getitem__ treating keys as positions is deprecated. In a future version, integer keys will always be treated as labels (consistent with DataFrame behavior). To access a value by position, use `ser.iloc[pos]`\n",
      "  total_return = (data['Close'][-1] / data['Close'][0]) - 1\n"
     ]
    }
   ],
   "source": [
    "import yfinance as yf\n",
    "import pandas as pd\n",
    "import pandas_datareader.data as web\n",
    "import time\n",
    "from datetime import datetime\n",
    "import numpy as np\n",
    "import requests\n",
    "\n",
    "def safe_numeric_conversion(value):\n",
    "    if isinstance(value, (int, float)):\n",
    "        return value\n",
    "    elif isinstance(value, str):\n",
    "        try:\n",
    "            return float(value)\n",
    "        except ValueError:\n",
    "            return None\n",
    "    else:\n",
    "        return None\n",
    "\n",
    "\n",
    "# Function to fetch financial data using yfinance\n",
    "#def get_financial_data(ticker):\n",
    "\n",
    "    stock = yf.Ticker(ticker)\n",
    "    financials = stock.financials\n",
    "    return financials\n",
    "\n",
    "def get_financial_data(ticker):\n",
    "    stock = yf.Ticker(ticker)\n",
    "    financials = stock.financials\n",
    "    # Convert numeric columns to float\n",
    "    for col in financials.columns:\n",
    "        financials[col] = financials[col].apply(safe_numeric_conversion)\n",
    "    return financials\n",
    "\n",
    "# Function to fetch cash flow data using yfinance\n",
    "#def get_cash_flow_data(ticker):\n",
    "    stock = yf.Ticker(ticker)\n",
    "    cash_flow = stock.cashflow\n",
    "    return cash_flow\n",
    "\n",
    "def get_cash_flow_data(ticker):\n",
    "    stock = yf.Ticker(ticker)\n",
    "    cash_flow = stock.cashflow\n",
    "    # Convert numeric columns to float\n",
    "    for col in cash_flow.columns:\n",
    "        cash_flow[col] = cash_flow[col].apply(safe_numeric_conversion)\n",
    "    return cash_flow\n",
    "\n",
    "# Function to fetch income statement data using yfinance\n",
    "#def get_income_statement_data(ticker):\n",
    "    stock = yf.Ticker(ticker)\n",
    "    income_statement = stock.financials\n",
    "    return income_statement\n",
    "\n",
    "def get_income_statement_data(ticker):\n",
    "    stock = yf.Ticker(ticker)\n",
    "    income_statement = stock.financials\n",
    "    # Convert numeric columns to float\n",
    "    for col in income_statement.columns:\n",
    "        income_statement[col] = income_statement[col].apply(safe_numeric_conversion)\n",
    "    return income_statement\n",
    "\n",
    "#fetch balance sheet data\n",
    "#def get_balance_sheet_data(ticker):\n",
    "    stock = yf.Ticker(ticker)\n",
    "    balance_sheet = stock.balance_sheet\n",
    "    return balance_sheet\n",
    "\n",
    "def get_balance_sheet_data(ticker):\n",
    "    stock = yf.Ticker(ticker)\n",
    "    balance_sheet = stock.balance_sheet\n",
    "    # Convert numeric columns to float\n",
    "    for col in balance_sheet.columns:\n",
    "        balance_sheet[col] = balance_sheet[col].apply(safe_numeric_conversion)\n",
    "    return balance_sheet\n",
    "\n",
    "# Function to calculate Gross Margin\n",
    "#def calculate_gross_margin(income_statement):\n",
    "    revenue = income_statement.loc['Total Revenue'].iloc[0]\n",
    "    cogs = income_statement.loc['Cost Of Revenue'].iloc[0]\n",
    "    gross_margin = (revenue - cogs) / revenue * 100\n",
    "    return gross_margin\n",
    "\n",
    "def calculate_gross_margin(income_statement):\n",
    "    try:\n",
    "        revenue = income_statement.loc['Total Revenue'].iloc[0]\n",
    "        cogs = income_statement.loc['Cost Of Revenue'].iloc[0]\n",
    "        if revenue is None or cogs is None:\n",
    "            return 'N/A'\n",
    "        gross_margin = (revenue - cogs) / revenue * 100\n",
    "        return gross_margin\n",
    "    except Exception as e:\n",
    "        print(f\"Error calculating gross margin: {e}\")\n",
    "        return 'N/A'\n",
    "\n",
    "#def get_revenue_growth_rate(ticker_symbol):\n",
    "    try:\n",
    "        # Initialize the ticker\n",
    "        ticker = yf.Ticker(ticker_symbol)\n",
    "        \n",
    "        # Fetch income statement data (annual)\n",
    "        income_stmt = ticker.financials\n",
    "        \n",
    "        # Check if data is available\n",
    "        if income_stmt.empty:\n",
    "            print(f\"No income statement data available for {ticker_symbol}.\")\n",
    "            return 'N/A'\n",
    "        \n",
    "        # Extract revenue data\n",
    "        revenue_data = income_stmt.loc['Total Revenue']\n",
    "        \n",
    "        # Ensure the data is sorted by date (columns)\n",
    "        revenue_data = revenue_data.sort_index(ascending=False)\n",
    "        \n",
    "        # Check if there are enough data points\n",
    "        if len(revenue_data) < 2:\n",
    "            print(f\"Not enough revenue data to calculate growth rate for {ticker_symbol}.\")\n",
    "            return 'N/A'\n",
    "        \n",
    "        # Get the last two periods\n",
    "        last_period_revenue = revenue_data.iloc[0]\n",
    "        previous_period_revenue = revenue_data.iloc[1]\n",
    "        \n",
    "        # Calculate revenue growth rate\n",
    "        growth_rate = (last_period_revenue - previous_period_revenue) / previous_period_revenue * 100\n",
    "        \n",
    "        return growth_rate\n",
    "    \n",
    "    except Exception as e:\n",
    "        print(f\"Error calculating growth rate for {ticker_symbol}: {e}\")\n",
    "        return 'N/A'\n",
    "    \n",
    "def get_revenue_growth_rate(ticker_symbol):\n",
    "    try:\n",
    "        ticker = yf.Ticker(ticker_symbol)\n",
    "        income_stmt = ticker.financials\n",
    "        \n",
    "        if income_stmt.empty:\n",
    "            print(f\"No income statement data available for {ticker_symbol}.\")\n",
    "            return 'N/A'\n",
    "        \n",
    "        revenue_data = income_stmt.loc['Total Revenue']\n",
    "        revenue_data = revenue_data.sort_index(ascending=False)\n",
    "        \n",
    "        if len(revenue_data) < 2:\n",
    "            print(f\"Not enough revenue data to calculate growth rate for {ticker_symbol}.\")\n",
    "            return 'N/A'\n",
    "        \n",
    "        last_period_revenue = safe_numeric_conversion(revenue_data.iloc[0])\n",
    "        previous_period_revenue = safe_numeric_conversion(revenue_data.iloc[1])\n",
    "        \n",
    "        if last_period_revenue is None or previous_period_revenue is None:\n",
    "            return 'N/A'\n",
    "        \n",
    "        growth_rate = (last_period_revenue - previous_period_revenue) / previous_period_revenue * 100\n",
    "        return growth_rate\n",
    "    \n",
    "    except Exception as e:\n",
    "        print(f\"Error calculating growth rate for {ticker_symbol}: {e}\")\n",
    "        return 'N/A'\n",
    "\n",
    "\n",
    "# Function to fetch stock data\n",
    "def fetch_stock_data(ticker):\n",
    "    stock = yf.Ticker(ticker)\n",
    "    return stock.history(period=\"max\")\n",
    "\n",
    "def get_market_cap(ticker):\n",
    "    \"\"\"\n",
    "    Fetch the market capitalization of a company using yfinance.\n",
    "\n",
    "    Parameters:\n",
    "    - ticker (str): The ticker symbol of the company (e.g., 'AAPL' for Apple Inc.)\n",
    "\n",
    "    Returns:\n",
    "    - market_cap (float): The market capitalization of the company in USD.\n",
    "    \"\"\"\n",
    "    try:\n",
    "        # Create a Ticker object\n",
    "        stock = yf.Ticker(ticker)\n",
    "        \n",
    "        # Fetch the market capitalization from the info dictionary\n",
    "        market_cap = stock.info.get('marketCap', None)\n",
    "        \n",
    "        # Check if market capitalization data is available\n",
    "        if market_cap is None:\n",
    "            raise ValueError(f\"Market capitalization data not available for {ticker}\")\n",
    "        \n",
    "        return market_cap\n",
    "    except Exception as e:\n",
    "        print(f\"Error fetching market cap for {ticker}: {e}\")\n",
    "        return None\n",
    "\n",
    "# Function to calculate ARR and MRR\n",
    "#def calculate_recurring_revenue(income_statement):\n",
    "    revenue = income_statement.loc['Total Revenue'].iloc[0]\n",
    "    # Assuming all revenue is recurring for simplicity\n",
    "    arr = revenue\n",
    "    mrr = arr / 12\n",
    "    return arr, mrr\n",
    "\n",
    "# Function to calculate Burn Rate\n",
    "#def calculate_burn_rate(financials):\n",
    "    # Extract necessary data from financials\n",
    "    total_expenses_annual = financials.loc['Total Expenses'].iloc[0]\n",
    "    total_revenue_annual = financials.loc['Total Revenue'].iloc[0]\n",
    "    \n",
    "    # Convert annual values to monthly values\n",
    "    total_expenses_monthly = total_expenses_annual / 12\n",
    "    total_revenue_monthly = total_revenue_annual / 12\n",
    "    \n",
    "    # Calculate Gross Burn Rate\n",
    "    gross_burn_rate = total_expenses_monthly\n",
    "    \n",
    "    # Calculate Net Burn Rate\n",
    "    net_burn_rate = total_expenses_monthly - total_revenue_monthly\n",
    "    \n",
    "    return gross_burn_rate, net_burn_rate\n",
    "def calculate_recurring_revenue(income_statement):\n",
    "    try:\n",
    "        revenue = safe_numeric_conversion(income_statement.loc['Total Revenue'].iloc[0])\n",
    "        if revenue is None:\n",
    "            return 'N/A', 'N/A'\n",
    "        \n",
    "        # Assuming all revenue is recurring for simplicity\n",
    "        arr = revenue\n",
    "        mrr = arr / 12\n",
    "        return arr, mrr\n",
    "    except Exception as e:\n",
    "        print(f\"Error calculating recurring revenue: {e}\")\n",
    "        return 'N/A', 'N/A'\n",
    "def calculate_burn_rate(financials):\n",
    "    try:\n",
    "        total_expenses_annual = safe_numeric_conversion(financials.loc['Total Expenses'].iloc[0])\n",
    "        total_revenue_annual = safe_numeric_conversion(financials.loc['Total Revenue'].iloc[0])\n",
    "        \n",
    "        if total_expenses_annual is None or total_revenue_annual is None:\n",
    "            return 'N/A', 'N/A'\n",
    "        \n",
    "        total_expenses_monthly = total_expenses_annual / 12\n",
    "        total_revenue_monthly = total_revenue_annual / 12\n",
    "        \n",
    "        gross_burn_rate = total_expenses_monthly\n",
    "        net_burn_rate = total_expenses_monthly - total_revenue_monthly\n",
    "        \n",
    "        return gross_burn_rate, net_burn_rate\n",
    "    except Exception as e:\n",
    "        print(f\"Error calculating burn rate: {e}\")\n",
    "        return 'N/A', 'N/A'\n",
    "\n",
    "# Function to calculate Sales Efficiency\n",
    "#def calculate_sales_efficiency(financials):\n",
    "    # Get Total Revenue and Selling General And Administration\n",
    "    total_revenue = financials.loc['Total Revenue'].iloc[0]\n",
    "    selling_general_and_admin = financials.loc['Selling General And Administration'].iloc[0]\n",
    "    \n",
    "    # Calculate Sales Efficiency\n",
    "    sales_efficiency = total_revenue / selling_general_and_admin\n",
    "    return sales_efficiency\n",
    "\n",
    "#def get_growth_rate(financials):\n",
    "    # Calculate year-over-year growth rate using Total Revenue\n",
    "    total_revenue = financials.loc['Total Revenue']\n",
    "    growth_rate = ((total_revenue.iloc[0] - total_revenue.iloc[1]) / total_revenue.iloc[1]) * 100\n",
    "    return growth_rate\n",
    "\n",
    "#def get_profit_margin(financials):\n",
    "    # Calculate profit margin using Net Income and Total Revenue\n",
    "    net_income = financials.loc['Net Income'].iloc[0]\n",
    "    total_revenue = financials.loc['Total Revenue'].iloc[0]\n",
    "    profit_margin = (net_income / total_revenue) * 100\n",
    "    return profit_margin\n",
    "def calculate_sales_efficiency(financials):\n",
    "    try:\n",
    "        total_revenue = safe_numeric_conversion(financials.loc['Total Revenue'].iloc[0])\n",
    "        selling_general_and_admin = safe_numeric_conversion(financials.loc['Selling General And Administration'].iloc[0])\n",
    "        \n",
    "        if total_revenue is None or selling_general_and_admin is None or selling_general_and_admin == 0:\n",
    "            return 'N/A'\n",
    "        \n",
    "        sales_efficiency = total_revenue / selling_general_and_admin\n",
    "        return sales_efficiency\n",
    "    except Exception as e:\n",
    "        print(f\"Error calculating sales efficiency: {e}\")\n",
    "        return 'N/A'\n",
    "def get_growth_rate(financials):\n",
    "    try:\n",
    "        total_revenue = financials.loc['Total Revenue']\n",
    "        if len(total_revenue) < 2:\n",
    "            return 'N/A'\n",
    "        \n",
    "        current_revenue = safe_numeric_conversion(total_revenue.iloc[0])\n",
    "        previous_revenue = safe_numeric_conversion(total_revenue.iloc[1])\n",
    "        \n",
    "        if current_revenue is None or previous_revenue is None or previous_revenue == 0:\n",
    "            return 'N/A'\n",
    "        \n",
    "        growth_rate = ((current_revenue - previous_revenue) / previous_revenue) * 100\n",
    "        return growth_rate\n",
    "    except Exception as e:\n",
    "        print(f\"Error calculating growth rate: {e}\")\n",
    "        return 'N/A'\n",
    "    \n",
    "def get_profit_margin(financials):\n",
    "    try:\n",
    "        net_income = safe_numeric_conversion(financials.loc['Net Income'].iloc[0])\n",
    "        total_revenue = safe_numeric_conversion(financials.loc['Total Revenue'].iloc[0])\n",
    "        \n",
    "        if net_income is None or total_revenue is None or total_revenue == 0:\n",
    "            return 'N/A'\n",
    "        \n",
    "        profit_margin = (net_income / total_revenue) * 100\n",
    "        return profit_margin\n",
    "    except Exception as e:\n",
    "        print(f\"Error calculating profit margin: {e}\")\n",
    "        return 'N/A'\n",
    "\n",
    "def calculate_market_return(ticker, start_date, end_date):\n",
    "    \"\"\"\n",
    "    Calculate the historical market return over a specified period.\n",
    "\n",
    "    Parameters:\n",
    "    ticker (str): The stock index ticker symbol (e.g., \"^GSPC\" for S&P 500).\n",
    "    start_date (str): The start date for historical data (format: 'YYYY-MM-DD').\n",
    "    end_date (str): The end date for historical data (format: 'YYYY-MM-DD').\n",
    "\n",
    "    Returns:\n",
    "    float: The annualized market return as a percentage.\n",
    "    \"\"\"\n",
    "    # Retrieve historical data\n",
    "    index = yf.Ticker(ticker)\n",
    "    data = index.history(start=start_date, end=end_date)\n",
    "    \n",
    "    # Calculate the total return\n",
    "    total_return = (data['Close'][-1] / data['Close'][0]) - 1\n",
    "    \n",
    "    # Annualize the return (assuming trading days are about 252 per year)\n",
    "    num_years = (pd.to_datetime(end_date) - pd.to_datetime(start_date)).days / 365\n",
    "    annualized_return = (1 + total_return) ** (1 / num_years) - 1\n",
    "    \n",
    "    return annualized_return * 100  # Convert to percentage\n",
    "\n",
    "#def passes_rule_of_40(ticker):\n",
    "    stock = yf.Ticker(ticker)\n",
    "    financials = stock.financials\n",
    "\n",
    "    if 'Total Revenue' not in financials.index or 'Net Income' not in financials.index:\n",
    "        return None\n",
    "\n",
    "    growth_rate = get_growth_rate(financials)\n",
    "    profit_margin = get_profit_margin(financials)\n",
    "    rule_of_40_value = growth_rate + profit_margin\n",
    "\n",
    "    return rule_of_40_value\n",
    "def passes_rule_of_40(ticker):\n",
    "    try:\n",
    "        stock = yf.Ticker(ticker)\n",
    "        financials = stock.financials\n",
    "\n",
    "        if 'Total Revenue' not in financials.index or 'Net Income' not in financials.index:\n",
    "            return 'N/A'\n",
    "\n",
    "        growth_rate = get_growth_rate(financials)\n",
    "        profit_margin = get_profit_margin(financials)\n",
    "        \n",
    "        if growth_rate == 'N/A' or profit_margin == 'N/A':\n",
    "            return 'N/A'\n",
    "        \n",
    "        rule_of_40_value = growth_rate + profit_margin\n",
    "        return rule_of_40_value\n",
    "    except Exception as e:\n",
    "        print(f\"Error calculating Rule of 40 for {ticker}: {e}\")\n",
    "        return 'N/A'\n",
    "#net debt\n",
    "#def calculate_net_debt(balance_sheet):\n",
    "    \"\"\"\n",
    "    Calculate Net Debt using available balance sheet data.\n",
    "    \n",
    "    Parameters:\n",
    "    - balance_sheet (DataFrame): The balance sheet DataFrame for the company.\n",
    "\n",
    "    Returns:\n",
    "    - net_debt (float or str): The net debt amount or 'N/A' if data is missing or cannot be computed.\n",
    "    \"\"\"\n",
    "    try:\n",
    "        # Retrieve data with safe default values if not available\n",
    "        short_term_debt = balance_sheet.loc['Short Term Debt'].values[0] if 'Short Term Debt' in balance_sheet.index else 0\n",
    "        long_term_debt = balance_sheet.loc['Long Term Debt'].values[0] if 'Long Term Debt' in balance_sheet.index else 0\n",
    "        cash_and_cash_eq = balance_sheet.loc['Cash And Cash Equivalents'].values[0] if 'Cash And Cash Equivalents' in balance_sheet.index else 0\n",
    "\n",
    "        # If total liabilities are present, calculate using them as a fallback\n",
    "        if 'Total Liabilities Net Minority Interest' in balance_sheet.index:\n",
    "            total_liabilities = balance_sheet.loc['Total Liabilities Net Minority Interest'].values[0]\n",
    "            total_debt = short_term_debt + long_term_debt if (short_term_debt or long_term_debt) else total_liabilities\n",
    "        else:\n",
    "            total_debt = short_term_debt + long_term_debt\n",
    "\n",
    "        # Calculate Net Debt\n",
    "        net_debt = total_debt - cash_and_cash_eq\n",
    "        \n",
    "        return net_debt if total_debt > 0 else 'N/A'\n",
    "    except KeyError as e:\n",
    "        print(f\"Missing data for Net Debt calculation: {e}\")\n",
    "        return 'N/A'\n",
    "    except Exception as e:\n",
    "        print(f\"Error calculating net debt: {e}\")\n",
    "        return 'N/A'\n",
    "def calculate_net_debt(balance_sheet):\n",
    "    try:\n",
    "        short_term_debt = safe_numeric_conversion(balance_sheet.loc['Short Term Debt'].values[0]) if 'Short Term Debt' in balance_sheet.index else 0\n",
    "        long_term_debt = safe_numeric_conversion(balance_sheet.loc['Long Term Debt'].values[0]) if 'Long Term Debt' in balance_sheet.index else 0\n",
    "        cash_and_cash_eq = safe_numeric_conversion(balance_sheet.loc['Cash And Cash Equivalents'].values[0]) if 'Cash And Cash Equivalents' in balance_sheet.index else 0\n",
    "\n",
    "        if 'Total Liabilities Net Minority Interest' in balance_sheet.index:\n",
    "            total_liabilities = safe_numeric_conversion(balance_sheet.loc['Total Liabilities Net Minority Interest'].values[0])\n",
    "            total_debt = short_term_debt + long_term_debt if (short_term_debt or long_term_debt) else total_liabilities\n",
    "        else:\n",
    "            total_debt = short_term_debt + long_term_debt\n",
    "\n",
    "        if total_debt is None or cash_and_cash_eq is None:\n",
    "            return 'N/A'\n",
    "\n",
    "        net_debt = total_debt - cash_and_cash_eq\n",
    "        return net_debt if total_debt > 0 else 'N/A'\n",
    "    except Exception as e:\n",
    "        print(f\"Error calculating net debt: {e}\")\n",
    "        return 'N/A'\n",
    "def calculate_total_debt(balance_sheet):\n",
    "    try:\n",
    "\n",
    "        total_debt = balance_sheet.loc['Total Debt']\n",
    "        if isinstance(total_debt, pd.Series):\n",
    "            return total_debt.values[0]  # Extract the single value from the Series\n",
    "        return total_debt\n",
    "    except Exception as e:\n",
    "        print(f\"Error retrieving cash and cash equivalents: {e}\")\n",
    "        return 'N/A'\n",
    "\n",
    "def get_cce(balance_sheet):\n",
    "    try:\n",
    "        # Ensure that cash and cash equivalents is a single value\n",
    "        cce = balance_sheet.loc['Cash And Cash Equivalents']\n",
    "        if isinstance(cce, pd.Series):\n",
    "            return cce.values[0]  # Extract the single value from the Series\n",
    "        return cce\n",
    "    except Exception as e:\n",
    "        print(f\"Error retrieving cash and cash equivalents: {e}\")\n",
    "        return 'N/A'\n",
    "\n",
    "\n",
    "\n",
    "#def get_risk_free_rate(ticker='^IRX'):\n",
    "    \"\"\"\n",
    "    Get the risk-free rate.\n",
    "\n",
    "    Parameters:\n",
    "    - ticker: Ticker symbol for the 13-week Treasury bill (default is '^IRX')\n",
    "\n",
    "    Returns:\n",
    "    - risk_free_rate: The annualized risk-free rate\n",
    "    \"\"\"\n",
    "\n",
    "    # Fetch the 13-week Treasury bill yield as a proxy for the risk-free rate\n",
    "    try:\n",
    "        treasury_data = yf.Ticker(ticker).history(period=\"1d\")\n",
    "        risk_free_rate = treasury_data['Close'].iloc[-1] / 100  # Convert to decimal\n",
    "        return risk_free_rate\n",
    "    except Exception as e:\n",
    "        print(f\"Error fetching risk-free rate data: {e}\")\n",
    "        return None\n",
    "def get_risk_free_rate(ticker='^IRX'):\n",
    "    try:\n",
    "        treasury_data = yf.Ticker(ticker).history(period=\"1d\")\n",
    "        risk_free_rate = safe_numeric_conversion(treasury_data['Close'].iloc[-1]) / 100  # Convert to decimal\n",
    "        return risk_free_rate if risk_free_rate is not None else 'N/A'\n",
    "    except Exception as e:\n",
    "        print(f\"Error fetching risk-free rate data: {e}\")\n",
    "        return 'N/A'\n",
    "\n",
    "#def get_stock_beta(ticker):\n",
    "    \"\"\"\n",
    "    Retrieve the stock's beta.\n",
    "    \"\"\"\n",
    "    stock = yf.Ticker(ticker)\n",
    "    beta = stock.info.get('beta', None)\n",
    "    return beta\n",
    "def get_stock_beta(ticker):\n",
    "    try:\n",
    "        stock = yf.Ticker(ticker)\n",
    "        beta = safe_numeric_conversion(stock.info.get('beta', None))\n",
    "        return beta if beta is not None else 'N/A'\n",
    "    except Exception as e:\n",
    "        print(f\"Error fetching stock beta for {ticker}: {e}\")\n",
    "        return 'N/A'\n",
    "\n",
    "\n",
    "#def calculate_required_rate_of_return(real_risk_free_rate, market_return, beta):\n",
    "    \"\"\"\n",
    "    Calculate the required rate of return using CAPM.\n",
    "    \"\"\"\n",
    "    required_rate = real_risk_free_rate + beta * (market_return - real_risk_free_rate)\n",
    "    return required_rate\n",
    "def calculate_required_rate_of_return(real_risk_free_rate, market_return, beta):\n",
    "    try:\n",
    "        real_risk_free_rate = safe_numeric_conversion(real_risk_free_rate)\n",
    "        market_return = safe_numeric_conversion(market_return)\n",
    "        beta = safe_numeric_conversion(beta)\n",
    "        \n",
    "        if real_risk_free_rate is None or market_return is None or beta is None:\n",
    "            return 'N/A'\n",
    "        \n",
    "        required_rate = real_risk_free_rate + beta * (market_return - real_risk_free_rate)\n",
    "        return required_rate\n",
    "    except Exception as e:\n",
    "        print(f\"Error calculating required rate of return: {e}\")\n",
    "        return 'N/A'\n",
    "\n",
    "#def get_dividend_per_share(ticker):\n",
    "    \"\"\"\n",
    "    Retrieve the dividend per share for the preferred stock.\n",
    "    \n",
    "    Parameters:\n",
    "    - ticker: The stock ticker symbol.\n",
    "    \n",
    "    Returns:\n",
    "    - dividend_per_share: The dividend per share or 'N/A' if not available.\n",
    "    \"\"\"\n",
    "    stock = yf.Ticker(ticker)\n",
    "    dividends = stock.dividends\n",
    "    \n",
    "    if dividends.empty:\n",
    "        print(f\"No dividend data available for {ticker}. Company doesn't give out dividends.\")\n",
    "        return 'N/A'\n",
    "    \n",
    "    dividend_per_share = dividends.iloc[-1]  # Get the most recent dividend per share\n",
    "\n",
    "    if pd.isna(dividend_per_share):\n",
    "        print(f\"Dividend per Share data is NaN for {ticker}.\")\n",
    "        return 'N/A'\n",
    "    \n",
    "    return dividend_per_share\n",
    "\n",
    "# def calculate_dividend_yield(ticker):\n",
    "    stock = yf.Ticker(ticker)\n",
    "\n",
    "    # Get historical market data\n",
    "    hist = stock.history(period=\"1d\")\n",
    "\n",
    "    # Get the most recent closing price\n",
    "    price_per_share = hist['Close'].iloc[-1]\n",
    "\n",
    "    # Fetch dividend data\n",
    "    dividends = stock.dividends\n",
    "    annual_dividends = dividends.resample('Y').sum().iloc[-1]  # Sum of annual dividends\n",
    "\n",
    "    # Calculate Dividend Yield\n",
    "    dividend_yield = annual_dividends / price_per_share\n",
    "    return dividend_yield\n",
    "    \n",
    "\n",
    "\n",
    "# def calculate_preferred_stock_value(dividend_per_share, required_rate_of_return):\n",
    "    \"\"\"\n",
    "    Calculate the value of preferred stock using the formula:\n",
    "    Value = Dividend per Share / Required Rate of Return\n",
    "    \"\"\"\n",
    "    \n",
    "    if required_rate_of_return == 0:\n",
    "        print(f\"Cannot calculate preferred stock value: Required Rate of Return is zero.\")\n",
    "        return 'N/A'\n",
    "    \n",
    "    try:\n",
    "        preferred_stock_value = dividend_per_share / required_rate_of_return\n",
    "        return preferred_stock_value\n",
    "\n",
    "    except Exception as e:\n",
    "        print(f\"Error calculating preferred stock value: {e}\")\n",
    "        return 'N/A'\n",
    "def get_dividend_per_share(ticker):\n",
    "    try:\n",
    "        stock = yf.Ticker(ticker)\n",
    "        dividends = stock.dividends\n",
    "        \n",
    "        if dividends.empty:\n",
    "            print(f\"No dividend data available for {ticker}. Company doesn't give out dividends.\")\n",
    "            return 'N/A'\n",
    "        \n",
    "        dividend_per_share = safe_numeric_conversion(dividends.iloc[-1])  # Get the most recent dividend per share\n",
    "        return dividend_per_share if dividend_per_share is not None else 'N/A'\n",
    "    except Exception as e:\n",
    "        print(f\"Error fetching dividend per share for {ticker}: {e}\")\n",
    "        return 'N/A'\n",
    "def calculate_preferred_stock_value(dividend_per_share, required_rate_of_return):\n",
    "    \"\"\"\n",
    "    Calculate the value of preferred stock using the formula:\n",
    "    Value = Dividend per Share / Required Rate of Return\n",
    "    \"\"\"\n",
    "    try:\n",
    "        # Ensure inputs are numeric\n",
    "        if isinstance(dividend_per_share, str) or isinstance(required_rate_of_return, str):\n",
    "            if dividend_per_share == 'N/A' or required_rate_of_return == 'N/A':\n",
    "                print(f\"Cannot calculate preferred stock value: One or more inputs are 'N/A'.\")\n",
    "                return 'N/A'\n",
    "            else:\n",
    "                # Convert to float\n",
    "                dividend_per_share = float(dividend_per_share)\n",
    "                required_rate_of_return = float(required_rate_of_return)\n",
    "        \n",
    "        if required_rate_of_return == 0:\n",
    "            print(f\"Cannot calculate preferred stock value: Required Rate of Return is zero.\")\n",
    "            return 'N/A'\n",
    "        \n",
    "        preferred_stock_value = dividend_per_share / required_rate_of_return\n",
    "        return preferred_stock_value\n",
    "\n",
    "    except Exception as e:\n",
    "        print(f\"Error calculating preferred stock value: {e}\")\n",
    "        return 'N/A'\n",
    "\n",
    "\n",
    "    \n",
    "#def get_debt_to_equity_ratio(ticker):\n",
    "    # Fetch the stock data\n",
    "    stock = yf.Ticker(ticker)\n",
    "    \n",
    "    # Fetch the balance sheet data\n",
    "    balance_sheet = stock.balance_sheet\n",
    "    \n",
    "    # Extract total liabilities and total equity\n",
    "    total_liabilities = balance_sheet.loc['Total Liabilities Net Minority Interest'].iloc[0]\n",
    "    total_equity = balance_sheet.loc['Stockholders Equity'].iloc[0]\n",
    "    \n",
    "    # Calculate the Debt to Equity Ratio\n",
    "    debt_to_equity_ratio = total_liabilities / total_equity\n",
    "    \n",
    "    return debt_to_equity_ratio\n",
    "def get_debt_to_equity_ratio(ticker):\n",
    "    try:\n",
    "        stock = yf.Ticker(ticker)\n",
    "        balance_sheet = stock.balance_sheet\n",
    "        \n",
    "        total_liabilities = safe_numeric_conversion(balance_sheet.loc['Total Liabilities Net Minority Interest'].iloc[0])\n",
    "        total_equity = safe_numeric_conversion(balance_sheet.loc['Stockholders Equity'].iloc[0])\n",
    "        \n",
    "        if total_liabilities is None or total_equity is None or total_equity == 0:\n",
    "            return 'N/A'\n",
    "        \n",
    "        debt_to_equity_ratio = total_liabilities / total_equity\n",
    "        return debt_to_equity_ratio\n",
    "    except Exception as e:\n",
    "        print(f\"Error calculating debt to equity ratio for {ticker}: {e}\")\n",
    "        return 'N/A'\n",
    "\n",
    "#def get_roe(ticker):\n",
    "    # Fetch the stock data\n",
    "    stock = yf.Ticker(ticker)\n",
    "    \n",
    "    # Fetch the financials and balance sheet data\n",
    "    financials = stock.financials\n",
    "    balance_sheet = stock.balance_sheet\n",
    "    \n",
    "    # Extract net income and shareholder's equity\n",
    "    net_income = financials.loc['Net Income'].iloc[0]\n",
    "    total_equity = balance_sheet.loc['Stockholders Equity'].iloc[0]\n",
    "    \n",
    "    # Calculate ROE\n",
    "    roe = net_income / total_equity\n",
    "    \n",
    "    return roe\n",
    "def get_roe(ticker):\n",
    "    try:\n",
    "        stock = yf.Ticker(ticker)\n",
    "        financials = stock.financials\n",
    "        balance_sheet = stock.balance_sheet\n",
    "        \n",
    "        net_income = safe_numeric_conversion(financials.loc['Net Income'].iloc[0])\n",
    "        total_equity = safe_numeric_conversion(balance_sheet.loc['Stockholders Equity'].iloc[0])\n",
    "        \n",
    "        if net_income is None or total_equity is None or total_equity == 0:\n",
    "            return 'N/A'\n",
    "        \n",
    "        roe = net_income / total_equity\n",
    "        return roe\n",
    "    except Exception as e:\n",
    "        print(f\"Error calculating ROE for {ticker}: {e}\")\n",
    "        return 'N/A'\n",
    "#def calculate_ev_revenue_multiple(ticker):\n",
    "    stock = yf.Ticker(ticker)\n",
    "    financials = stock.financials\n",
    "    return calculate_enterprise_value(ticker) / financials.loc['Total Revenue'].iloc[0]\n",
    "\n",
    "\n",
    "\n",
    "#def calculate_enterprise_value(ticker):\n",
    "    try:\n",
    "        # Get financial data\n",
    "        balance_sheet = get_balance_sheet_data(ticker)\n",
    "        market_cap = get_market_cap(ticker)\n",
    "        \n",
    "        if market_cap is None:\n",
    "            raise ValueError(f\"Market capitalization data not available for {ticker}\")\n",
    "        \n",
    "        # Calculate risk-free rate\n",
    "        risk_free_rate = get_risk_free_rate(ticker='^IRX')\n",
    "        if risk_free_rate is None:\n",
    "            raise ValueError(\"Risk-free rate data not available.\")\n",
    "        \n",
    "        # Calculate market return\n",
    "        market_return = calculate_market_return('^GSPC', '2023-01-01', datetime.now().strftime('%Y-%m-%d'))\n",
    "        \n",
    "        # Get stock beta\n",
    "        beta = get_stock_beta(ticker)\n",
    "        if beta is None:\n",
    "            raise ValueError(\"Stock beta data not available.\")\n",
    "        \n",
    "        # Calculate required rate of return\n",
    "        required_rate_of_return = calculate_required_rate_of_return(risk_free_rate, market_return, beta)\n",
    "        \n",
    "        # Calculate dividend per share\n",
    "        dividend_per_share = get_dividend_per_share(ticker)\n",
    "        if dividend_per_share is None:\n",
    "            raise ValueError(\"Dividend per share data not available.\")\n",
    "        \n",
    "        # Calculate preferred stock value\n",
    "        preferred_stock_value = calculate_preferred_stock_value(dividend_per_share, required_rate_of_return)\n",
    "        \n",
    "        if preferred_stock_value == 'N/A':\n",
    "            # Handle preferred stock value being 'N/A'\n",
    "            preferred_stock_value = 0\n",
    "        \n",
    "        # Calculate Net Debt\n",
    "        net_debt = calculate_net_debt(balance_sheet)\n",
    "        if net_debt == 'N/A':\n",
    "            # If net debt is 'N/A', set enterprise value to 'N/A' as well\n",
    "            return 'N/A'\n",
    "        \n",
    "        #calculate total debt for more generalized formula since most of SaaS companies do not hand out preferred stock dividends :/\n",
    "        total_debt = calculate_total_debt(balance_sheet)\n",
    "        if total_debt == 'N/A':\n",
    "            return 'N/A'\n",
    "        \n",
    "        # Calculate cash and cash equivalents\n",
    "        cash_and_cash_eq = get_cce(balance_sheet)\n",
    "        if cash_and_cash_eq == 'N/A':\n",
    "            cash_and_cash_eq = 0\n",
    "        \n",
    "        # Calculate Enterprise Value\n",
    "        enterprise_value = market_cap + total_debt - cash_and_cash_eq #not using preferred stock for now since this is more general formula\n",
    "        \n",
    "        return enterprise_value\n",
    "    except Exception as e:\n",
    "        print(f\"Error calculating enterprise value for {ticker}: {e}\")\n",
    "        return 'N/A'\n",
    "def calculate_ev_revenue_multiple(ticker):\n",
    "    try:\n",
    "        stock = yf.Ticker(ticker)\n",
    "        financials = stock.financials\n",
    "        ev = calculate_enterprise_value(ticker)\n",
    "        revenue = safe_numeric_conversion(financials.loc['Total Revenue'].iloc[0])\n",
    "        \n",
    "        if ev == 'N/A' or revenue is None or revenue == 0:\n",
    "            return 'N/A'\n",
    "        \n",
    "        return ev / revenue\n",
    "    except Exception as e:\n",
    "        print(f\"Error calculating EV/Revenue multiple for {ticker}: {e}\")\n",
    "        return 'N/A'\n",
    "def calculate_enterprise_value(ticker):\n",
    "    try:\n",
    "        balance_sheet = get_balance_sheet_data(ticker)\n",
    "        market_cap = get_market_cap(ticker)\n",
    "        \n",
    "        if market_cap is None:\n",
    "            return 'N/A'\n",
    "        \n",
    "        total_debt = calculate_total_debt(balance_sheet)\n",
    "        cash_and_cash_eq = get_cce(balance_sheet)\n",
    "        \n",
    "        if total_debt == 'N/A' or cash_and_cash_eq == 'N/A':\n",
    "            return 'N/A'\n",
    "        \n",
    "        enterprise_value = market_cap + total_debt - cash_and_cash_eq\n",
    "        return enterprise_value\n",
    "    except Exception as e:\n",
    "        print(f\"Error calculating enterprise value for {ticker}: {e}\")\n",
    "        return 'N/A'\n",
    "\n",
    "#def get_ebitda(ticker):\n",
    "    \"\"\"\n",
    "    Retrieve EBITDA for a given stock ticker.\n",
    "    \n",
    "    Parameters:\n",
    "    - ticker: The stock ticker symbol.\n",
    "    \n",
    "    Returns:\n",
    "    - ebitda: EBITDA value or 'N/A' if not available.\n",
    "    \"\"\"\n",
    "    stock = yf.Ticker(ticker)\n",
    "    \n",
    "    # Fetch financial statements\n",
    "    income_statement = stock.financials\n",
    "    balance_sheet = stock.balance_sheet\n",
    "\n",
    "    # Check if income statement contains EBITDA data\n",
    "    if 'EBITDA' in income_statement.index:\n",
    "        ebitda = income_statement.loc['EBITDA'].iloc[0]\n",
    "        return ebitda\n",
    "    else:\n",
    "        print(f\"EBITDA not directly available for {ticker}.\")\n",
    "        return 'N/A'\n",
    "\n",
    "#def calculate_ebitda_multiple(ticker):\n",
    "    ebitda = get_ebitda(ticker)\n",
    "    ev = calculate_enterprise_value(ticker)\n",
    "    return ev / ebitda\n",
    "def get_ebitda(ticker):\n",
    "    try:\n",
    "        stock = yf.Ticker(ticker)\n",
    "        income_statement = stock.financials\n",
    "\n",
    "        if 'EBITDA' in income_statement.index:\n",
    "            ebitda = safe_numeric_conversion(income_statement.loc['EBITDA'].iloc[0])\n",
    "            return ebitda if ebitda is not None else 'N/A'\n",
    "        else:\n",
    "            print(f\"EBITDA not directly available for {ticker}.\")\n",
    "            return 'N/A'\n",
    "    except Exception as e:\n",
    "        print(f\"Error fetching EBITDA for {ticker}: {e}\")\n",
    "        return 'N/A'\n",
    "def calculate_ebitda_multiple(ticker):\n",
    "    try:\n",
    "        ebitda = get_ebitda(ticker)\n",
    "        ev = calculate_enterprise_value(ticker)\n",
    "        \n",
    "        if ebitda == 'N/A' or ev == 'N/A':\n",
    "            return 'N/A'\n",
    "        \n",
    "        ebitda = safe_numeric_conversion(ebitda)\n",
    "        ev = safe_numeric_conversion(ev)\n",
    "        \n",
    "        if ebitda is None or ev is None or ebitda == 0:\n",
    "            return 'N/A'\n",
    "        \n",
    "        return ev / ebitda\n",
    "    except Exception as e:\n",
    "        print(f\"Error calculating EBITDA multiple for {ticker}: {e}\")\n",
    "        return 'N/A'\n",
    "\n",
    "\n",
    "# Function to implement retry logic for fetching stock data\n",
    "def fetch_stock_data_with_retry(ticker, retries=3, delay=10):\n",
    "    for i in range(retries):\n",
    "        try:\n",
    "            stock_data = fetch_stock_data(ticker)   \n",
    "            return stock_data\n",
    "        except Exception as e:\n",
    "            print(f\"Attempt {i+1} failed: {e}\")\n",
    "            time.sleep(delay)\n",
    "    raise Exception(f\"Failed to fetch stock data for {ticker} after {retries} attempts\")\n",
    "\n",
    "# Function to read tickers from CSV and calculate metrics\n",
    "#def process_tickers(csv_path, output_path):\n",
    "\n",
    "    # Read tickers from CSV\n",
    "    tickers = pd.read_csv(csv_path)['Ticker']\n",
    "    \n",
    "    # Initialize a DataFrame to store results\n",
    "    results = []\n",
    "    \n",
    "    for ticker in tickers:\n",
    "        try:\n",
    "            # Fetch financial data\n",
    "            income_statement = get_income_statement_data(ticker)\n",
    "            financial_data = get_financial_data(ticker)\n",
    "            cash_flow_data = get_cash_flow_data(ticker)\n",
    "            balance_sheet_data = get_balance_sheet_data(ticker)\n",
    "            \n",
    "            # Calculate metrics\n",
    "            gross_margin = calculate_gross_margin(income_statement)\n",
    "            revenue_growth_rate = get_revenue_growth_rate(ticker)\n",
    "            arr, mrr = calculate_recurring_revenue(income_statement)\n",
    "            gross_burn_rate, net_burn_rate = calculate_burn_rate(financial_data)\n",
    "            sales_efficiency = calculate_sales_efficiency(financial_data)\n",
    "            profit_margin = get_profit_margin(financial_data)\n",
    "            growth_rate = get_growth_rate(financial_data)\n",
    "            rule_40 = passes_rule_of_40(ticker)\n",
    "            #net_debt = calculate_net_debt(balance_sheet_data)\n",
    "            total_debt = calculate_total_debt(balance_sheet_data)\n",
    "            beta = get_stock_beta(ticker)\n",
    "            EBITDA_multiple = calculate_ebitda_multiple(ticker)\n",
    "            #dividend_yield = calculate_dividend_yield(ticker)\n",
    "            ev_revenue_mult = calculate_ev_revenue_multiple(ticker)\n",
    "            deratio = get_debt_to_equity_ratio(ticker)\n",
    "            roe = get_roe(ticker)\n",
    "            \n",
    "            # Calculate Preferred Stock Value\n",
    "            dividend_per_share = get_dividend_per_share(ticker)\n",
    "            print(f\"Dividend per Share for {ticker}: {dividend_per_share}\")  # Debugging line\n",
    "            \n",
    "            risk_free_rate = get_risk_free_rate(ticker='^IRX')\n",
    "            market_return = calculate_market_return('^GSPC', '2023-01-01', datetime.now().strftime('%Y-%m-%d'))\n",
    "            required_rate_of_return = calculate_required_rate_of_return(risk_free_rate, market_return, beta)\n",
    "            print(f\"Required Rate of Return for {ticker}: {required_rate_of_return}\")  # Debugging line\n",
    "            \n",
    "            # Ensure preferred stock value calculation\n",
    "            if dividend_per_share is not None and required_rate_of_return is not None and required_rate_of_return != 0:\n",
    "                preferred_stock_value = calculate_preferred_stock_value(dividend_per_share, required_rate_of_return)\n",
    "            else:\n",
    "                preferred_stock_value = 'N/A'\n",
    "            \n",
    "            # Append results\n",
    "            result = {\n",
    "                'Ticker': ticker,\n",
    "                'Profit Margin': profit_margin,\n",
    "                'Growth Rate': growth_rate,\n",
    "                'Rule of 40 (T/F)': rule_40,\n",
    "                'Gross Margin': gross_margin,\n",
    "                'Revenue Growth Rate': revenue_growth_rate,\n",
    "                'Annual Recurring Revenue (ARR)': arr,\n",
    "                'Monthly Recurring Revenue (MRR)': mrr,\n",
    "                'Gross Burn Rate': gross_burn_rate,\n",
    "                'Net Burn Rate': net_burn_rate,\n",
    "                'Sales Efficiency': sales_efficiency,\n",
    "                'Total Debt': total_debt,\n",
    "                'Beta': beta,\n",
    "                'Enterprise Value': calculate_enterprise_value(ticker),\n",
    "                'EBITDA Multiple' : EBITDA_multiple,\n",
    "                'Preferred Stock Value': preferred_stock_value,\n",
    "                'Enterprise Value/Revenue' : ev_revenue_mult,\n",
    "                'Debt to Equity Ratio' : deratio,\n",
    "                'Return on Equity' : roe\n",
    "\n",
    "            }\n",
    "            results.append(result)\n",
    "        except Exception as e:\n",
    "            print(f\"Failed to process {ticker}: {e}\")\n",
    "    \n",
    "    # Convert results to DataFrame and save to CSV\n",
    "    results_df = pd.DataFrame(results)\n",
    "    results_df.to_csv(output_path, index=False)\n",
    "\n",
    "def process_tickers(csv_path, output_path):\n",
    "    tickers = pd.read_csv(csv_path)['Ticker']\n",
    "    results = []\n",
    "    \n",
    "    for ticker in tickers:\n",
    "        try:\n",
    "            # Fetch data\n",
    "            income_statement = get_income_statement_data(ticker)\n",
    "            financial_data = get_financial_data(ticker)\n",
    "            cash_flow_data = get_cash_flow_data(ticker)\n",
    "            balance_sheet_data = get_balance_sheet_data(ticker)\n",
    "            \n",
    "            # Calculate metrics\n",
    "            gross_margin = calculate_gross_margin(income_statement)\n",
    "            revenue_growth_rate = get_revenue_growth_rate(ticker)\n",
    "            arr, mrr = calculate_recurring_revenue(income_statement)\n",
    "            gross_burn_rate, net_burn_rate = calculate_burn_rate(financial_data)\n",
    "            sales_efficiency = calculate_sales_efficiency(financial_data)\n",
    "            profit_margin = get_profit_margin(financial_data)\n",
    "            growth_rate = get_growth_rate(financial_data)\n",
    "            rule_40 = passes_rule_of_40(ticker)\n",
    "            total_debt = calculate_total_debt(balance_sheet_data)\n",
    "            beta = get_stock_beta(ticker)\n",
    "            EBITDA_multiple = calculate_ebitda_multiple(ticker)\n",
    "            ev_revenue_mult = calculate_ev_revenue_multiple(ticker)\n",
    "            deratio = get_debt_to_equity_ratio(ticker)\n",
    "            roe = get_roe(ticker)\n",
    "            \n",
    "            # Calculate Preferred Stock Value\n",
    "            dividend_per_share = get_dividend_per_share(ticker)\n",
    "            print(f\"Dividend per Share for {ticker}: {dividend_per_share}\")  # Debugging line\n",
    "            \n",
    "            risk_free_rate = get_risk_free_rate(ticker='^IRX')\n",
    "            market_return = calculate_market_return('^GSPC', '2023-01-01', datetime.now().strftime('%Y-%m-%d'))\n",
    "            required_rate_of_return = calculate_required_rate_of_return(risk_free_rate, market_return, beta)\n",
    "            print(f\"Required Rate of Return for {ticker}: {required_rate_of_return}\")  # Debugging line\n",
    "            \n",
    "            if dividend_per_share != 'N/A' and required_rate_of_return not in [None, 'N/A', 0]:\n",
    "                preferred_stock_value = calculate_preferred_stock_value(dividend_per_share, required_rate_of_return)\n",
    "            else:\n",
    "                preferred_stock_value = 'N/A'\n",
    "            \n",
    "            # Append results\n",
    "            result = {\n",
    "                'Ticker': ticker,\n",
    "                'Profit Margin': profit_margin,\n",
    "                'Growth Rate': growth_rate,\n",
    "                'Rule of 40 (T/F)': rule_40,\n",
    "                'Gross Margin': gross_margin,\n",
    "                'Revenue Growth Rate': revenue_growth_rate,\n",
    "                'Annual Recurring Revenue (ARR)': arr,\n",
    "                'Monthly Recurring Revenue (MRR)': mrr,\n",
    "                'Gross Burn Rate': gross_burn_rate,\n",
    "                'Net Burn Rate': net_burn_rate,\n",
    "                'Sales Efficiency': sales_efficiency,\n",
    "                'Total Debt': total_debt,\n",
    "                'Beta': beta,\n",
    "                'Enterprise Value': calculate_enterprise_value(ticker),\n",
    "                'EBITDA Multiple': EBITDA_multiple,\n",
    "                'Preferred Stock Value': preferred_stock_value,\n",
    "                'Enterprise Value/Revenue': ev_revenue_mult,\n",
    "                'Debt to Equity Ratio': deratio,\n",
    "                'Return on Equity': roe\n",
    "            }\n",
    "            results.append(result)\n",
    "        except Exception as e:\n",
    "            print(f\"Failed to process {ticker}: {e}\")\n",
    "    \n",
    "    results_df = pd.DataFrame(results)\n",
    "    results_df.to_csv(output_path, index=False)\n",
    "\n",
    "\n",
    "\n",
    "# Example usage\n",
    "input_csv = 'AllDatav2.csv'\n",
    "output_csv = 'valuation_metrics10.csv'\n",
    "process_tickers(input_csv, output_csv)\n"
   ]
  },
  {
   "cell_type": "code",
   "execution_count": null,
   "metadata": {},
   "outputs": [],
   "source": []
  },
  {
   "cell_type": "code",
   "execution_count": null,
   "metadata": {},
   "outputs": [],
   "source": [
    "import yfinance as yf\n",
    "\n",
    "# Function to fetch and print headers from the income statement using yfinance\n",
    "def print_income_statement_headers(ticker):\n",
    "    stock = yf.Ticker(ticker)\n",
    "    income_statement = stock.financials\n",
    "    headers = income_statement.index.tolist()\n",
    "    print(\"Available Headers in Income Statement:\")\n",
    "    for header in headers:\n",
    "        print(header)\n",
    "\n",
    "def print_balance_sheet_headers(ticker):\n",
    "    stock = yf.Ticker(ticker)\n",
    "    balance_sheet = stock.balance_sheet\n",
    "    headers = balance_sheet.index.tolist()\n",
    "    print(\"Available Headers in Balance Sheet:\")\n",
    "    for header in headers:\n",
    "        print(header)\n",
    "\n",
    "def print_cash_flow_headers(ticker):\n",
    "    stock = yf.Ticker(ticker)\n",
    "    cash_flow = stock.cashflow\n",
    "    headers = cash_flow.index.tolist()\n",
    "    print(\"Available Headers in Cash Flow:\")\n",
    "    for header in headers:\n",
    "        print(header)\n",
    "\n",
    "tick = 'AAPL'\n",
    "print_income_statement_headers(tick)\n",
    "print(\"\")\n",
    "print_balance_sheet_headers(tick)\n",
    "print(\"\")\n",
    "print_cash_flow_headers(tick)"
   ]
  },
  {
   "cell_type": "code",
   "execution_count": null,
   "metadata": {},
   "outputs": [],
   "source": [
    "import yfinance as yf\n",
    "import pandas as pd\n",
    "\n",
    "# Define the ticker symbol\n",
    "ticker_symbol = 'AAPL'  # Example: Apple Inc.\n",
    "\n",
    "# Fetch the ticker data\n",
    "ticker = yf.Ticker(ticker_symbol)\n",
    "\n",
    "# Get the income statement\n",
    "income_statement = ticker.financials.T  # Transpose to have dates as index\n",
    "\n",
    "# Extract historical revenue data\n",
    "if 'Total Revenue' in income_statement.columns:\n",
    "    revenue = income_statement['Total Revenue']\n",
    "    print(\"Historical Revenue Data:\")\n",
    "    print(revenue)\n",
    "else:\n",
    "    print(\"Total Revenue data is not available for this ticker.\")\n"
   ]
  }
 ],
 "metadata": {
  "kernelspec": {
   "display_name": "myenv",
   "language": "python",
   "name": "python3"
  },
  "language_info": {
   "codemirror_mode": {
    "name": "ipython",
    "version": 3
   },
   "file_extension": ".py",
   "mimetype": "text/x-python",
   "name": "python",
   "nbconvert_exporter": "python",
   "pygments_lexer": "ipython3",
   "version": "3.10.13"
  }
 },
 "nbformat": 4,
 "nbformat_minor": 2
}
