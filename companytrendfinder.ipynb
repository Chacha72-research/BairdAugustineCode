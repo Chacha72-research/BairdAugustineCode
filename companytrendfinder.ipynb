{
 "cells": [
  {
   "cell_type": "code",
   "execution_count": 1,
   "metadata": {},
   "outputs": [
    {
     "name": "stdout",
     "output_type": "stream",
     "text": [
      "Fetching data for company: Oracle with keywords ['Oracle Growth', 'Oracle Stock']\n",
      "Fetching data for company: Netflix with keywords ['Netflix Growth', 'Netflix Stock']\n",
      "Attempt 1 failed: The request failed: Google returned a response with code 429\n",
      "Fetching data for company: Adobe with keywords ['Adobe Growth', 'Adobe Stock']\n",
      "Attempt 1 failed: The request failed: Google returned a response with code 429\n",
      "Fetching data for company: Salesforce with keywords ['Salesforce Growth', 'Salesforce Stock']\n",
      "Fetching data for company: Intuit with keywords ['Intuit Growth', 'Intuit Stock']\n",
      "Fetching data for company: ServiceNow with keywords ['ServiceNow Growth', 'ServiceNow Stock']\n",
      "Fetching data for company: Palo Alto Networks with keywords ['Palo Alto Networks Growth', 'Palo Alto Networks Stock']\n",
      "Attempt 1 failed: The request failed: Google returned a response with code 429\n",
      "Fetching data for company: Automatic Data Processing with keywords ['Automatic Data Processing Growth', 'Automatic Data Processing Stock']\n",
      "Fetching data for company: CrowdStrike with keywords ['CrowdStrike Growth', 'CrowdStrike Stock']\n",
      "Attempt 1 failed: The request failed: Google returned a response with code 429\n",
      "Fetching data for company: Shopify with keywords ['Shopify Growth', 'Shopify Stock']\n",
      "Fetching data for company: Spotify with keywords ['Spotify Growth', 'Spotify Stock']\n",
      "Attempt 1 failed: The request failed: Google returned a response with code 429\n",
      "Attempt 2 failed: The request failed: Google returned a response with code 429\n",
      "Fetching data for company: Workday with keywords ['Workday Growth', 'Workday Stock']\n",
      "Attempt 1 failed: The request failed: Google returned a response with code 429\n",
      "Attempt 2 failed: The request failed: Google returned a response with code 429\n",
      "Fetching data for company: Palantir with keywords ['Palantir Growth', 'Palantir Stock']\n",
      "Fetching data for company: Autodesk with keywords ['Autodesk Growth', 'Autodesk Stock']\n",
      "Fetching data for company: The Trade Desk with keywords ['The Trade Desk Growth', 'The Trade Desk Stock']\n",
      "Fetching data for company: Atlassian with keywords ['Atlassian Growth', 'Atlassian Stock']\n",
      "Fetching data for company: Fortinet with keywords ['Fortinet Growth', 'Fortinet Stock']\n",
      "Fetching data for company: Snowflake with keywords ['Snowflake Growth', 'Snowflake Stock']\n",
      "Fetching data for company: Datadog with keywords ['Datadog Growth', 'Datadog Stock']\n",
      "Attempt 1 failed: The request failed: Google returned a response with code 429\n",
      "Fetching data for company: HubSpot with keywords ['HubSpot Growth', 'HubSpot Stock']\n",
      "Fetching data for company: Ansys with keywords ['Ansys Growth', 'Ansys Stock']\n",
      "Fetching data for company: Zscaler with keywords ['Zscaler Growth', 'Zscaler Stock']\n",
      "Fetching data for company: Cloudflare with keywords ['Cloudflare Growth', 'Cloudflare Stock']\n",
      "Fetching data for company: AppLovin with keywords ['AppLovin Growth', 'AppLovin Stock']\n",
      "Attempt 1 failed: The request failed: Google returned a response with code 429\n",
      "Fetching data for company: MicroStrategy with keywords ['MicroStrategy Growth', 'MicroStrategy Stock']\n",
      "Fetching data for company: Godaddy with keywords ['Godaddy Growth', 'Godaddy Stock']\n",
      "Attempt 1 failed: The request failed: Google returned a response with code 429\n",
      "Fetching data for company: MongoDB with keywords ['MongoDB Growth', 'MongoDB Stock']\n",
      "Fetching data for company: Zoom with keywords ['Zoom Growth', 'Zoom Stock']\n",
      "Fetching data for company: Check Point Software Technologies with keywords ['Check Point Software Technologies Growth', 'Check Point Software Technologies Stock']\n",
      "Fetching data for company: Samsara with keywords ['Samsara Growth', 'Samsara Stock']\n",
      "Fetching data for company: SS&C Technologies with keywords ['SS&C Technologies Growth', 'SS&C Technologies Stock']\n",
      "Fetching data for company: Gen Digital with keywords ['Gen Digital Growth', 'Gen Digital Stock']\n",
      "Fetching data for company: Okta with keywords ['Okta Growth', 'Okta Stock']\n",
      "Fetching data for company: Bentley Systems with keywords ['Bentley Systems Growth', 'Bentley Systems Stock']\n",
      "Attempt 1 failed: The request failed: Google returned a response with code 429\n",
      "Fetching data for company: Toast with keywords ['Toast Growth', 'Toast Stock']\n",
      "Attempt 1 failed: The request failed: Google returned a response with code 429\n",
      "Attempt 2 failed: The request failed: Google returned a response with code 429\n",
      "Attempt 3 failed: The request failed: Google returned a response with code 429\n",
      "Fetching data for company: Akamai with keywords ['Akamai Growth', 'Akamai Stock']\n",
      "Fetching data for company: Dynatrace with keywords ['Dynatrace Growth', 'Dynatrace Stock']\n",
      "Fetching data for company: Monday with keywords ['Monday Growth', 'Monday Stock']\n",
      "Attempt 1 failed: The request failed: Google returned a response with code 429\n",
      "Attempt 2 failed: The request failed: Google returned a response with code 429\n",
      "Fetching data for company: CyberArk with keywords ['CyberArk Growth', 'CyberArk Stock']\n",
      "Fetching data for company: Guidewire Software with keywords ['Guidewire Software Growth', 'Guidewire Software Stock']\n",
      "Fetching data for company: Elastic NV with keywords ['Elastic NV Growth', 'Elastic NV Stock']\n",
      "Fetching data for company: DocuSign with keywords ['DocuSign Growth', 'DocuSign Stock']\n",
      "Attempt 1 failed: The request failed: Google returned a response with code 429\n",
      "Attempt 2 failed: The request failed: Google returned a response with code 429\n",
      "Fetching data for company: Nice with keywords ['Nice Growth', 'Nice Stock']\n",
      "Fetching data for company: F5 Networks with keywords ['F5 Networks Growth', 'F5 Networks Stock']\n",
      "Fetching data for company: Twilio with keywords ['Twilio Growth', 'Twilio Stock']\n",
      "Fetching data for company: Informatica with keywords ['Informatica Growth', 'Informatica Stock']\n",
      "Attempt 1 failed: The request failed: Google returned a response with code 429\n",
      "Attempt 2 failed: The request failed: Google returned a response with code 429\n",
      "Attempt 3 failed: The request failed: Google returned a response with code 429\n",
      "Attempt 4 failed: The request failed: Google returned a response with code 429\n",
      "Fetching data for company: Wix with keywords ['Wix Growth', 'Wix Stock']\n",
      "Fetching data for company: Confluent with keywords ['Confluent Growth', 'Confluent Stock']\n",
      "Fetching data for company: AppFolio with keywords ['AppFolio Growth', 'AppFolio Stock']\n",
      "Fetching data for company: Paycom with keywords ['Paycom Growth', 'Paycom Stock']\n",
      "Fetching data for company: OpenText with keywords ['OpenText Growth', 'OpenText Stock']\n",
      "Fetching data for company: Descartes Systems with keywords ['Descartes Systems Growth', 'Descartes Systems Stock']\n",
      "Attempt 1 failed: The request failed: Google returned a response with code 429\n",
      "Fetching data for company: Match Group with keywords ['Match Group Growth', 'Match Group Stock']\n",
      "Fetching data for company: GitLab with keywords ['GitLab Growth', 'GitLab Stock']\n",
      "Fetching data for company: Paylocity with keywords ['Paylocity Growth', 'Paylocity Stock']\n",
      "Fetching data for company: Dropbox with keywords ['Dropbox Growth', 'Dropbox Stock']\n",
      "Fetching data for company: UiPath with keywords ['UiPath Growth', 'UiPath Stock']\n",
      "Attempt 1 failed: The request failed: Google returned a response with code 429\n",
      "Fetching data for company: CCC Intelligent Solutions Holdings with keywords ['CCC Intelligent Solutions Holdings Growth', 'CCC Intelligent Solutions Holdings Stock']\n",
      "Fetching data for company: SPS Commerce with keywords ['SPS Commerce Growth', 'SPS Commerce Stock']\n",
      "Fetching data for company: HashiCorp with keywords ['HashiCorp Growth', 'HashiCorp Stock']\n",
      "Fetching data for company: Klaviyo with keywords ['Klaviyo Growth', 'Klaviyo Stock']\n",
      "Fetching data for company: Squarespace with keywords ['Squarespace Growth', 'Squarespace Stock']\n",
      "Fetching data for company: Smartsheet with keywords ['Smartsheet Growth', 'Smartsheet Stock']\n",
      "Attempt 1 failed: The request failed: Google returned a response with code 429\n",
      "Fetching data for company: SentinelOne with keywords ['SentinelOne Growth', 'SentinelOne Stock']\n",
      "Fetching data for company: Vertex with keywords ['Vertex Growth', 'Vertex Stock']\n",
      "Fetching data for company: BILL Holdings with keywords ['BILL Holdings Growth', 'BILL Holdings Stock']\n",
      "Fetching data for company: Doximity with keywords ['Doximity Growth', 'Doximity Stock']\n",
      "Attempt 1 failed: The request failed: Google returned a response with code 429\n",
      "Fetching data for company: Qualys with keywords ['Qualys Growth', 'Qualys Stock']\n",
      "Fetching data for company: Varonis with keywords ['Varonis Growth', 'Varonis Stock']\n",
      "Fetching data for company: Pegasystems with keywords ['Pegasystems Growth', 'Pegasystems Stock']\n",
      "Fetching data for company: Tenable with keywords ['Tenable Growth', 'Tenable Stock']\n",
      "Fetching data for company: ZoomInfo with keywords ['ZoomInfo Growth', 'ZoomInfo Stock']\n",
      "Fetching data for company: Clearwater Analytics with keywords ['Clearwater Analytics Growth', 'Clearwater Analytics Stock']\n",
      "Fetching data for company: PowerSchool with keywords ['PowerSchool Growth', 'PowerSchool Stock']\n",
      "Attempt 1 failed: The request failed: Google returned a response with code 429\n",
      "Fetching data for company: Alight with keywords ['Alight Growth', 'Alight Stock']\n",
      "Fetching data for company: Jfrog with keywords ['Jfrog Growth', 'Jfrog Stock']\n",
      "Fetching data for company: Box with keywords ['Box Growth', 'Box Stock']\n",
      "Attempt 1 failed: The request failed: Google returned a response with code 429\n",
      "Fetching data for company: Braze with keywords ['Braze Growth', 'Braze Stock']\n",
      "Fetching data for company: Freshworks with keywords ['Freshworks Growth', 'Freshworks Stock']\n",
      "Fetching data for company: Zeta Global with keywords ['Zeta Global Growth', 'Zeta Global Stock']\n",
      "Fetching data for company: Ncino with keywords ['Ncino Growth', 'Ncino Stock']\n",
      "Fetching data for company: C3 AI with keywords ['C3 AI Growth', 'C3 AI Stock']\n",
      "Fetching data for company: Instructure Holdings with keywords ['Instructure Holdings Growth', 'Instructure Holdings Stock']\n",
      "Fetching data for company: DoubleVerify with keywords ['DoubleVerify Growth', 'DoubleVerify Stock']\n",
      "Fetching data for company: DigitalOcean with keywords ['DigitalOcean Growth', 'DigitalOcean Stock']\n",
      "Fetching data for company: Five9 with keywords ['Five9 Growth', 'Five9 Stock']\n",
      "Fetching data for company: Asana with keywords ['Asana Growth', 'Asana Stock']\n",
      "Fetching data for company: Marqeta with keywords ['Marqeta Growth', 'Marqeta Stock']\n",
      "Fetching data for company: Lightspeed POS with keywords ['Lightspeed POS Growth', 'Lightspeed POS Stock']\n",
      "Fetching data for company: Agilysys with keywords ['Agilysys Growth', 'Agilysys Stock']\n",
      "Fetching data for company: N-Able with keywords ['N-Able Growth', 'N-Able Stock']\n",
      "Fetching data for company: Alkami Technology with keywords ['Alkami Technology Growth', 'Alkami Technology Stock']\n",
      "Fetching data for company: Rapid7 with keywords ['Rapid7 Growth', 'Rapid7 Stock']\n",
      "Fetching data for company: RingCentral with keywords ['RingCentral Growth', 'RingCentral Stock']\n",
      "Fetching data for company: Sprinklr with keywords ['Sprinklr Growth', 'Sprinklr Stock']\n",
      "Fetching data for company: Certara with keywords ['Certara Growth', 'Certara Stock']\n",
      "Fetching data for company: Paycor with keywords ['Paycor Growth', 'Paycor Stock']\n",
      "Attempt 1 failed: The request failed: Google returned a response with code 429\n",
      "Fetching data for company: Appian with keywords ['Appian Growth', 'Appian Stock']\n",
      "Fetching data for company: PagerDuty with keywords ['PagerDuty Growth', 'PagerDuty Stock']\n",
      "Fetching data for company: Jamf with keywords ['Jamf Growth', 'Jamf Stock']\n",
      "Fetching data for company: SolarWinds with keywords ['SolarWinds Growth', 'SolarWinds Stock']\n",
      "Fetching data for company: EverCommerce with keywords ['EverCommerce Growth', 'EverCommerce Stock']\n",
      "Fetching data for company: LiveRamp with keywords ['LiveRamp Growth', 'LiveRamp Stock']\n",
      "Fetching data for company: Sprout Social with keywords ['Sprout Social Growth', 'Sprout Social Stock']\n",
      "Fetching data for company: Semrush with keywords ['Semrush Growth', 'Semrush Stock']\n",
      "Attempt 1 failed: The request failed: Google returned a response with code 429\n",
      "Fetching data for company: AvePoint with keywords ['AvePoint Growth', 'AvePoint Stock']\n",
      "Fetching data for company: Donnelley Financial Solutions with keywords ['Donnelley Financial Solutions Growth', 'Donnelley Financial Solutions Stock']\n",
      "Attempt 1 failed: The request failed: Google returned a response with code 429\n",
      "Attempt 2 failed: The request failed: Google returned a response with code 429\n",
      "Fetching data for company: Livongo with keywords ['Livongo Growth', 'Livongo Stock']\n",
      "Fetching data for company: Docebo with keywords ['Docebo Growth', 'Docebo Stock']\n",
      "Attempt 1 failed: The request failed: Google returned a response with code 429\n",
      "Fetching data for company: LegalZoom with keywords ['LegalZoom Growth', 'LegalZoom Stock']\n",
      "Fetching data for company: Integral Ad Science with keywords ['Integral Ad Science Growth', 'Integral Ad Science Stock']\n",
      "Fetching data for company: PAR Technology with keywords ['PAR Technology Growth', 'PAR Technology Stock']\n",
      "Fetching data for company: Rumble with keywords ['Rumble Growth', 'Rumble Stock']\n",
      "Fetching data for company: Zuora with keywords ['Zuora Growth', 'Zuora Stock']\n",
      "Fetching data for company: E2open with keywords ['E2open Growth', 'E2open Stock']\n",
      "Attempt 1 failed: The request failed: Google returned a response with code 429\n",
      "Attempt 2 failed: The request failed: Google returned a response with code 429\n",
      "Attempt 3 failed: The request failed: Google returned a response with code 429\n",
      "Fetching data for company: Matterport with keywords ['Matterport Growth', 'Matterport Stock']\n",
      "Fetching data for company: Pros Holding with keywords ['Pros Holding Growth', 'Pros Holding Stock']\n",
      "Attempt 1 failed: The request failed: Google returned a response with code 429\n",
      "Fetching data for company: Bumble with keywords ['Bumble Growth', 'Bumble Stock']\n",
      "Fetching data for company: VTEX with keywords ['VTEX Growth', 'VTEX Stock']\n",
      "Attempt 1 failed: The request failed: Google returned a response with code 429\n",
      "Attempt 2 failed: The request failed: Google returned a response with code 429\n",
      "Attempt 3 failed: The request failed: Google returned a response with code 429\n",
      "Attempt 4 failed: The request failed: Google returned a response with code 429\n",
      "Attempt 5 failed: The request failed: Google returned a response with code 429\n",
      "Attempt 6 failed: The request failed: Google returned a response with code 429\n",
      "All attempts to fetch data for '['VTEX Growth', 'VTEX Stock']' failed.\n",
      "Fetching data for company: WalkMe with keywords ['WalkMe Growth', 'WalkMe Stock']\n",
      "Attempt 1 failed: The request failed: Google returned a response with code 429\n",
      "Fetching data for company: SoundHound AI with keywords ['SoundHound AI Growth', 'SoundHound AI Stock']\n",
      "Fetching data for company: Udemy with keywords ['Udemy Growth', 'Udemy Stock']\n",
      "Fetching data for company: CSG International with keywords ['CSG International Growth', 'CSG International Stock']\n",
      "Attempt 1 failed: The request failed: Google returned a response with code 429\n",
      "Fetching data for company: Genius Sports with keywords ['Genius Sports Growth', 'Genius Sports Stock']\n",
      "Attempt 1 failed: The request failed: Google returned a response with code 429\n",
      "Attempt 2 failed: The request failed: Google returned a response with code 429\n",
      "Fetching data for company: Model N with keywords ['Model N Growth', 'Model N Stock']\n",
      "Fetching data for company: Riskified with keywords ['Riskified Growth', 'Riskified Stock']\n",
      "Attempt 1 failed: The request failed: Google returned a response with code 429\n",
      "Fetching data for company: Amplitude with keywords ['Amplitude Growth', 'Amplitude Stock']\n",
      "Attempt 1 failed: The request failed: Google returned a response with code 429\n",
      "Attempt 2 failed: The request failed: Google returned a response with code 429\n",
      "Attempt 3 failed: The request failed: Google returned a response with code 429\n",
      "Attempt 4 failed: The request failed: Google returned a response with code 429\n",
      "Attempt 5 failed: The request failed: Google returned a response with code 429\n",
      "Fetching data for company: Coursera with keywords ['Coursera Growth', 'Coursera Stock']\n",
      "Fetching data for company: Karooooo with keywords ['Karooooo Growth', 'Karooooo Stock']\n",
      "Fetching data for company: PubMatic with keywords ['PubMatic Growth', 'PubMatic Stock']\n",
      "Attempt 1 failed: The request failed: Google returned a response with code 429\n",
      "Fetching data for company: Sabre with keywords ['Sabre Growth', 'Sabre Stock']\n",
      "Fetching data for company: Fastly with keywords ['Fastly Growth', 'Fastly Stock']\n",
      "Fetching data for company: TechTarget with keywords ['TechTarget Growth', 'TechTarget Stock']\n",
      "Attempt 1 failed: The request failed: Google returned a response with code 429\n",
      "Fetching data for company: Couchbase with keywords ['Couchbase Growth', 'Couchbase Stock']\n",
      "Fetching data for company: Olo with keywords ['Olo Growth', 'Olo Stock']\n",
      "Fetching data for company: KingSoft Cloud with keywords ['KingSoft Cloud Growth', 'KingSoft Cloud Stock']\n",
      "Fetching data for company: Rackspace Technology with keywords ['Rackspace Technology Growth', 'Rackspace Technology Stock']\n",
      "Attempt 1 failed: The request failed: Google returned a response with code 429\n",
      "Attempt 2 failed: The request failed: Google returned a response with code 429\n",
      "Attempt 3 failed: The request failed: Google returned a response with code 429\n",
      "Attempt 4 failed: The request failed: Google returned a response with code 429\n",
      "Attempt 5 failed: The request failed: Google returned a response with code 429\n",
      "Fetching data for company: Thryv with keywords ['Thryv Growth', 'Thryv Stock']\n",
      "Attempt 1 failed: The request failed: Google returned a response with code 429\n",
      "Attempt 2 failed: The request failed: Google returned a response with code 429\n",
      "Attempt 3 failed: The request failed: Google returned a response with code 429\n",
      "Fetching data for company: Yext with keywords ['Yext Growth', 'Yext Stock']\n",
      "Attempt 1 failed: The request failed: Google returned a response with code 429\n",
      "Attempt 2 failed: The request failed: Google returned a response with code 429\n",
      "Attempt 3 failed: The request failed: Google returned a response with code 429\n",
      "Attempt 4 failed: The request failed: Google returned a response with code 429\n",
      "Attempt 5 failed: The request failed: Google returned a response with code 429\n",
      "Attempt 6 failed: The request failed: Google returned a response with code 429\n",
      "All attempts to fetch data for '['Yext Growth', 'Yext Stock']' failed.\n",
      "Fetching data for company: Weave Communications with keywords ['Weave Communications Growth', 'Weave Communications Stock']\n",
      "Attempt 1 failed: The request failed: Google returned a response with code 429\n",
      "Attempt 2 failed: The request failed: Google returned a response with code 429\n",
      "Attempt 3 failed: The request failed: Google returned a response with code 429\n",
      "Attempt 4 failed: The request failed: Google returned a response with code 429\n",
      "Fetching data for company: Similarweb with keywords ['Similarweb Growth', 'Similarweb Stock']\n",
      "Fetching data for company: Vimeo with keywords ['Vimeo Growth', 'Vimeo Stock']\n",
      "Attempt 1 failed: The request failed: Google returned a response with code 429\n",
      "Fetching data for company: Big Commerce with keywords ['Big Commerce Growth', 'Big Commerce Stock']\n",
      "Attempt 1 failed: The request failed: Google returned a response with code 429\n",
      "Fetching data for company: Blend Labs with keywords ['Blend Labs Growth', 'Blend Labs Stock']\n",
      "Attempt 1 failed: The request failed: Google returned a response with code 429\n",
      "Attempt 2 failed: The request failed: Google returned a response with code 429\n",
      "Attempt 3 failed: The request failed: Google returned a response with code 429\n",
      "Attempt 4 failed: The request failed: Google returned a response with code 429\n",
      "Attempt 5 failed: The request failed: Google returned a response with code 429\n",
      "Fetching data for company: Cognyte Software with keywords ['Cognyte Software Growth', 'Cognyte Software Stock']\n",
      "Fetching data for company: Mitek Systems with keywords ['Mitek Systems Growth', 'Mitek Systems Stock']\n",
      "Attempt 1 failed: The request failed: Google returned a response with code 429\n",
      "Attempt 2 failed: The request failed: Google returned a response with code 429\n",
      "Attempt 3 failed: The request failed: Google returned a response with code 429\n",
      "Attempt 4 failed: The request failed: Google returned a response with code 429\n",
      "Attempt 5 failed: The request failed: Google returned a response with code 429\n",
      "Attempt 6 failed: The request failed: Google returned a response with code 429\n",
      "All attempts to fetch data for '['Mitek Systems Growth', 'Mitek Systems Stock']' failed.\n",
      "Fetching data for company: Eventbrite with keywords ['Eventbrite Growth', 'Eventbrite Stock']\n",
      "Attempt 1 failed: The request failed: Google returned a response with code 429\n",
      "Attempt 2 failed: The request failed: Google returned a response with code 429\n",
      "Fetching data for company: OneSpan with keywords ['OneSpan Growth', 'OneSpan Stock']\n",
      "Fetching data for company: Perion Network with keywords ['Perion Network Growth', 'Perion Network Stock']\n",
      "Attempt 1 failed: The request failed: Google returned a response with code 429\n",
      "Attempt 2 failed: The request failed: Google returned a response with code 429\n",
      "Attempt 3 failed: The request failed: Google returned a response with code 429\n",
      "Attempt 4 failed: The request failed: Google returned a response with code 429\n",
      "Attempt 5 failed: The request failed: Google returned a response with code 429\n",
      "Fetching data for company: Health Catalyst with keywords ['Health Catalyst Growth', 'Health Catalyst Stock']\n",
      "Attempt 1 failed: The request failed: Google returned a response with code 429\n",
      "Attempt 2 failed: The request failed: Google returned a response with code 429\n",
      "Attempt 3 failed: The request failed: Google returned a response with code 429\n",
      "Fetching data for company: CS Disco with keywords ['CS Disco Growth', 'CS Disco Stock']\n",
      "Attempt 1 failed: The request failed: Google returned a response with code 429\n",
      "Attempt 2 failed: The request failed: Google returned a response with code 429\n",
      "Attempt 3 failed: The request failed: Google returned a response with code 429\n",
      "Attempt 4 failed: The request failed: Google returned a response with code 429\n",
      "Attempt 5 failed: The request failed: Google returned a response with code 429\n",
      "Attempt 6 failed: The request failed: Google returned a response with code 429\n",
      "All attempts to fetch data for '['CS Disco Growth', 'CS Disco Stock']' failed.\n",
      "Fetching data for company: Spok Holdings with keywords ['Spok Holdings Growth', 'Spok Holdings Stock']\n",
      "Attempt 1 failed: The request failed: Google returned a response with code 429\n",
      "Attempt 2 failed: The request failed: Google returned a response with code 429\n",
      "Attempt 3 failed: The request failed: Google returned a response with code 429\n",
      "Attempt 4 failed: The request failed: Google returned a response with code 429\n",
      "Attempt 5 failed: The request failed: Google returned a response with code 429\n",
      "Attempt 6 failed: The request failed: Google returned a response with code 429\n",
      "All attempts to fetch data for '['Spok Holdings Growth', 'Spok Holdings Stock']' failed.\n",
      "Fetching data for company: Domo with keywords ['Domo Growth', 'Domo Stock']\n",
      "Fetching data for company: Nerdy with keywords ['Nerdy Growth', 'Nerdy Stock']\n",
      "Fetching data for company: American Software with keywords ['American Software Growth', 'American Software Stock']\n",
      "Attempt 1 failed: The request failed: Google returned a response with code 429\n",
      "Fetching data for company: 8×8 with keywords ['8×8 Growth', '8×8 Stock']\n",
      "Attempt 1 failed: The request failed: Google returned a response with code 429\n",
      "Fetching data for company: Outbrain with keywords ['Outbrain Growth', 'Outbrain Stock']\n",
      "Attempt 1 failed: The request failed: Google returned a response with code 429\n",
      "Fetching data for company: Backblaze with keywords ['Backblaze Growth', 'Backblaze Stock']\n",
      "Attempt 1 failed: The request failed: Google returned a response with code 429\n",
      "Attempt 2 failed: The request failed: Google returned a response with code 429\n",
      "Attempt 3 failed: The request failed: Google returned a response with code 429\n",
      "Attempt 4 failed: The request failed: Google returned a response with code 429\n",
      "Attempt 5 failed: The request failed: Google returned a response with code 429\n",
      "Fetching data for company: Asure Software with keywords ['Asure Software Growth', 'Asure Software Stock']\n",
      "Attempt 1 failed: The request failed: Google returned a response with code 429\n",
      "Attempt 2 failed: The request failed: Google returned a response with code 429\n",
      "Fetching data for company: FiscalNote Holdings with keywords ['FiscalNote Holdings Growth', 'FiscalNote Holdings Stock']\n",
      "Attempt 1 failed: The request failed: Google returned a response with code 429\n",
      "Attempt 2 failed: The request failed: Google returned a response with code 429\n",
      "Attempt 3 failed: The request failed: Google returned a response with code 429\n",
      "Attempt 4 failed: The request failed: Google returned a response with code 429\n",
      "Attempt 5 failed: The request failed: Google returned a response with code 429\n",
      "Attempt 6 failed: The request failed: Google returned a response with code 429\n",
      "All attempts to fetch data for '['FiscalNote Holdings Growth', 'FiscalNote Holdings Stock']' failed.\n",
      "Fetching data for company: eGain with keywords ['eGain Growth', 'eGain Stock']\n",
      "Attempt 1 failed: The request failed: Google returned a response with code 429\n",
      "Fetching data for company: Kaltura with keywords ['Kaltura Growth', 'Kaltura Stock']\n",
      "Attempt 1 failed: The request failed: Google returned a response with code 429\n",
      "Attempt 2 failed: The request failed: Google returned a response with code 429\n",
      "Attempt 3 failed: The request failed: Google returned a response with code 429\n",
      "Attempt 4 failed: The request failed: Google returned a response with code 429\n",
      "Attempt 5 failed: The request failed: Google returned a response with code 429\n",
      "Fetching data for company: Digital Turbine with keywords ['Digital Turbine Growth', 'Digital Turbine Stock']\n",
      "Attempt 1 failed: The request failed: Google returned a response with code 429\n",
      "Attempt 2 failed: The request failed: Google returned a response with code 429\n",
      "Attempt 3 failed: The request failed: Google returned a response with code 429\n",
      "Attempt 4 failed: The request failed: Google returned a response with code 429\n",
      "Fetching data for company: Expensify with keywords ['Expensify Growth', 'Expensify Stock']\n",
      "Attempt 1 failed: The request failed: Google returned a response with code 429\n",
      "Fetching data for company: Upland Software with keywords ['Upland Software Growth', 'Upland Software Stock']\n",
      "Attempt 1 failed: The request failed: Google returned a response with code 429\n",
      "Attempt 2 failed: The request failed: Google returned a response with code 429\n",
      "Attempt 3 failed: The request failed: Google returned a response with code 429\n",
      "Attempt 4 failed: The request failed: Google returned a response with code 429\n",
      "Attempt 5 failed: The request failed: Google returned a response with code 429\n",
      "Attempt 6 failed: The request failed: Google returned a response with code 429\n",
      "All attempts to fetch data for '['Upland Software Growth', 'Upland Software Stock']' failed.\n",
      "Fetching data for company: Intellicheck with keywords ['Intellicheck Growth', 'Intellicheck Stock']\n",
      "Attempt 1 failed: The request failed: Google returned a response with code 429\n",
      "Fetching data for company: LivePerson with keywords ['LivePerson Growth', 'LivePerson Stock']\n",
      "Fetching data for company: Aware with keywords ['Aware Growth', 'Aware Stock']\n",
      "Attempt 1 failed: The request failed: Google returned a response with code 429\n",
      "Attempt 2 failed: The request failed: Google returned a response with code 429\n",
      "Attempt 3 failed: The request failed: Google returned a response with code 429\n",
      "Attempt 4 failed: The request failed: Google returned a response with code 429\n",
      "Attempt 5 failed: The request failed: Google returned a response with code 429\n",
      "Attempt 6 failed: The request failed: Google returned a response with code 429\n",
      "All attempts to fetch data for '['Aware Growth', 'Aware Stock']' failed.\n",
      "Fetching data for company: AppTech Payments with keywords ['AppTech Payments Growth', 'AppTech Payments Stock']\n",
      "Attempt 1 failed: The request failed: Google returned a response with code 429\n",
      "Fetching data for company: Exela Technologies with keywords ['Exela Technologies Growth', 'Exela Technologies Stock']\n",
      "Attempt 1 failed: The request failed: Google returned a response with code 429\n",
      "Attempt 2 failed: The request failed: Google returned a response with code 429\n",
      "Fetching data for company: 2U with keywords ['2U Growth', '2U Stock']\n",
      "Attempt 1 failed: The request failed: Google returned a response with code 429\n",
      "Attempt 2 failed: The request failed: Google returned a response with code 429\n",
      "Attempt 3 failed: The request failed: Google returned a response with code 429\n",
      "Attempt 4 failed: The request failed: Google returned a response with code 429\n",
      "Attempt 5 failed: The request failed: Google returned a response with code 429\n",
      "Attempt 6 failed: The request failed: Google returned a response with code 429\n",
      "All attempts to fetch data for '['2U Growth', '2U Stock']' failed.\n",
      "Fetching data for company: Blackboxstocks with keywords ['Blackboxstocks Growth', 'Blackboxstocks Stock']\n",
      "Attempt 1 failed: The request failed: Google returned a response with code 429\n",
      "Attempt 2 failed: The request failed: Google returned a response with code 429\n",
      "Attempt 3 failed: The request failed: Google returned a response with code 429\n",
      "Attempt 4 failed: The request failed: Google returned a response with code 429\n",
      "Attempt 5 failed: The request failed: Google returned a response with code 429\n",
      "Fetching data for company: Marin Software with keywords ['Marin Software Growth', 'Marin Software Stock']\n",
      "Attempt 1 failed: The request failed: Google returned a response with code 429\n",
      "Attempt 2 failed: The request failed: Google returned a response with code 429\n",
      "Attempt 3 failed: The request failed: Google returned a response with code 429\n",
      "Attempt 4 failed: The request failed: Google returned a response with code 429\n",
      "Attempt 5 failed: The request failed: Google returned a response with code 429\n",
      "Attempt 6 failed: The request failed: Google returned a response with code 429\n",
      "All attempts to fetch data for '['Marin Software Growth', 'Marin Software Stock']' failed.\n",
      "Fetching data for company: My Size with keywords ['My Size Growth', 'My Size Stock']\n",
      "Attempt 1 failed: The request failed: Google returned a response with code 429\n",
      "Attempt 2 failed: The request failed: Google returned a response with code 429\n",
      "Attempt 3 failed: The request failed: Google returned a response with code 429\n",
      "Attempt 4 failed: The request failed: Google returned a response with code 429\n",
      "Attempt 5 failed: The request failed: Google returned a response with code 429\n",
      "Attempt 6 failed: The request failed: Google returned a response with code 429\n",
      "All attempts to fetch data for '['My Size Growth', 'My Size Stock']' failed.\n",
      "Data fetching and saving to CSV files is complete.\n"
     ]
    }
   ],
   "source": [
    "import time\n",
    "import pandas as pd\n",
    "import matplotlib.pyplot as plt\n",
    "import random\n",
    "#from pytrends.request import TrendReq\n",
    "\n",
    "\n",
    "from pytrends.request import TrendReq as UTrendReq\n",
    "GET_METHOD='get'\n",
    "\n",
    "import requests\n",
    "\n",
    "headers = {\n",
    "    'accept': 'text/html,application/xhtml+xml,application/xml;q=0.9,image/avif,image/webp,image/apng,*/*;q=0.8,application/signed-exchange;v=b3;q=0.7',\n",
    "    'accept-language': 'en-US,en;q=0.9',\n",
    "    # 'cookie': '__utma=10102256.798538214.1720842523.1720842538.1720842538.1; __utmc=10102256; __utmz=10102256.1720842538.1.1.utmcsr=trends.google.com|utmccn=(referral)|utmcmd=referral|utmcct=/; SEARCH_SAMESITE=CgQIqJsB; SID=g.a000lwhyj3hMx6JF14dTyUbCYl66nL0g_OJ7NG0kF4T-5bdtzi5J5M4uZo7XvGbMsKlUBFjYQQACgYKAXkSARESFQHGX2Mi-oVZBr-aYDrQB9FGFr6TdhoVAUF8yKoGx94UiVR8W8Jt92QN-Vgk0076; __Secure-1PSID=g.a000lwhyj3hMx6JF14dTyUbCYl66nL0g_OJ7NG0kF4T-5bdtzi5J_OE1adnPM0OAdCfNnwfsdgACgYKAcwSARESFQHGX2Miu3zO77sffet9nY5EGhJ3xRoVAUF8yKoUN_TJoOpxCaNfh1EM3V220076; __Secure-3PSID=g.a000lwhyj3hMx6JF14dTyUbCYl66nL0g_OJ7NG0kF4T-5bdtzi5JZ9gs4AN2QDD11RPe_4YdawACgYKAdESARESFQHGX2Mi6J8v-D9oLta9DI0-hJWSWBoVAUF8yKrlswqLRp_ycllMA0Q0BUoX0076; HSID=AyL4we0R11Og14ap1; SSID=AgNpsZiBrJ_-LUKqv; APISID=G-HyM-fI0mpjT0Y3/A8TzxSXTQlviR4BYZ; SAPISID=bue7SJPy5ukrWHLo/A1Ty6-5wxKtINv2qu; __Secure-1PAPISID=bue7SJPy5ukrWHLo/A1Ty6-5wxKtINv2qu; __Secure-3PAPISID=bue7SJPy5ukrWHLo/A1Ty6-5wxKtINv2qu; AEC=AVYB7crvAO3xzQ_o-NufgGGwM0oAiqmhLcq_9hPd7vIsJqDYlV_S1xrKOt8; _gid=GA1.3.1128458146.1720842524; OTZ=7642309_84_88_104280_84_446940; NID=515=bD8gDCh2X6F-Uq05P3ogXvMyFdD_3QuOdoP5z2ocAxcKajQWe2SBIgmZPGqdAHJMES1_oGKm_gPQhKxuYFJpw1w6uI6WwvJlB-dBxJhXX104FrUGmWnU05urNXh4KM95LBc372kuaFm_04gi83YDDCj4CPmGvGsUeA92zbE9wD_h5r8J3QfX_L2ZGOvNHxqzI6DsVZIVhhRZ9UUtf7LeONSRJ7iOIpV-JeZArlBVnC6IxO-4d5FWf-kXDONuw1rhqEY2DnJ6VX3MyFCk-kKTLwolQj6bheb4dKBgkP9zC3KR2qMFU3mjY8Zsj9BgtmiQfLsIi2MY8eEuEUt9hwitsUKaepnY8FGQ1gSRB_8; __Secure-1PSIDTS=sidts-CjIB4E2dkQnU8cvLkwEAk89PPgGDhTp-8LE4VySmSf2NHENNnwmKM0zWg_sAqxDdj3TpxRAA; __Secure-3PSIDTS=sidts-CjIB4E2dkQnU8cvLkwEAk89PPgGDhTp-8LE4VySmSf2NHENNnwmKM0zWg_sAqxDdj3TpxRAA; _ga=GA1.3.798538214.1720842523; _gat_gtag_UA_4401283=1; SIDCC=AKEyXzUbRVhzXTAy82LYAXDStxji8DivU4Lvz9rU2-w40HeLVF27M4VuuNX4Dpv5lAuz1BX-dr0; __Secure-1PSIDCC=AKEyXzVY5YFue1GOUHylM3b3hLhZBSGaS4-AnUHHsB8pFvkysHaL3uISZAaS8FzqstaCVcWcP3o; __Secure-3PSIDCC=AKEyXzX7C3R6wKA_CVLSCdFGWvnPnaSVyvooDfVd2uyyI8tqXLKjzPkuIs6M2kIcepmT6Mz7zg; _ga_VWZPXDNJJB=GS1.1.1720896399.3.0.1720896413.0.0.0',\n",
    "    'priority': 'u=0, i',\n",
    "    'referer': 'https://trends.google.com/',\n",
    "    'sec-ch-ua': '\"Not/A)Brand\";v=\"8\", \"Chromium\";v=\"126\", \"Google Chrome\";v=\"126\"',\n",
    "    'sec-ch-ua-arch': '\"x86\"',\n",
    "    'sec-ch-ua-bitness': '\"64\"',\n",
    "    'sec-ch-ua-form-factors': '\"Desktop\"',\n",
    "    'sec-ch-ua-full-version': '\"126.0.6478.127\"',\n",
    "    'sec-ch-ua-full-version-list': '\"Not/A)Brand\";v=\"8.0.0.0\", \"Chromium\";v=\"126.0.6478.127\", \"Google Chrome\";v=\"126.0.6478.127\"',\n",
    "    'sec-ch-ua-mobile': '?0',\n",
    "    'sec-ch-ua-model': '\"\"',\n",
    "    'sec-ch-ua-platform': '\"macOS\"',\n",
    "    'sec-ch-ua-platform-version': '\"13.6.7\"',\n",
    "    'sec-ch-ua-wow64': '?0',\n",
    "    'sec-fetch-dest': 'document',\n",
    "    'sec-fetch-mode': 'navigate',\n",
    "    'sec-fetch-site': 'same-origin',\n",
    "    'sec-fetch-user': '?1',\n",
    "    'upgrade-insecure-requests': '1',\n",
    "    'user-agent': 'Mozilla/5.0 (Macintosh; Intel Mac OS X 10_15_7) AppleWebKit/537.36 (KHTML, like Gecko) Chrome/126.0.0.0 Safari/537.36',\n",
    "    'x-client-data': 'CKy1yQEIjbbJAQiitskBCKmdygEI5vfKAQiUocsBCICZzQEIhqDNAQi6yM0BCJKHzgEIs5bOAQjil84BCP6gzgEI46XOAQjZp84BCJmozgEIgKvOARihnc4BGPGnzgEY642lFw==',\n",
    "}\n",
    "\n",
    "\n",
    "\n",
    "class TrendReq(UTrendReq):\n",
    "    def _get_data(self, url, method=GET_METHOD, trim_chars=0, **kwargs):\n",
    "        return super()._get_data(url, method=GET_METHOD, trim_chars=trim_chars, headers=headers, **kwargs)\n",
    "\n",
    "# Initialize pytrends request\n",
    "#pytrends = TrendReq(hl='en-US', tz=360, proxies=['https://66.31.130.117:8080', 'https://24.172.82.94:53281', 'https://27.98.187.65:8080'])\n",
    "pytrends = TrendReq(hl='en-US', tz=360)\n",
    "\n",
    "# Load the spreadsheet \n",
    "df = pd.read_csv('AllDatav2.csv')\n",
    "\n",
    "# Extract the company names from the 'Company' column\n",
    "companies = df['Company'].dropna().unique().tolist() \n",
    "\n",
    "# Define the timeframe \n",
    "timeframe = '2023-01-01 2024-07-01'\n",
    "\n",
    "# Function to get interest over time with retry logic and delay\n",
    "def get_trends_with_retry(pytrends, keywords, timeframe, retries=6, base_delay=90, randomize_delay=True):\n",
    "    for attempt in range(retries):\n",
    "        try:\n",
    "            pytrends.build_payload(keywords, cat=0, timeframe=timeframe, geo='', gprop='')\n",
    "            data = pytrends.interest_over_time()\n",
    "            if 'isPartial' in data.columns:\n",
    "                data = data.drop(columns=['isPartial'])\n",
    "            return data\n",
    "        except Exception as e:\n",
    "            print(f\"Attempt {attempt + 1} failed: {e}\")\n",
    "            delay = base_delay + random.uniform(0, 15) if randomize_delay else base_delay\n",
    "            time.sleep(delay)\n",
    "    print(f\"All attempts to fetch data for '{keywords}' failed.\")\n",
    "    return pd.DataFrame()  # Return an empty DataFrame on failure\n",
    "\n",
    "\n",
    "# Function to get related queries with retry logic and delay\n",
    "def get_related_queries_with_retry(pytrends, keywords, timeframe, retries=6, base_delay=90, randomize_delay=True):\n",
    "    for attempt in range(retries):\n",
    "        try:\n",
    "            pytrends.build_payload(keywords, cat=0, timeframe=timeframe, geo='', gprop='')\n",
    "            related_queries = pytrends.related_queries()\n",
    "            top_queries = {keyword: related_queries[keyword]['top'] for keyword in keywords}\n",
    "            rising_queries = {keyword: related_queries[keyword]['rising'] for keyword in keywords}\n",
    "            return top_queries, rising_queries\n",
    "        except Exception as e:\n",
    "            print(f\"Attempt {attempt + 1} failed: {e}\")\n",
    "            delay = base_delay + random.uniform(0, 15) if randomize_delay else base_delay\n",
    "            time.sleep(delay)\n",
    "    print(f\"All attempts to fetch related queries for '{keywords}' failed.\")\n",
    "    return pd.DataFrame(), pd.DataFrame()  # Return empty DataFrames on failure\n",
    "\n",
    "# Initialize dictionaries to store the data\n",
    "all_trends_data = {}\n",
    "all_top_queries = {}\n",
    "all_rising_queries = {}\n",
    "\n",
    "# Get the data with retry mechanism for each company\n",
    "# Get the data with retry mechanism for each company\n",
    "for company in companies:\n",
    "    keywords = [f'{company} Growth', f'{company} Stock']\n",
    "    print(f\"Fetching data for company: {company} with keywords {keywords}\")\n",
    "    \n",
    "    trends_data = get_trends_with_retry(pytrends, keywords, timeframe)\n",
    "    all_trends_data[company] = trends_data\n",
    "    \n",
    "   # top_queries, rising_queries = get_related_queries_with_retry(pytrends, keywords, timeframe)\n",
    "   # all_top_queries[company] = top_queries\n",
    "   # all_rising_queries[company] = rising_queries\n",
    "    \n",
    "    delay = 90 + random.uniform(0, 15)\n",
    "    time.sleep(delay)  # Minimal delay between requests with randomization\n",
    "\n",
    "\n",
    "# Save trends data to a CSV file\n",
    "all_trends_combined = pd.concat(all_trends_data, axis=1)\n",
    "all_trends_combined.to_csv('all_growthsearchtrends.csv')\n",
    "\n",
    "#all_top_queries_flattened = []\n",
    "#for company, queries in all_top_queries.items():\n",
    "#    for keyword, df in queries.items():\n",
    " #       if df is not None:\n",
    " #           df['Company'] = company\n",
    " #           df['Keyword'] = keyword\n",
    " #           all_top_queries_flattened.append(df)\n",
    "\n",
    "#top_queries_combined = pd.concat(all_top_queries_flattened)\n",
    "#top_queries_combined.to_csv('all_top_q2.csv')\n",
    "\n",
    "# Flatten the nested dictionaries of rising queries\n",
    "#all_rising_queries_flattened = []\n",
    "#for company, queries in all_rising_queries.items():\n",
    " #   for keyword, df in queries.items():\n",
    " #       if df is not None:\n",
    " #           df['Company'] = company\n",
    " #           df['Keyword'] = keyword\n",
    "  #          all_rising_queries_flattened.append(df)\n",
    "\n",
    "#rising_queries_combined = pd.concat(all_rising_queries_flattened)\n",
    "#rising_queries_combined.to_csv('all_rising_q2.csv')\n",
    "\n",
    "\n",
    "# Inform the user that the process is complete\n",
    "print(\"Data fetching and saving to CSV files is complete.\")\n"
   ]
  },
  {
   "cell_type": "code",
   "execution_count": 2,
   "metadata": {},
   "outputs": [
    {
     "name": "stdout",
     "output_type": "stream",
     "text": [
      "Fetching data for ORCL...\n"
     ]
    },
    {
     "name": "stderr",
     "output_type": "stream",
     "text": [
      "[*********************100%%**********************]  1 of 1 completed\n",
      "[*********************100%%**********************]  1 of 1 completed\n"
     ]
    },
    {
     "name": "stdout",
     "output_type": "stream",
     "text": [
      "Fetching data for NFLX...\n",
      "Fetching data for ADBE...\n"
     ]
    },
    {
     "name": "stderr",
     "output_type": "stream",
     "text": [
      "[*********************100%%**********************]  1 of 1 completed\n",
      "[*********************100%%**********************]  1 of 1 completed\n"
     ]
    },
    {
     "name": "stdout",
     "output_type": "stream",
     "text": [
      "Fetching data for CRM...\n",
      "Fetching data for INTU...\n"
     ]
    },
    {
     "name": "stderr",
     "output_type": "stream",
     "text": [
      "[*********************100%%**********************]  1 of 1 completed\n",
      "[*********************100%%**********************]  1 of 1 completed\n"
     ]
    },
    {
     "name": "stdout",
     "output_type": "stream",
     "text": [
      "Fetching data for NOW...\n",
      "Fetching data for PANW...\n"
     ]
    },
    {
     "name": "stderr",
     "output_type": "stream",
     "text": [
      "[*********************100%%**********************]  1 of 1 completed\n",
      "[*********************100%%**********************]  1 of 1 completed\n"
     ]
    },
    {
     "name": "stdout",
     "output_type": "stream",
     "text": [
      "Fetching data for ADP...\n",
      "Fetching data for CRWD...\n"
     ]
    },
    {
     "name": "stderr",
     "output_type": "stream",
     "text": [
      "[*********************100%%**********************]  1 of 1 completed\n",
      "[*********************100%%**********************]  1 of 1 completed\n"
     ]
    },
    {
     "name": "stdout",
     "output_type": "stream",
     "text": [
      "Fetching data for SHOP...\n",
      "Fetching data for SPOT...\n"
     ]
    },
    {
     "name": "stderr",
     "output_type": "stream",
     "text": [
      "[*********************100%%**********************]  1 of 1 completed\n",
      "[*********************100%%**********************]  1 of 1 completed\n"
     ]
    },
    {
     "name": "stdout",
     "output_type": "stream",
     "text": [
      "Fetching data for WDAY...\n",
      "Fetching data for PLTR...\n"
     ]
    },
    {
     "name": "stderr",
     "output_type": "stream",
     "text": [
      "[*********************100%%**********************]  1 of 1 completed\n",
      "[*********************100%%**********************]  1 of 1 completed\n"
     ]
    },
    {
     "name": "stdout",
     "output_type": "stream",
     "text": [
      "Fetching data for ADSK...\n",
      "Fetching data for TTD...\n"
     ]
    },
    {
     "name": "stderr",
     "output_type": "stream",
     "text": [
      "[*********************100%%**********************]  1 of 1 completed\n",
      "[*********************100%%**********************]  1 of 1 completed\n"
     ]
    },
    {
     "name": "stdout",
     "output_type": "stream",
     "text": [
      "Fetching data for TEAM...\n",
      "Fetching data for FTNT...\n"
     ]
    },
    {
     "name": "stderr",
     "output_type": "stream",
     "text": [
      "[*********************100%%**********************]  1 of 1 completed\n",
      "[*********************100%%**********************]  1 of 1 completed\n",
      "[*********************100%%**********************]  1 of 1 completed"
     ]
    },
    {
     "name": "stdout",
     "output_type": "stream",
     "text": [
      "Fetching data for SNOW...\n",
      "Fetching data for DDOG...\n",
      "Fetching data for HUBS...\n"
     ]
    },
    {
     "name": "stderr",
     "output_type": "stream",
     "text": [
      "\n",
      "[*********************100%%**********************]  1 of 1 completed\n",
      "[*********************100%%**********************]  1 of 1 completed\n"
     ]
    },
    {
     "name": "stdout",
     "output_type": "stream",
     "text": [
      "Fetching data for ANSS...\n",
      "Fetching data for ZS...\n"
     ]
    },
    {
     "name": "stderr",
     "output_type": "stream",
     "text": [
      "[*********************100%%**********************]  1 of 1 completed\n",
      "[*********************100%%**********************]  1 of 1 completed\n"
     ]
    },
    {
     "name": "stdout",
     "output_type": "stream",
     "text": [
      "Fetching data for NET...\n",
      "Fetching data for APP...\n"
     ]
    },
    {
     "name": "stderr",
     "output_type": "stream",
     "text": [
      "[*********************100%%**********************]  1 of 1 completed\n",
      "[*********************100%%**********************]  1 of 1 completed\n",
      "[*********************100%%**********************]  1 of 1 completed\n"
     ]
    },
    {
     "name": "stdout",
     "output_type": "stream",
     "text": [
      "Fetching data for MSTR...\n",
      "Fetching data for GDDY...\n",
      "Fetching data for MDB...\n"
     ]
    },
    {
     "name": "stderr",
     "output_type": "stream",
     "text": [
      "[*********************100%%**********************]  1 of 1 completed\n",
      "[*********************100%%**********************]  1 of 1 completed\n",
      "[*********************100%%**********************]  1 of 1 completed"
     ]
    },
    {
     "name": "stdout",
     "output_type": "stream",
     "text": [
      "Fetching data for ZM...\n",
      "Fetching data for CHKP...\n"
     ]
    },
    {
     "name": "stderr",
     "output_type": "stream",
     "text": [
      "\n",
      "[*********************100%%**********************]  1 of 1 completed\n"
     ]
    },
    {
     "name": "stdout",
     "output_type": "stream",
     "text": [
      "Fetching data for IOT...\n",
      "Fetching data for SSNC...\n"
     ]
    },
    {
     "name": "stderr",
     "output_type": "stream",
     "text": [
      "[*********************100%%**********************]  1 of 1 completed\n",
      "[*********************100%%**********************]  1 of 1 completed\n"
     ]
    },
    {
     "name": "stdout",
     "output_type": "stream",
     "text": [
      "Fetching data for GEN...\n",
      "Fetching data for OKTA...\n"
     ]
    },
    {
     "name": "stderr",
     "output_type": "stream",
     "text": [
      "[*********************100%%**********************]  1 of 1 completed\n",
      "[*********************100%%**********************]  1 of 1 completed\n"
     ]
    },
    {
     "name": "stdout",
     "output_type": "stream",
     "text": [
      "Fetching data for BSY...\n",
      "Fetching data for TOST...\n"
     ]
    },
    {
     "name": "stderr",
     "output_type": "stream",
     "text": [
      "[*********************100%%**********************]  1 of 1 completed\n",
      "[*********************100%%**********************]  1 of 1 completed\n"
     ]
    },
    {
     "name": "stdout",
     "output_type": "stream",
     "text": [
      "Fetching data for AKAM...\n",
      "Fetching data for DT...\n"
     ]
    },
    {
     "name": "stderr",
     "output_type": "stream",
     "text": [
      "[*********************100%%**********************]  1 of 1 completed\n",
      "[*********************100%%**********************]  1 of 1 completed\n",
      "[*********************100%%**********************]  1 of 1 completed"
     ]
    },
    {
     "name": "stdout",
     "output_type": "stream",
     "text": [
      "Fetching data for MNDY...\n",
      "Fetching data for CYBR...\n"
     ]
    },
    {
     "name": "stderr",
     "output_type": "stream",
     "text": [
      "\n",
      "[*********************100%%**********************]  1 of 1 completed\n"
     ]
    },
    {
     "name": "stdout",
     "output_type": "stream",
     "text": [
      "Fetching data for GWRE...\n",
      "Fetching data for ESTC...\n"
     ]
    },
    {
     "name": "stderr",
     "output_type": "stream",
     "text": [
      "[*********************100%%**********************]  1 of 1 completed\n",
      "[*********************100%%**********************]  1 of 1 completed\n"
     ]
    },
    {
     "name": "stdout",
     "output_type": "stream",
     "text": [
      "Fetching data for DOCU...\n",
      "Fetching data for NICE...\n"
     ]
    },
    {
     "name": "stderr",
     "output_type": "stream",
     "text": [
      "[*********************100%%**********************]  1 of 1 completed\n",
      "[*********************100%%**********************]  1 of 1 completed\n"
     ]
    },
    {
     "name": "stdout",
     "output_type": "stream",
     "text": [
      "Fetching data for FFIV...\n",
      "Fetching data for TWLO...\n"
     ]
    },
    {
     "name": "stderr",
     "output_type": "stream",
     "text": [
      "[*********************100%%**********************]  1 of 1 completed\n",
      "[*********************100%%**********************]  1 of 1 completed\n",
      "[*********************100%%**********************]  1 of 1 completed"
     ]
    },
    {
     "name": "stdout",
     "output_type": "stream",
     "text": [
      "Fetching data for INFA...\n",
      "Fetching data for WIX...\n"
     ]
    },
    {
     "name": "stderr",
     "output_type": "stream",
     "text": [
      "\n"
     ]
    },
    {
     "name": "stdout",
     "output_type": "stream",
     "text": [
      "Fetching data for CFLT...\n"
     ]
    },
    {
     "name": "stderr",
     "output_type": "stream",
     "text": [
      "[*********************100%%**********************]  1 of 1 completed\n",
      "[*********************100%%**********************]  1 of 1 completed\n"
     ]
    },
    {
     "name": "stdout",
     "output_type": "stream",
     "text": [
      "Fetching data for APPF...\n",
      "Fetching data for PAYC...\n"
     ]
    },
    {
     "name": "stderr",
     "output_type": "stream",
     "text": [
      "[*********************100%%**********************]  1 of 1 completed\n",
      "[*********************100%%**********************]  1 of 1 completed\n"
     ]
    },
    {
     "name": "stdout",
     "output_type": "stream",
     "text": [
      "Fetching data for OTEX...\n",
      "Fetching data for DSGX...\n"
     ]
    },
    {
     "name": "stderr",
     "output_type": "stream",
     "text": [
      "[*********************100%%**********************]  1 of 1 completed\n",
      "[*********************100%%**********************]  1 of 1 completed\n"
     ]
    },
    {
     "name": "stdout",
     "output_type": "stream",
     "text": [
      "Fetching data for MTCH...\n",
      "Fetching data for GTLB...\n"
     ]
    },
    {
     "name": "stderr",
     "output_type": "stream",
     "text": [
      "[*********************100%%**********************]  1 of 1 completed\n",
      "[*********************100%%**********************]  1 of 1 completed\n"
     ]
    },
    {
     "name": "stdout",
     "output_type": "stream",
     "text": [
      "Fetching data for PCTY...\n",
      "Fetching data for DBX...\n"
     ]
    },
    {
     "name": "stderr",
     "output_type": "stream",
     "text": [
      "[*********************100%%**********************]  1 of 1 completed\n",
      "[*********************100%%**********************]  1 of 1 completed\n"
     ]
    },
    {
     "name": "stdout",
     "output_type": "stream",
     "text": [
      "Fetching data for PATH...\n",
      "Fetching data for CCCS...\n"
     ]
    },
    {
     "name": "stderr",
     "output_type": "stream",
     "text": [
      "[*********************100%%**********************]  1 of 1 completed\n",
      "[*********************100%%**********************]  1 of 1 completed\n"
     ]
    },
    {
     "name": "stdout",
     "output_type": "stream",
     "text": [
      "Fetching data for SPSC...\n",
      "Fetching data for HCP...\n"
     ]
    },
    {
     "name": "stderr",
     "output_type": "stream",
     "text": [
      "[*********************100%%**********************]  1 of 1 completed\n",
      "[*********************100%%**********************]  1 of 1 completed\n",
      "[*********************100%%**********************]  1 of 1 completed\n"
     ]
    },
    {
     "name": "stdout",
     "output_type": "stream",
     "text": [
      "Fetching data for KVYO...\n",
      "Fetching data for SQSP...\n",
      "Fetching data for SMAR...\n"
     ]
    },
    {
     "name": "stderr",
     "output_type": "stream",
     "text": [
      "[*********************100%%**********************]  1 of 1 completed\n",
      "[*********************100%%**********************]  1 of 1 completed\n",
      "[*********************100%%**********************]  1 of 1 completed\n"
     ]
    },
    {
     "name": "stdout",
     "output_type": "stream",
     "text": [
      "Fetching data for S...\n",
      "Fetching data for VERX...\n",
      "Fetching data for BILL...\n"
     ]
    },
    {
     "name": "stderr",
     "output_type": "stream",
     "text": [
      "[*********************100%%**********************]  1 of 1 completed\n",
      "[*********************100%%**********************]  1 of 1 completed\n"
     ]
    },
    {
     "name": "stdout",
     "output_type": "stream",
     "text": [
      "Fetching data for DOCS...\n",
      "Fetching data for QLYS...\n"
     ]
    },
    {
     "name": "stderr",
     "output_type": "stream",
     "text": [
      "[*********************100%%**********************]  1 of 1 completed\n",
      "[*********************100%%**********************]  1 of 1 completed\n"
     ]
    },
    {
     "name": "stdout",
     "output_type": "stream",
     "text": [
      "Fetching data for VRNS...\n",
      "Fetching data for PEGA...\n"
     ]
    },
    {
     "name": "stderr",
     "output_type": "stream",
     "text": [
      "[*********************100%%**********************]  1 of 1 completed\n",
      "[*********************100%%**********************]  1 of 1 completed\n",
      "[*********************100%%**********************]  1 of 1 completed"
     ]
    },
    {
     "name": "stdout",
     "output_type": "stream",
     "text": [
      "Fetching data for TENB...\n",
      "Fetching data for ZI...\n"
     ]
    },
    {
     "name": "stderr",
     "output_type": "stream",
     "text": [
      "\n",
      "[*********************100%%**********************]  1 of 1 completed\n"
     ]
    },
    {
     "name": "stdout",
     "output_type": "stream",
     "text": [
      "Fetching data for CWAN...\n",
      "Fetching data for PWSC...\n"
     ]
    },
    {
     "name": "stderr",
     "output_type": "stream",
     "text": [
      "[*********************100%%**********************]  1 of 1 completed\n",
      "[*********************100%%**********************]  1 of 1 completed\n"
     ]
    },
    {
     "name": "stdout",
     "output_type": "stream",
     "text": [
      "Fetching data for ALIT...\n",
      "Fetching data for FROG...\n"
     ]
    },
    {
     "name": "stderr",
     "output_type": "stream",
     "text": [
      "[*********************100%%**********************]  1 of 1 completed\n",
      "[*********************100%%**********************]  1 of 1 completed\n"
     ]
    },
    {
     "name": "stdout",
     "output_type": "stream",
     "text": [
      "Fetching data for BOX...\n",
      "Fetching data for BRZE...\n"
     ]
    },
    {
     "name": "stderr",
     "output_type": "stream",
     "text": [
      "[*********************100%%**********************]  1 of 1 completed\n",
      "[*********************100%%**********************]  1 of 1 completed\n"
     ]
    },
    {
     "name": "stdout",
     "output_type": "stream",
     "text": [
      "Fetching data for FRSH...\n",
      "Fetching data for ZETA...\n"
     ]
    },
    {
     "name": "stderr",
     "output_type": "stream",
     "text": [
      "[*********************100%%**********************]  1 of 1 completed\n",
      "[*********************100%%**********************]  1 of 1 completed\n"
     ]
    },
    {
     "name": "stdout",
     "output_type": "stream",
     "text": [
      "Fetching data for NCNO...\n",
      "Fetching data for AI...\n"
     ]
    },
    {
     "name": "stderr",
     "output_type": "stream",
     "text": [
      "[*********************100%%**********************]  1 of 1 completed\n",
      "[*********************100%%**********************]  1 of 1 completed\n"
     ]
    },
    {
     "name": "stdout",
     "output_type": "stream",
     "text": [
      "Fetching data for INST...\n",
      "Fetching data for DV...\n"
     ]
    },
    {
     "name": "stderr",
     "output_type": "stream",
     "text": [
      "[*********************100%%**********************]  1 of 1 completed\n",
      "[*********************100%%**********************]  1 of 1 completed\n"
     ]
    },
    {
     "name": "stdout",
     "output_type": "stream",
     "text": [
      "Fetching data for DOCN...\n",
      "Fetching data for FIVN...\n"
     ]
    },
    {
     "name": "stderr",
     "output_type": "stream",
     "text": [
      "[*********************100%%**********************]  1 of 1 completed\n",
      "[*********************100%%**********************]  1 of 1 completed\n"
     ]
    },
    {
     "name": "stdout",
     "output_type": "stream",
     "text": [
      "Fetching data for ASAN...\n",
      "Fetching data for MQ...\n"
     ]
    },
    {
     "name": "stderr",
     "output_type": "stream",
     "text": [
      "[*********************100%%**********************]  1 of 1 completed\n",
      "[*********************100%%**********************]  1 of 1 completed\n"
     ]
    },
    {
     "name": "stdout",
     "output_type": "stream",
     "text": [
      "Fetching data for LSPD...\n",
      "Fetching data for AGYS...\n"
     ]
    },
    {
     "name": "stderr",
     "output_type": "stream",
     "text": [
      "[*********************100%%**********************]  1 of 1 completed\n",
      "[*********************100%%**********************]  1 of 1 completed\n"
     ]
    },
    {
     "name": "stdout",
     "output_type": "stream",
     "text": [
      "Fetching data for NABL...\n",
      "Fetching data for ALKT...\n"
     ]
    },
    {
     "name": "stderr",
     "output_type": "stream",
     "text": [
      "[*********************100%%**********************]  1 of 1 completed\n",
      "[*********************100%%**********************]  1 of 1 completed\n",
      "[*********************100%%**********************]  1 of 1 completed"
     ]
    },
    {
     "name": "stdout",
     "output_type": "stream",
     "text": [
      "Fetching data for RPD...\n",
      "Fetching data for RNG...\n"
     ]
    },
    {
     "name": "stderr",
     "output_type": "stream",
     "text": [
      "\n",
      "[*********************100%%**********************]  1 of 1 completed\n"
     ]
    },
    {
     "name": "stdout",
     "output_type": "stream",
     "text": [
      "Fetching data for CXM...\n",
      "Fetching data for CERT...\n"
     ]
    },
    {
     "name": "stderr",
     "output_type": "stream",
     "text": [
      "[*********************100%%**********************]  1 of 1 completed\n",
      "[*********************100%%**********************]  1 of 1 completed\n"
     ]
    },
    {
     "name": "stdout",
     "output_type": "stream",
     "text": [
      "Fetching data for PYCR...\n",
      "Fetching data for APPN...\n"
     ]
    },
    {
     "name": "stderr",
     "output_type": "stream",
     "text": [
      "[*********************100%%**********************]  1 of 1 completed\n",
      "[*********************100%%**********************]  1 of 1 completed\n"
     ]
    },
    {
     "name": "stdout",
     "output_type": "stream",
     "text": [
      "Fetching data for PD...\n",
      "Fetching data for JAMF...\n"
     ]
    },
    {
     "name": "stderr",
     "output_type": "stream",
     "text": [
      "[*********************100%%**********************]  1 of 1 completed\n",
      "[*********************100%%**********************]  1 of 1 completed\n"
     ]
    },
    {
     "name": "stdout",
     "output_type": "stream",
     "text": [
      "Fetching data for SWI...\n",
      "Fetching data for EVCM...\n"
     ]
    },
    {
     "name": "stderr",
     "output_type": "stream",
     "text": [
      "[*********************100%%**********************]  1 of 1 completed\n",
      "[*********************100%%**********************]  1 of 1 completed\n"
     ]
    },
    {
     "name": "stdout",
     "output_type": "stream",
     "text": [
      "Fetching data for RAMP...\n",
      "Fetching data for SPT...\n"
     ]
    },
    {
     "name": "stderr",
     "output_type": "stream",
     "text": [
      "[*********************100%%**********************]  1 of 1 completed\n",
      "[*********************100%%**********************]  1 of 1 completed\n"
     ]
    },
    {
     "name": "stdout",
     "output_type": "stream",
     "text": [
      "Fetching data for SEMR...\n",
      "Fetching data for AVPT...\n"
     ]
    },
    {
     "name": "stderr",
     "output_type": "stream",
     "text": [
      "[*********************100%%**********************]  1 of 1 completed\n",
      "[*********************100%%**********************]  1 of 1 completed\n",
      "[*********************100%%**********************]  1 of 1 completed\n"
     ]
    },
    {
     "name": "stdout",
     "output_type": "stream",
     "text": [
      "Fetching data for DFIN...\n",
      "Fetching data for TDOC...\n",
      "Fetching data for DCBO...\n"
     ]
    },
    {
     "name": "stderr",
     "output_type": "stream",
     "text": [
      "[*********************100%%**********************]  1 of 1 completed\n",
      "[*********************100%%**********************]  1 of 1 completed\n"
     ]
    },
    {
     "name": "stdout",
     "output_type": "stream",
     "text": [
      "Fetching data for LZ...\n",
      "Fetching data for IAS...\n"
     ]
    },
    {
     "name": "stderr",
     "output_type": "stream",
     "text": [
      "[*********************100%%**********************]  1 of 1 completed\n",
      "[*********************100%%**********************]  1 of 1 completed\n"
     ]
    },
    {
     "name": "stdout",
     "output_type": "stream",
     "text": [
      "Fetching data for PAR...\n",
      "Fetching data for RUM...\n"
     ]
    },
    {
     "name": "stderr",
     "output_type": "stream",
     "text": [
      "[*********************100%%**********************]  1 of 1 completed\n",
      "[*********************100%%**********************]  1 of 1 completed\n"
     ]
    },
    {
     "name": "stdout",
     "output_type": "stream",
     "text": [
      "Fetching data for ZUO...\n",
      "Fetching data for ETWO...\n"
     ]
    },
    {
     "name": "stderr",
     "output_type": "stream",
     "text": [
      "[*********************100%%**********************]  1 of 1 completed\n",
      "[*********************100%%**********************]  1 of 1 completed\n"
     ]
    },
    {
     "name": "stdout",
     "output_type": "stream",
     "text": [
      "Fetching data for MTTR...\n",
      "Fetching data for PRO...\n"
     ]
    },
    {
     "name": "stderr",
     "output_type": "stream",
     "text": [
      "[*********************100%%**********************]  1 of 1 completed\n",
      "[*********************100%%**********************]  1 of 1 completed\n"
     ]
    },
    {
     "name": "stdout",
     "output_type": "stream",
     "text": [
      "Fetching data for BMBL...\n",
      "Fetching data for VTEX...\n"
     ]
    },
    {
     "name": "stderr",
     "output_type": "stream",
     "text": [
      "[*********************100%%**********************]  1 of 1 completed\n",
      "[*********************100%%**********************]  1 of 1 completed\n"
     ]
    },
    {
     "name": "stdout",
     "output_type": "stream",
     "text": [
      "Fetching data for WKME...\n",
      "Fetching data for SOUN...\n"
     ]
    },
    {
     "name": "stderr",
     "output_type": "stream",
     "text": [
      "[*********************100%%**********************]  1 of 1 completed\n"
     ]
    },
    {
     "name": "stdout",
     "output_type": "stream",
     "text": [
      "Fetching data for UDMY...\n"
     ]
    },
    {
     "name": "stderr",
     "output_type": "stream",
     "text": [
      "[*********************100%%**********************]  1 of 1 completed\n",
      "[*********************100%%**********************]  1 of 1 completed\n"
     ]
    },
    {
     "name": "stdout",
     "output_type": "stream",
     "text": [
      "Fetching data for CSGS...\n",
      "Fetching data for GENI...\n"
     ]
    },
    {
     "name": "stderr",
     "output_type": "stream",
     "text": [
      "[*********************100%%**********************]  1 of 1 completed\n"
     ]
    },
    {
     "name": "stdout",
     "output_type": "stream",
     "text": [
      "Fetching data for MODN...\n"
     ]
    },
    {
     "name": "stderr",
     "output_type": "stream",
     "text": [
      "[*********************100%%**********************]  1 of 1 completed\n",
      "[*********************100%%**********************]  1 of 1 completed\n"
     ]
    },
    {
     "name": "stdout",
     "output_type": "stream",
     "text": [
      "Fetching data for RSKD...\n",
      "Fetching data for AMPL...\n"
     ]
    },
    {
     "name": "stderr",
     "output_type": "stream",
     "text": [
      "[*********************100%%**********************]  1 of 1 completed\n",
      "[*********************100%%**********************]  1 of 1 completed\n"
     ]
    },
    {
     "name": "stdout",
     "output_type": "stream",
     "text": [
      "Fetching data for COUR...\n",
      "Fetching data for KARO...\n"
     ]
    },
    {
     "name": "stderr",
     "output_type": "stream",
     "text": [
      "[*********************100%%**********************]  1 of 1 completed\n",
      "[*********************100%%**********************]  1 of 1 completed\n",
      "[*********************100%%**********************]  1 of 1 completed"
     ]
    },
    {
     "name": "stdout",
     "output_type": "stream",
     "text": [
      "Fetching data for PUBM...\n",
      "Fetching data for SABR...\n"
     ]
    },
    {
     "name": "stderr",
     "output_type": "stream",
     "text": [
      "\n",
      "[*********************100%%**********************]  1 of 1 completed\n"
     ]
    },
    {
     "name": "stdout",
     "output_type": "stream",
     "text": [
      "Fetching data for FSLY...\n",
      "Fetching data for TTGT...\n"
     ]
    },
    {
     "name": "stderr",
     "output_type": "stream",
     "text": [
      "[*********************100%%**********************]  1 of 1 completed\n",
      "[*********************100%%**********************]  1 of 1 completed\n"
     ]
    },
    {
     "name": "stdout",
     "output_type": "stream",
     "text": [
      "Fetching data for BASE...\n",
      "Fetching data for OLO...\n"
     ]
    },
    {
     "name": "stderr",
     "output_type": "stream",
     "text": [
      "[*********************100%%**********************]  1 of 1 completed\n",
      "[*********************100%%**********************]  1 of 1 completed\n"
     ]
    },
    {
     "name": "stdout",
     "output_type": "stream",
     "text": [
      "Fetching data for KC...\n",
      "Fetching data for RXT...\n"
     ]
    },
    {
     "name": "stderr",
     "output_type": "stream",
     "text": [
      "[*********************100%%**********************]  1 of 1 completed\n"
     ]
    },
    {
     "name": "stdout",
     "output_type": "stream",
     "text": [
      "Fetching data for THRY...\n"
     ]
    },
    {
     "name": "stderr",
     "output_type": "stream",
     "text": [
      "[*********************100%%**********************]  1 of 1 completed\n",
      "[*********************100%%**********************]  1 of 1 completed\n"
     ]
    },
    {
     "name": "stdout",
     "output_type": "stream",
     "text": [
      "Fetching data for YEXT...\n",
      "Fetching data for WEAV...\n"
     ]
    },
    {
     "name": "stderr",
     "output_type": "stream",
     "text": [
      "[*********************100%%**********************]  1 of 1 completed\n",
      "[*********************100%%**********************]  1 of 1 completed\n",
      "[*********************100%%**********************]  1 of 1 completed"
     ]
    },
    {
     "name": "stdout",
     "output_type": "stream",
     "text": [
      "Fetching data for SMWB...\n",
      "Fetching data for VMEO...\n"
     ]
    },
    {
     "name": "stderr",
     "output_type": "stream",
     "text": [
      "\n",
      "[*********************100%%**********************]  1 of 1 completed\n",
      "[*********************100%%**********************]  1 of 1 completed"
     ]
    },
    {
     "name": "stdout",
     "output_type": "stream",
     "text": [
      "Fetching data for BIGC...\n",
      "Fetching data for BLND...\n"
     ]
    },
    {
     "name": "stderr",
     "output_type": "stream",
     "text": [
      "\n",
      "[*********************100%%**********************]  1 of 1 completed\n",
      "[*********************100%%**********************]  1 of 1 completed"
     ]
    },
    {
     "name": "stdout",
     "output_type": "stream",
     "text": [
      "Fetching data for CGNT...\n",
      "Fetching data for MITK...\n"
     ]
    },
    {
     "name": "stderr",
     "output_type": "stream",
     "text": [
      "\n",
      "[*********************100%%**********************]  1 of 1 completed\n"
     ]
    },
    {
     "name": "stdout",
     "output_type": "stream",
     "text": [
      "Fetching data for EB...\n",
      "Fetching data for OSPN...\n"
     ]
    },
    {
     "name": "stderr",
     "output_type": "stream",
     "text": [
      "[*********************100%%**********************]  1 of 1 completed\n",
      "[*********************100%%**********************]  1 of 1 completed\n"
     ]
    },
    {
     "name": "stdout",
     "output_type": "stream",
     "text": [
      "Fetching data for PERI...\n",
      "Fetching data for HCAT...\n"
     ]
    },
    {
     "name": "stderr",
     "output_type": "stream",
     "text": [
      "[*********************100%%**********************]  1 of 1 completed\n",
      "[*********************100%%**********************]  1 of 1 completed\n"
     ]
    },
    {
     "name": "stdout",
     "output_type": "stream",
     "text": [
      "Fetching data for LAW...\n",
      "Fetching data for SPOK...\n"
     ]
    },
    {
     "name": "stderr",
     "output_type": "stream",
     "text": [
      "[*********************100%%**********************]  1 of 1 completed\n",
      "[*********************100%%**********************]  1 of 1 completed\n"
     ]
    },
    {
     "name": "stdout",
     "output_type": "stream",
     "text": [
      "Fetching data for DOMO...\n",
      "Fetching data for NRDY...\n"
     ]
    },
    {
     "name": "stderr",
     "output_type": "stream",
     "text": [
      "[*********************100%%**********************]  1 of 1 completed\n",
      "[*********************100%%**********************]  1 of 1 completed"
     ]
    },
    {
     "name": "stdout",
     "output_type": "stream",
     "text": [
      "Fetching data for AMSWA...\n"
     ]
    },
    {
     "name": "stderr",
     "output_type": "stream",
     "text": [
      "\n",
      "[*********************100%%**********************]  1 of 1 completed\n"
     ]
    },
    {
     "name": "stdout",
     "output_type": "stream",
     "text": [
      "Fetching data for EGHT...\n",
      "Fetching data for OB...\n"
     ]
    },
    {
     "name": "stderr",
     "output_type": "stream",
     "text": [
      "[*********************100%%**********************]  1 of 1 completed\n",
      "[*********************100%%**********************]  1 of 1 completed\n"
     ]
    },
    {
     "name": "stdout",
     "output_type": "stream",
     "text": [
      "Fetching data for BLZE...\n",
      "Fetching data for ASUR...\n"
     ]
    },
    {
     "name": "stderr",
     "output_type": "stream",
     "text": [
      "[*********************100%%**********************]  1 of 1 completed\n",
      "[*********************100%%**********************]  1 of 1 completed\n",
      "[*********************100%%**********************]  1 of 1 completed\n"
     ]
    },
    {
     "name": "stdout",
     "output_type": "stream",
     "text": [
      "Fetching data for NOTE...\n",
      "Fetching data for EGAN...\n",
      "Fetching data for KLTR...\n"
     ]
    },
    {
     "name": "stderr",
     "output_type": "stream",
     "text": [
      "[*********************100%%**********************]  1 of 1 completed\n",
      "[*********************100%%**********************]  1 of 1 completed\n",
      "[*********************100%%**********************]  1 of 1 completed\n"
     ]
    },
    {
     "name": "stdout",
     "output_type": "stream",
     "text": [
      "Fetching data for APPS...\n",
      "Fetching data for EXFY...\n",
      "Fetching data for UPLD...\n"
     ]
    },
    {
     "name": "stderr",
     "output_type": "stream",
     "text": [
      "[*********************100%%**********************]  1 of 1 completed\n",
      "[*********************100%%**********************]  1 of 1 completed\n"
     ]
    },
    {
     "name": "stdout",
     "output_type": "stream",
     "text": [
      "Fetching data for IDN...\n",
      "Fetching data for LPSN...\n"
     ]
    },
    {
     "name": "stderr",
     "output_type": "stream",
     "text": [
      "[*********************100%%**********************]  1 of 1 completed\n",
      "[*********************100%%**********************]  1 of 1 completed\n"
     ]
    },
    {
     "name": "stdout",
     "output_type": "stream",
     "text": [
      "Fetching data for AWRE...\n",
      "Fetching data for APCX...\n"
     ]
    },
    {
     "name": "stderr",
     "output_type": "stream",
     "text": [
      "[*********************100%%**********************]  1 of 1 completed\n",
      "[*********************100%%**********************]  1 of 1 completed\n"
     ]
    },
    {
     "name": "stdout",
     "output_type": "stream",
     "text": [
      "Fetching data for XELA...\n",
      "Fetching data for TWOU...\n"
     ]
    },
    {
     "name": "stderr",
     "output_type": "stream",
     "text": [
      "[*********************100%%**********************]  1 of 1 completed\n",
      "[*********************100%%**********************]  1 of 1 completed"
     ]
    },
    {
     "name": "stdout",
     "output_type": "stream",
     "text": [
      "Fetching data for BLBX...\n"
     ]
    },
    {
     "name": "stderr",
     "output_type": "stream",
     "text": [
      "\n"
     ]
    },
    {
     "name": "stdout",
     "output_type": "stream",
     "text": [
      "Fetching data for MRIN...\n"
     ]
    },
    {
     "name": "stderr",
     "output_type": "stream",
     "text": [
      "[*********************100%%**********************]  1 of 1 completed\n",
      "[*********************100%%**********************]  1 of 1 completed"
     ]
    },
    {
     "name": "stdout",
     "output_type": "stream",
     "text": [
      "Fetching data for MYSZ...\n"
     ]
    },
    {
     "name": "stderr",
     "output_type": "stream",
     "text": [
      "\n"
     ]
    },
    {
     "name": "stdout",
     "output_type": "stream",
     "text": [
      "Historical stock data saved to historical_stock_data_weekly.csv\n"
     ]
    }
   ],
   "source": [
    "#weekly historical stock trend\n",
    "\n",
    "import yfinance as yf\n",
    "import pandas as pd\n",
    "import time\n",
    "import random\n",
    "\n",
    "# Load the CSV file with the Ticker field\n",
    "input_csv_path = 'AllDatav2.csv'  # Update with your actual CSV file path\n",
    "output_csv_path = 'historical_stock_data_weekly.csv'\n",
    "\n",
    "df = pd.read_csv(input_csv_path)\n",
    "\n",
    "# Extract unique tickers from the 'Ticker' column\n",
    "tickers = df['Ticker'].dropna().unique().tolist()\n",
    "\n",
    "# Define the time period for historical data\n",
    "start_date = '2023-01-01'\n",
    "end_date = '2024-07-01'\n",
    "\n",
    "# Function to fetch historical data with retry mechanism\n",
    "def fetch_historical_data(ticker, start_date, end_date, retries=4, base_delay=60, randomize_delay=True):\n",
    "    for attempt in range(retries):\n",
    "        try:\n",
    "            stock_data = yf.download(ticker, start=start_date, end=end_date, interval='1wk')\n",
    "            stock_data['Ticker'] = ticker\n",
    "            return stock_data\n",
    "        except Exception as e:\n",
    "            print(f\"Attempt {attempt + 1} for {ticker} failed: {e}\")\n",
    "            delay = base_delay + random.uniform(0, 15) if randomize_delay else base_delay\n",
    "            time.sleep(delay)\n",
    "    print(f\"All attempts to fetch data for {ticker} failed.\")\n",
    "    return pd.DataFrame()\n",
    "\n",
    "# Create an empty DataFrame to store the historical data\n",
    "all_data = pd.DataFrame()\n",
    "\n",
    "# Loop through each ticker and fetch the historical data\n",
    "for ticker in tickers:\n",
    "    print(f\"Fetching data for {ticker}...\")\n",
    "    stock_data = fetch_historical_data(ticker, start_date, end_date)\n",
    "    if not stock_data.empty:\n",
    "        all_data = pd.concat([all_data, stock_data])\n",
    "\n",
    "# Save the combined data to a CSV file\n",
    "all_data.to_csv(output_csv_path)\n",
    "\n",
    "print(f\"Historical stock data saved to {output_csv_path}\")\n"
   ]
  },
  {
   "cell_type": "code",
   "execution_count": null,
   "metadata": {},
   "outputs": [],
   "source": [
    "#join stock weekly and Trend Data\n",
    "\n"
   ]
  }
 ],
 "metadata": {
  "kernelspec": {
   "display_name": "datascraper",
   "language": "python",
   "name": "python3"
  },
  "language_info": {
   "codemirror_mode": {
    "name": "ipython",
    "version": 3
   },
   "file_extension": ".py",
   "mimetype": "text/x-python",
   "name": "python",
   "nbconvert_exporter": "python",
   "pygments_lexer": "ipython3",
   "version": "3.10.13"
  }
 },
 "nbformat": 4,
 "nbformat_minor": 2
}
